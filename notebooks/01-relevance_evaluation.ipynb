{
 "cells": [
  {
   "cell_type": "code",
   "execution_count": null,
   "id": "f84e2d5a",
   "metadata": {},
   "outputs": [],
   "source": [
    "import pandas as pd\n",
    "from tqdm.auto import tqdm"
   ]
  },
  {
   "cell_type": "code",
   "execution_count": 2,
   "id": "049da44b",
   "metadata": {},
   "outputs": [],
   "source": [
    "column_names = ['wiki_db', 'event_entity', 'event_type', 'event_timestamp', \n",
    "                'event_comment_escaped', 'event_user_id', 'event_user_text_historical_escaped', \n",
    "                'event_user_text_escaped', 'event_user_blocks_historical_string', 'event_user_blocks_string', \n",
    "                'event_user_groups_historical_string', 'event_user_groups_string', \n",
    "                'event_user_is_bot_by_historical_string', 'event_user_is_bot_by_string', \n",
    "                'event_user_is_created_by_self', 'event_user_is_created_by_system', \n",
    "                'event_user_is_created_by_peer', 'event_user_is_anonymous', \n",
    "                'event_user_registration_timestamp', 'event_user_creation_timestamp',\n",
    "                'event_user_first_edit_timestamp', 'event_user_revision_count', \n",
    "                'event_user_seconds_since_previous_revision', 'page_id', \n",
    "                'page_title_historical_escaped', 'page_title_escaped', \n",
    "                'page_namespace_historical', 'page_namespace_is_content_historical',\n",
    "                'page_namespace', 'page_namespace_is_content', 'page_is_redirect', \n",
    "                'page_is_deleted', 'page_creation_timestamp', 'page_first_edit_timestamp', \n",
    "                'page_revision_count', 'page_seconds_since_previous_revision', 'user_id', \n",
    "                'user_text_historical_escaped', 'user_text_escaped', \n",
    "                'user_blocks_historical_string', 'user_blocks_string', \n",
    "                'user_groups_historical_string', 'user_groups_string', \n",
    "                'user_is_bot_by_historical_string', 'user_is_bot_by_string', \n",
    "                'user_is_created_by_self', 'user_is_created_by_system', \n",
    "                'user_is_created_by_peer', 'user_is_anonymous', 'user_registration_timestamp', \n",
    "                'user_creation_timestamp', 'user_first_edit_timestamp', 'revision_id', \n",
    "                'revision_parent_id', 'revision_minor_edit', 'revision_deleted_parts_string',\n",
    "                'revision_deleted_parts_are_suppressed', 'revision_text_bytes', 'revision_text_bytes_diff', \n",
    "                'revision_text_sha1', 'revision_content_model', 'revision_content_format', \n",
    "                'revision_is_deleted_by_page_deletion', 'revision_deleted_by_page_deletion_timestamp', \n",
    "                'revision_is_identity_reverted', 'revision_first_identity_reverting_revision_id', \n",
    "                'revision_seconds_to_identity_revert', 'revision_is_identity_revert', \n",
    "                'revision_is_from_before_page_creation', 'revision_tags_string']\n",
    "\n",
    "columns_to_leave = [\n",
    "    \"event_timestamp\", \"event_user_text_escaped\", \"event_user_is_anonymous\",\n",
    "    \"page_title_escaped\", 'page_seconds_since_previous_revision', \"revision_is_identity_reverted\",\n",
    "]"
   ]
  },
  {
   "cell_type": "markdown",
   "id": "bcb8ca11",
   "metadata": {},
   "source": [
    "# Research questions: \n",
    "1. Revert rate distribution\n",
    "2. Anon rate\n",
    "3. Number of revisions per page\n",
    "4. Number of page views"
   ]
  },
  {
   "cell_type": "code",
   "execution_count": null,
   "id": "d89e73d3",
   "metadata": {
    "scrolled": true
   },
   "outputs": [],
   "source": [
    "chunksize = 10 ** 5\n",
    "filename = \"../../../../Downloads/2023-09.ruwiki.2022.tsv\"\n",
    "filename_2 = \"../../../../Downloads/2023-09.ruwiki.2023.tsv\"\n",
    "dfs = []\n",
    "\n",
    "for df in tqdm(pd.read_table(filename, chunksize=chunksize, names=column_names)):\n",
    "    df = df[df[\"page_namespace\"] == 0]\n",
    "    df = df[df.page_namespace_is_content]\n",
    "    df = df[df[\"event_entity\"] == \"revision\"]\n",
    "    df = df[df['event_user_is_bot_by_historical_string'].isna()]\n",
    "    df = df[columns_to_leave]\n",
    "    dfs.append(df)\n",
    "for df in tqdm(pd.read_table(filename_2, chunksize=chunksize, names=column_names)):\n",
    "    df = df[df[\"page_namespace\"] == 0]\n",
    "    df = df[df.page_namespace_is_content]\n",
    "    df = df[df[\"event_entity\"] == \"revision\"]\n",
    "    df = df[df['event_user_is_bot_by_historical_string'].isna()]\n",
    "    df = df[columns_to_leave]\n",
    "    dfs.append(df)"
   ]
  },
  {
   "cell_type": "code",
   "execution_count": 4,
   "id": "6db81124",
   "metadata": {},
   "outputs": [],
   "source": [
    "df_full = pd.concat(dfs)"
   ]
  },
  {
   "cell_type": "code",
   "execution_count": 5,
   "id": "a65c0b8c",
   "metadata": {},
   "outputs": [
    {
     "name": "stderr",
     "output_type": "stream",
     "text": [
      "100%|██████████| 1035086/1035086 [00:03<00:00, 308965.78it/s]\n"
     ]
    },
    {
     "name": "stdout",
     "output_type": "stream",
     "text": [
      "CPU times: user 1min 10s, sys: 16.2 s, total: 1min 26s\n",
      "Wall time: 1min 31s\n"
     ]
    }
   ],
   "source": [
    "%%time\n",
    "import glob\n",
    "import joblib\n",
    "import pandas as pd\n",
    "import numpy as np\n",
    "from tqdm.auto import tqdm\n",
    "import altair as alt\n",
    "import json\n",
    "\n",
    "tqdm.pandas()\n",
    "\n",
    "extracted_data = joblib.load(\"../data/ru_wiki_extracted_pages.data\")\n",
    "error_data = joblib.load(\"../data/ru_wiki_error_pages.data\")\n",
    "final_data = pd.DataFrame(joblib.load(\"../data/ru_wiki_final_dataset.data\"))\n",
    "with open('../data/ru_reveal_wiki_location.json') as user_file:\n",
    "    ru_reveal_wiki_location = json.load(user_file)\n",
    "\n",
    "locations_dict = dict()\n",
    "for location in tqdm(ru_reveal_wiki_location):\n",
    "    location_key = list(location.keys())[0]\n",
    "    location_values = np.sort(list(location.values())[0])\n",
    "    locations_dict[location_key] = \"_\".join(location_values)\n",
    "    \n",
    "changed_pages = set(final_data[final_data.status.isin([3,4])].page_name.to_list())\n",
    "error_pages = set(final_data[final_data.status.isin([1])].page_name.to_list() + [a[\"page_name\"] for a in error_data])\n",
    "unchanged_pages = set([a[\"page_name\"] for a in extracted_data if a[\"is_duplicate\"]] + final_data[final_data.status.isin([2])].page_name.to_list())"
   ]
  },
  {
   "cell_type": "code",
   "execution_count": 6,
   "id": "288ca648",
   "metadata": {},
   "outputs": [],
   "source": [
    "changed_pages_3 = set(final_data[final_data.status.isin([3])].page_name.to_list())\n",
    "changed_pages_4 = set(final_data[final_data.status.isin([4])].page_name.to_list())"
   ]
  },
  {
   "cell_type": "code",
   "execution_count": 7,
   "id": "ca031154",
   "metadata": {},
   "outputs": [
    {
     "name": "stderr",
     "output_type": "stream",
     "text": [
      "100%|██████████| 193/193 [00:38<00:00,  5.01it/s]\n"
     ]
    }
   ],
   "source": [
    "import glob\n",
    "import joblib\n",
    "import pandas as pd\n",
    "from tqdm.auto import tqdm\n",
    "import altair as alt\n",
    "files = glob.glob('../data/stats/*')\n",
    "all_stats = []\n",
    "for file in tqdm(files):\n",
    "    all_stats += joblib.load(file)\n",
    "    \n",
    "df_stats = pd.DataFrame(all_stats)"
   ]
  },
  {
   "cell_type": "code",
   "execution_count": 8,
   "id": "96e99d57",
   "metadata": {},
   "outputs": [],
   "source": [
    "df_stats_dict = {pn: value for pn, value in zip(df_stats.page_name, df_stats.mean_views)}"
   ]
  },
  {
   "cell_type": "markdown",
   "id": "ffef218b",
   "metadata": {},
   "source": [
    "## Calculating stats"
   ]
  },
  {
   "cell_type": "code",
   "execution_count": 9,
   "id": "d63739b9",
   "metadata": {
    "scrolled": true
   },
   "outputs": [
    {
     "data": {
      "text/html": [
       "<div>\n",
       "<style scoped>\n",
       "    .dataframe tbody tr th:only-of-type {\n",
       "        vertical-align: middle;\n",
       "    }\n",
       "\n",
       "    .dataframe tbody tr th {\n",
       "        vertical-align: top;\n",
       "    }\n",
       "\n",
       "    .dataframe thead th {\n",
       "        text-align: right;\n",
       "    }\n",
       "</style>\n",
       "<table border=\"1\" class=\"dataframe\">\n",
       "  <thead>\n",
       "    <tr style=\"text-align: right;\">\n",
       "      <th></th>\n",
       "      <th>event_timestamp</th>\n",
       "      <th>event_user_text_escaped</th>\n",
       "      <th>event_user_is_anonymous</th>\n",
       "      <th>page_title_escaped</th>\n",
       "      <th>page_seconds_since_previous_revision</th>\n",
       "      <th>revision_is_identity_reverted</th>\n",
       "    </tr>\n",
       "  </thead>\n",
       "  <tbody>\n",
       "    <tr>\n",
       "      <th>0</th>\n",
       "      <td>2022-01-01 00:00:24.0</td>\n",
       "      <td>Dmitri Lytov</td>\n",
       "      <td>False</td>\n",
       "      <td>Вишневская,_Галина_Павловна</td>\n",
       "      <td>3505092.0</td>\n",
       "      <td>False</td>\n",
       "    </tr>\n",
       "    <tr>\n",
       "      <th>5</th>\n",
       "      <td>2022-01-01 00:00:37.0</td>\n",
       "      <td>Криворучка</td>\n",
       "      <td>False</td>\n",
       "      <td>Профессионалы.ру</td>\n",
       "      <td>292.0</td>\n",
       "      <td>False</td>\n",
       "    </tr>\n",
       "    <tr>\n",
       "      <th>6</th>\n",
       "      <td>2022-01-01 00:00:44.0</td>\n",
       "      <td>Bogdanov-62</td>\n",
       "      <td>False</td>\n",
       "      <td>Хёрд,_Уильям_Теодор</td>\n",
       "      <td>118402068.0</td>\n",
       "      <td>False</td>\n",
       "    </tr>\n",
       "    <tr>\n",
       "      <th>8</th>\n",
       "      <td>2022-01-01 00:00:51.0</td>\n",
       "      <td>Михаил Тум</td>\n",
       "      <td>False</td>\n",
       "      <td>Электровозы_российских_железных_дорог_и_железн...</td>\n",
       "      <td>158914.0</td>\n",
       "      <td>False</td>\n",
       "    </tr>\n",
       "    <tr>\n",
       "      <th>10</th>\n",
       "      <td>2022-01-01 00:00:58.0</td>\n",
       "      <td>Bogdanov-62</td>\n",
       "      <td>False</td>\n",
       "      <td>Фумасони_Бьонди,_Пьетро</td>\n",
       "      <td>111484529.0</td>\n",
       "      <td>False</td>\n",
       "    </tr>\n",
       "  </tbody>\n",
       "</table>\n",
       "</div>"
      ],
      "text/plain": [
       "          event_timestamp event_user_text_escaped event_user_is_anonymous  \\\n",
       "0   2022-01-01 00:00:24.0            Dmitri Lytov                   False   \n",
       "5   2022-01-01 00:00:37.0              Криворучка                   False   \n",
       "6   2022-01-01 00:00:44.0             Bogdanov-62                   False   \n",
       "8   2022-01-01 00:00:51.0              Михаил Тум                   False   \n",
       "10  2022-01-01 00:00:58.0             Bogdanov-62                   False   \n",
       "\n",
       "                                   page_title_escaped  \\\n",
       "0                         Вишневская,_Галина_Павловна   \n",
       "5                                    Профессионалы.ру   \n",
       "6                                 Хёрд,_Уильям_Теодор   \n",
       "8   Электровозы_российских_железных_дорог_и_железн...   \n",
       "10                            Фумасони_Бьонди,_Пьетро   \n",
       "\n",
       "    page_seconds_since_previous_revision revision_is_identity_reverted  \n",
       "0                              3505092.0                         False  \n",
       "5                                  292.0                         False  \n",
       "6                            118402068.0                         False  \n",
       "8                               158914.0                         False  \n",
       "10                           111484529.0                         False  "
      ]
     },
     "execution_count": 9,
     "metadata": {},
     "output_type": "execute_result"
    }
   ],
   "source": [
    "df_full.head()"
   ]
  },
  {
   "cell_type": "code",
   "execution_count": 13,
   "id": "21c410af",
   "metadata": {},
   "outputs": [],
   "source": [
    "revisions_count = df_full.groupby(\"page_title_escaped\")[\"event_timestamp\"].count().to_dict()\n",
    "\n",
    "bool_dict = {True: True, False: False, \"true\": True, \"false\": False, \"True\": True, \"False\": False}\n",
    "df_full.event_user_is_anonymous = df_full.event_user_is_anonymous.fillna(\"False\").map(bool_dict)\n",
    "df_full.revision_is_identity_reverted = df_full.revision_is_identity_reverted.fillna(\"False\").map(bool_dict).astype(int)\n",
    "\n",
    "anon_rate = df_full.groupby(\"page_title_escaped\")[\"event_user_is_anonymous\"].mean().to_dict()\n",
    "revert_rate = df_full.groupby(\"page_title_escaped\")[\"revision_is_identity_reverted\"].mean().to_dict()\n",
    "change_time = df_full.groupby(\"page_title_escaped\")[\"page_seconds_since_previous_revision\"].mean().to_dict()"
   ]
  },
  {
   "cell_type": "code",
   "execution_count": 14,
   "id": "1f525f28",
   "metadata": {},
   "outputs": [],
   "source": [
    "changed_pages_list = list(changed_pages)\n",
    "error_pages_list = list(error_pages)\n",
    "unchanged_pages_list = list(unchanged_pages)\n",
    "changed_pages_list_3 = list(changed_pages_3)\n",
    "changed_pages_list_4 = list(changed_pages_4)\n",
    "\n",
    "changed_pages_revcount = [revisions_count.get(str(t).replace(\" \", \"_\"), 0) for t in changed_pages_list]\n",
    "error_pages_revcount = [revisions_count.get(str(t).replace(\" \", \"_\"), 0) for t in error_pages_list]\n",
    "unchanged_pages_revcount = [revisions_count.get(str(t).replace(\" \", \"_\"), 0) for t in unchanged_pages_list]\n",
    "changed_pages_revcount_3 = [revisions_count.get(str(t).replace(\" \", \"_\"), 0) for t in changed_pages_list_3]\n",
    "changed_pages_revcount_4 = [revisions_count.get(str(t).replace(\" \", \"_\"), 0) for t in changed_pages_list_4]\n",
    "\n",
    "changed_pages_anon = [anon_rate.get(str(t).replace(\" \", \"_\")) for t in changed_pages_list]\n",
    "error_pages_anon = [anon_rate.get(str(t).replace(\" \", \"_\")) for t in error_pages_list]\n",
    "unchanged_pages_anon = [anon_rate.get(str(t).replace(\" \", \"_\")) for t in unchanged_pages_list]\n",
    "changed_pages_anon_3 = [anon_rate.get(str(t).replace(\" \", \"_\")) for t in changed_pages_list_3]\n",
    "changed_pages_anon_4 = [anon_rate.get(str(t).replace(\" \", \"_\")) for t in changed_pages_list_4]\n",
    "\n",
    "changed_pages_revert = [revert_rate.get(str(t).replace(\" \", \"_\")) for t in changed_pages_list]\n",
    "error_pages_revert = [revert_rate.get(str(t).replace(\" \", \"_\")) for t in error_pages_list]\n",
    "unchanged_pages_revert = [revert_rate.get(str(t).replace(\" \", \"_\")) for t in unchanged_pages_list]\n",
    "changed_pages_revert_3 = [revert_rate.get(str(t).replace(\" \", \"_\")) for t in changed_pages_list_3]\n",
    "changed_pages_revert_4 = [revert_rate.get(str(t).replace(\" \", \"_\")) for t in changed_pages_list_4]\n",
    "\n",
    "changed_pages_views = [df_stats_dict.get(str(t).replace(\" \", \"_\")) for t in changed_pages_list]\n",
    "error_pages_views = [df_stats_dict.get(str(t).replace(\" \", \"_\")) for t in error_pages_list]\n",
    "unchanged_pages_views = [df_stats_dict.get(str(t).replace(\" \", \"_\")) for t in unchanged_pages_list]\n",
    "changed_pages_views_3 = [df_stats_dict.get(str(t).replace(\" \", \"_\")) for t in changed_pages_list_3]\n",
    "changed_pages_views_4 = [df_stats_dict.get(str(t).replace(\" \", \"_\")) for t in changed_pages_list_4]\n"
   ]
  },
  {
   "cell_type": "code",
   "execution_count": 34,
   "id": "5a52e8f1",
   "metadata": {},
   "outputs": [],
   "source": [
    "df_stats = pd.DataFrame({\n",
    "    \"page_title\": changed_pages_list + error_pages_list + unchanged_pages_list, \n",
    "    \"page_type\": [\"changed\"] * len(changed_pages) +  [\"missing\"] * len(error_pages) + [\"duplicated\"] * len(unchanged_pages),   \n",
    "    \"edit_count\": changed_pages_revcount + error_pages_revcount + unchanged_pages_revcount,\n",
    "    \"anon_rate\": changed_pages_anon + error_pages_anon + unchanged_pages_anon,\n",
    "    \"revert_rate\": changed_pages_revert + error_pages_revert + unchanged_pages_revert,\n",
    "    \"page_views\": changed_pages_views + error_pages_views + unchanged_pages_views\n",
    "})\n",
    "\n",
    "df_stats_detailed = pd.DataFrame({\n",
    "    \"page_title\": changed_pages_list_3 + changed_pages_list_4 + error_pages_list + unchanged_pages_list, \n",
    "    \"page_type\": [\"changed_3\"] * len(changed_pages_3) + [\"changed_4\"] * len(changed_pages_4) +  [\"missing\"] * len(error_pages) + [\"duplicated\"] * len(unchanged_pages),   \n",
    "    \"edit_count\": changed_pages_revcount_3 + changed_pages_revcount_4 + error_pages_revcount + unchanged_pages_revcount,\n",
    "    \"anon_rate\": changed_pages_anon_3 + changed_pages_anon_4 + error_pages_anon + unchanged_pages_anon,\n",
    "    \"revert_rate\": changed_pages_revert_3 + changed_pages_revert_4 + error_pages_revert + unchanged_pages_revert,\n",
    "    \"page_views\": changed_pages_views_3 + changed_pages_views_4 + error_pages_views + unchanged_pages_views\n",
    "})"
   ]
  },
  {
   "cell_type": "code",
   "execution_count": 35,
   "id": "6f6c2b1f",
   "metadata": {},
   "outputs": [],
   "source": [
    "df_stats[\"unedited\"] = df_stats.edit_count == 0"
   ]
  },
  {
   "cell_type": "code",
   "execution_count": 36,
   "id": "9a7f83a1",
   "metadata": {},
   "outputs": [
    {
     "data": {
      "text/plain": [
       "page_type\n",
       "changed       0.192758\n",
       "duplicated    0.422698\n",
       "missing       0.018146\n",
       "Name: unedited, dtype: float64"
      ]
     },
     "execution_count": 36,
     "metadata": {},
     "output_type": "execute_result"
    }
   ],
   "source": [
    "df_stats.groupby(\"page_type\").unedited.mean()"
   ]
  },
  {
   "cell_type": "code",
   "execution_count": 37,
   "id": "a8dcf40f",
   "metadata": {},
   "outputs": [
    {
     "data": {
      "text/html": [
       "<div>\n",
       "<style scoped>\n",
       "    .dataframe tbody tr th:only-of-type {\n",
       "        vertical-align: middle;\n",
       "    }\n",
       "\n",
       "    .dataframe tbody tr th {\n",
       "        vertical-align: top;\n",
       "    }\n",
       "\n",
       "    .dataframe thead th {\n",
       "        text-align: right;\n",
       "    }\n",
       "</style>\n",
       "<table border=\"1\" class=\"dataframe\">\n",
       "  <thead>\n",
       "    <tr style=\"text-align: right;\">\n",
       "      <th></th>\n",
       "      <th>count</th>\n",
       "      <th>mean</th>\n",
       "      <th>std</th>\n",
       "      <th>min</th>\n",
       "      <th>25%</th>\n",
       "      <th>50%</th>\n",
       "      <th>75%</th>\n",
       "      <th>max</th>\n",
       "    </tr>\n",
       "    <tr>\n",
       "      <th>page_type</th>\n",
       "      <th></th>\n",
       "      <th></th>\n",
       "      <th></th>\n",
       "      <th></th>\n",
       "      <th></th>\n",
       "      <th></th>\n",
       "      <th></th>\n",
       "      <th></th>\n",
       "    </tr>\n",
       "  </thead>\n",
       "  <tbody>\n",
       "    <tr>\n",
       "      <th>changed</th>\n",
       "      <td>27175.0</td>\n",
       "      <td>25.237203</td>\n",
       "      <td>91.630736</td>\n",
       "      <td>1.0</td>\n",
       "      <td>2.0</td>\n",
       "      <td>6.0</td>\n",
       "      <td>20.0</td>\n",
       "      <td>10537.0</td>\n",
       "    </tr>\n",
       "    <tr>\n",
       "      <th>duplicated</th>\n",
       "      <td>1081889.0</td>\n",
       "      <td>6.007449</td>\n",
       "      <td>21.934085</td>\n",
       "      <td>1.0</td>\n",
       "      <td>1.0</td>\n",
       "      <td>2.0</td>\n",
       "      <td>5.0</td>\n",
       "      <td>13484.0</td>\n",
       "    </tr>\n",
       "    <tr>\n",
       "      <th>missing</th>\n",
       "      <td>17423.0</td>\n",
       "      <td>12.866957</td>\n",
       "      <td>96.247009</td>\n",
       "      <td>1.0</td>\n",
       "      <td>2.0</td>\n",
       "      <td>4.0</td>\n",
       "      <td>8.0</td>\n",
       "      <td>9991.0</td>\n",
       "    </tr>\n",
       "  </tbody>\n",
       "</table>\n",
       "</div>"
      ],
      "text/plain": [
       "                count       mean        std  min  25%  50%   75%      max\n",
       "page_type                                                                \n",
       "changed       27175.0  25.237203  91.630736  1.0  2.0  6.0  20.0  10537.0\n",
       "duplicated  1081889.0   6.007449  21.934085  1.0  1.0  2.0   5.0  13484.0\n",
       "missing       17423.0  12.866957  96.247009  1.0  2.0  4.0   8.0   9991.0"
      ]
     },
     "execution_count": 37,
     "metadata": {},
     "output_type": "execute_result"
    }
   ],
   "source": [
    "df_stats[df_stats.unedited == False].groupby(\"page_type\").edit_count.describe()"
   ]
  },
  {
   "cell_type": "code",
   "execution_count": 188,
   "id": "bbadafd9",
   "metadata": {},
   "outputs": [
    {
     "data": {
      "text/html": [
       "<div>\n",
       "<style scoped>\n",
       "    .dataframe tbody tr th:only-of-type {\n",
       "        vertical-align: middle;\n",
       "    }\n",
       "\n",
       "    .dataframe tbody tr th {\n",
       "        vertical-align: top;\n",
       "    }\n",
       "\n",
       "    .dataframe thead th {\n",
       "        text-align: right;\n",
       "    }\n",
       "</style>\n",
       "<table border=\"1\" class=\"dataframe\">\n",
       "  <thead>\n",
       "    <tr style=\"text-align: right;\">\n",
       "      <th></th>\n",
       "      <th>count</th>\n",
       "      <th>mean</th>\n",
       "      <th>std</th>\n",
       "      <th>min</th>\n",
       "      <th>25%</th>\n",
       "      <th>50%</th>\n",
       "      <th>75%</th>\n",
       "      <th>max</th>\n",
       "    </tr>\n",
       "    <tr>\n",
       "      <th>page_type</th>\n",
       "      <th></th>\n",
       "      <th></th>\n",
       "      <th></th>\n",
       "      <th></th>\n",
       "      <th></th>\n",
       "      <th></th>\n",
       "      <th></th>\n",
       "      <th></th>\n",
       "    </tr>\n",
       "  </thead>\n",
       "  <tbody>\n",
       "    <tr>\n",
       "      <th>changed</th>\n",
       "      <td>27175.0</td>\n",
       "      <td>0.209835</td>\n",
       "      <td>0.258025</td>\n",
       "      <td>0.0</td>\n",
       "      <td>0.0</td>\n",
       "      <td>0.111111</td>\n",
       "      <td>0.357143</td>\n",
       "      <td>1.0</td>\n",
       "    </tr>\n",
       "    <tr>\n",
       "      <th>duplicated</th>\n",
       "      <td>1081889.0</td>\n",
       "      <td>0.162780</td>\n",
       "      <td>0.288923</td>\n",
       "      <td>0.0</td>\n",
       "      <td>0.0</td>\n",
       "      <td>0.000000</td>\n",
       "      <td>0.250000</td>\n",
       "      <td>1.0</td>\n",
       "    </tr>\n",
       "    <tr>\n",
       "      <th>missing</th>\n",
       "      <td>17423.0</td>\n",
       "      <td>0.060875</td>\n",
       "      <td>0.171231</td>\n",
       "      <td>0.0</td>\n",
       "      <td>0.0</td>\n",
       "      <td>0.000000</td>\n",
       "      <td>0.000000</td>\n",
       "      <td>1.0</td>\n",
       "    </tr>\n",
       "  </tbody>\n",
       "</table>\n",
       "</div>"
      ],
      "text/plain": [
       "                count      mean       std  min  25%       50%       75%  max\n",
       "page_type                                                                   \n",
       "changed       27175.0  0.209835  0.258025  0.0  0.0  0.111111  0.357143  1.0\n",
       "duplicated  1081889.0  0.162780  0.288923  0.0  0.0  0.000000  0.250000  1.0\n",
       "missing       17423.0  0.060875  0.171231  0.0  0.0  0.000000  0.000000  1.0"
      ]
     },
     "execution_count": 188,
     "metadata": {},
     "output_type": "execute_result"
    }
   ],
   "source": [
    "df_stats[df_stats.unedited == False].groupby(\"page_type\").anon_rate.describe()"
   ]
  },
  {
   "cell_type": "code",
   "execution_count": 189,
   "id": "32fe5b15",
   "metadata": {},
   "outputs": [
    {
     "data": {
      "text/html": [
       "<div>\n",
       "<style scoped>\n",
       "    .dataframe tbody tr th:only-of-type {\n",
       "        vertical-align: middle;\n",
       "    }\n",
       "\n",
       "    .dataframe tbody tr th {\n",
       "        vertical-align: top;\n",
       "    }\n",
       "\n",
       "    .dataframe thead th {\n",
       "        text-align: right;\n",
       "    }\n",
       "</style>\n",
       "<table border=\"1\" class=\"dataframe\">\n",
       "  <thead>\n",
       "    <tr style=\"text-align: right;\">\n",
       "      <th></th>\n",
       "      <th>count</th>\n",
       "      <th>mean</th>\n",
       "      <th>std</th>\n",
       "      <th>min</th>\n",
       "      <th>25%</th>\n",
       "      <th>50%</th>\n",
       "      <th>75%</th>\n",
       "      <th>max</th>\n",
       "    </tr>\n",
       "    <tr>\n",
       "      <th>page_type</th>\n",
       "      <th></th>\n",
       "      <th></th>\n",
       "      <th></th>\n",
       "      <th></th>\n",
       "      <th></th>\n",
       "      <th></th>\n",
       "      <th></th>\n",
       "      <th></th>\n",
       "    </tr>\n",
       "  </thead>\n",
       "  <tbody>\n",
       "    <tr>\n",
       "      <th>changed</th>\n",
       "      <td>27175.0</td>\n",
       "      <td>0.103244</td>\n",
       "      <td>0.174092</td>\n",
       "      <td>0.0</td>\n",
       "      <td>0.0</td>\n",
       "      <td>0.0</td>\n",
       "      <td>0.163934</td>\n",
       "      <td>1.000000</td>\n",
       "    </tr>\n",
       "    <tr>\n",
       "      <th>duplicated</th>\n",
       "      <td>1081889.0</td>\n",
       "      <td>0.040488</td>\n",
       "      <td>0.123778</td>\n",
       "      <td>0.0</td>\n",
       "      <td>0.0</td>\n",
       "      <td>0.0</td>\n",
       "      <td>0.000000</td>\n",
       "      <td>1.000000</td>\n",
       "    </tr>\n",
       "    <tr>\n",
       "      <th>missing</th>\n",
       "      <td>17423.0</td>\n",
       "      <td>0.014747</td>\n",
       "      <td>0.063371</td>\n",
       "      <td>0.0</td>\n",
       "      <td>0.0</td>\n",
       "      <td>0.0</td>\n",
       "      <td>0.000000</td>\n",
       "      <td>0.964286</td>\n",
       "    </tr>\n",
       "  </tbody>\n",
       "</table>\n",
       "</div>"
      ],
      "text/plain": [
       "                count      mean       std  min  25%  50%       75%       max\n",
       "page_type                                                                   \n",
       "changed       27175.0  0.103244  0.174092  0.0  0.0  0.0  0.163934  1.000000\n",
       "duplicated  1081889.0  0.040488  0.123778  0.0  0.0  0.0  0.000000  1.000000\n",
       "missing       17423.0  0.014747  0.063371  0.0  0.0  0.0  0.000000  0.964286"
      ]
     },
     "execution_count": 189,
     "metadata": {},
     "output_type": "execute_result"
    }
   ],
   "source": [
    "df_stats[df_stats.unedited == False].groupby(\"page_type\").revert_rate.describe()"
   ]
  },
  {
   "cell_type": "code",
   "execution_count": 190,
   "id": "26f6244e",
   "metadata": {},
   "outputs": [
    {
     "data": {
      "text/html": [
       "<div>\n",
       "<style scoped>\n",
       "    .dataframe tbody tr th:only-of-type {\n",
       "        vertical-align: middle;\n",
       "    }\n",
       "\n",
       "    .dataframe tbody tr th {\n",
       "        vertical-align: top;\n",
       "    }\n",
       "\n",
       "    .dataframe thead th {\n",
       "        text-align: right;\n",
       "    }\n",
       "</style>\n",
       "<table border=\"1\" class=\"dataframe\">\n",
       "  <thead>\n",
       "    <tr style=\"text-align: right;\">\n",
       "      <th></th>\n",
       "      <th>count</th>\n",
       "      <th>mean</th>\n",
       "      <th>std</th>\n",
       "      <th>min</th>\n",
       "      <th>25%</th>\n",
       "      <th>50%</th>\n",
       "      <th>75%</th>\n",
       "      <th>max</th>\n",
       "    </tr>\n",
       "    <tr>\n",
       "      <th>page_type</th>\n",
       "      <th></th>\n",
       "      <th></th>\n",
       "      <th></th>\n",
       "      <th></th>\n",
       "      <th></th>\n",
       "      <th></th>\n",
       "      <th></th>\n",
       "      <th></th>\n",
       "    </tr>\n",
       "  </thead>\n",
       "  <tbody>\n",
       "    <tr>\n",
       "      <th>changed</th>\n",
       "      <td>27175.0</td>\n",
       "      <td>0.103244</td>\n",
       "      <td>0.174092</td>\n",
       "      <td>0.0</td>\n",
       "      <td>0.0</td>\n",
       "      <td>0.0</td>\n",
       "      <td>0.163934</td>\n",
       "      <td>1.000000</td>\n",
       "    </tr>\n",
       "    <tr>\n",
       "      <th>duplicated</th>\n",
       "      <td>1081889.0</td>\n",
       "      <td>0.040488</td>\n",
       "      <td>0.123778</td>\n",
       "      <td>0.0</td>\n",
       "      <td>0.0</td>\n",
       "      <td>0.0</td>\n",
       "      <td>0.000000</td>\n",
       "      <td>1.000000</td>\n",
       "    </tr>\n",
       "    <tr>\n",
       "      <th>missing</th>\n",
       "      <td>17423.0</td>\n",
       "      <td>0.014747</td>\n",
       "      <td>0.063371</td>\n",
       "      <td>0.0</td>\n",
       "      <td>0.0</td>\n",
       "      <td>0.0</td>\n",
       "      <td>0.000000</td>\n",
       "      <td>0.964286</td>\n",
       "    </tr>\n",
       "  </tbody>\n",
       "</table>\n",
       "</div>"
      ],
      "text/plain": [
       "                count      mean       std  min  25%  50%       75%       max\n",
       "page_type                                                                   \n",
       "changed       27175.0  0.103244  0.174092  0.0  0.0  0.0  0.163934  1.000000\n",
       "duplicated  1081889.0  0.040488  0.123778  0.0  0.0  0.0  0.000000  1.000000\n",
       "missing       17423.0  0.014747  0.063371  0.0  0.0  0.0  0.000000  0.964286"
      ]
     },
     "execution_count": 190,
     "metadata": {},
     "output_type": "execute_result"
    }
   ],
   "source": [
    "df_stats.groupby(\"page_type\").revert_rate.describe()"
   ]
  },
  {
   "cell_type": "code",
   "execution_count": 229,
   "id": "68918196",
   "metadata": {},
   "outputs": [
    {
     "data": {
      "text/html": [
       "<div>\n",
       "<style scoped>\n",
       "    .dataframe tbody tr th:only-of-type {\n",
       "        vertical-align: middle;\n",
       "    }\n",
       "\n",
       "    .dataframe tbody tr th {\n",
       "        vertical-align: top;\n",
       "    }\n",
       "\n",
       "    .dataframe thead th {\n",
       "        text-align: right;\n",
       "    }\n",
       "</style>\n",
       "<table border=\"1\" class=\"dataframe\">\n",
       "  <thead>\n",
       "    <tr style=\"text-align: right;\">\n",
       "      <th></th>\n",
       "      <th>count</th>\n",
       "      <th>mean</th>\n",
       "      <th>std</th>\n",
       "      <th>min</th>\n",
       "      <th>25%</th>\n",
       "      <th>50%</th>\n",
       "      <th>75%</th>\n",
       "      <th>max</th>\n",
       "    </tr>\n",
       "    <tr>\n",
       "      <th>page_type</th>\n",
       "      <th></th>\n",
       "      <th></th>\n",
       "      <th></th>\n",
       "      <th></th>\n",
       "      <th></th>\n",
       "      <th></th>\n",
       "      <th></th>\n",
       "      <th></th>\n",
       "    </tr>\n",
       "  </thead>\n",
       "  <tbody>\n",
       "    <tr>\n",
       "      <th>changed</th>\n",
       "      <td>6744.0</td>\n",
       "      <td>4190.716340</td>\n",
       "      <td>25951.172350</td>\n",
       "      <td>0.0</td>\n",
       "      <td>19.40</td>\n",
       "      <td>108.7</td>\n",
       "      <td>1338.350</td>\n",
       "      <td>1171779.2</td>\n",
       "    </tr>\n",
       "    <tr>\n",
       "      <th>duplicated</th>\n",
       "      <td>402408.0</td>\n",
       "      <td>421.870160</td>\n",
       "      <td>2645.309912</td>\n",
       "      <td>0.0</td>\n",
       "      <td>4.80</td>\n",
       "      <td>16.6</td>\n",
       "      <td>94.400</td>\n",
       "      <td>738782.6</td>\n",
       "    </tr>\n",
       "    <tr>\n",
       "      <th>missing</th>\n",
       "      <td>2038.0</td>\n",
       "      <td>410.158677</td>\n",
       "      <td>3238.590114</td>\n",
       "      <td>0.6</td>\n",
       "      <td>6.25</td>\n",
       "      <td>11.0</td>\n",
       "      <td>41.475</td>\n",
       "      <td>82795.4</td>\n",
       "    </tr>\n",
       "  </tbody>\n",
       "</table>\n",
       "</div>"
      ],
      "text/plain": [
       "               count         mean           std  min    25%    50%       75%  \\\n",
       "page_type                                                                      \n",
       "changed       6744.0  4190.716340  25951.172350  0.0  19.40  108.7  1338.350   \n",
       "duplicated  402408.0   421.870160   2645.309912  0.0   4.80   16.6    94.400   \n",
       "missing       2038.0   410.158677   3238.590114  0.6   6.25   11.0    41.475   \n",
       "\n",
       "                  max  \n",
       "page_type              \n",
       "changed     1171779.2  \n",
       "duplicated   738782.6  \n",
       "missing       82795.4  "
      ]
     },
     "execution_count": 229,
     "metadata": {},
     "output_type": "execute_result"
    }
   ],
   "source": [
    "df_stats.groupby(\"page_type\").page_views.describe()"
   ]
  },
  {
   "cell_type": "code",
   "execution_count": 40,
   "id": "1bde9d02",
   "metadata": {},
   "outputs": [
    {
     "data": {
      "text/plain": [
       "0.14211959997359686"
      ]
     },
     "execution_count": 40,
     "metadata": {},
     "output_type": "execute_result"
    }
   ],
   "source": [
    "# df_stats[df_stats.page_type.isin([\"changed_3\", \"changed_4\"])].edit_count.sum()\n",
    "df_stats[df_stats.page_type.isin([\"changed\"])].page_views.sum() / df_stats.page_views.sum()"
   ]
  },
  {
   "cell_type": "code",
   "execution_count": 41,
   "id": "01a195b3",
   "metadata": {},
   "outputs": [
    {
     "data": {
      "text/plain": [
       "0.04631556751144511"
      ]
     },
     "execution_count": 41,
     "metadata": {},
     "output_type": "execute_result"
    }
   ],
   "source": [
    "df_stats_detailed[df_stats_detailed.page_type.isin([\"changed_3\"])].page_views.sum() / df_stats_detailed.page_views.sum()"
   ]
  },
  {
   "cell_type": "code",
   "execution_count": 42,
   "id": "e716b8db",
   "metadata": {},
   "outputs": [
    {
     "data": {
      "text/plain": [
       "0.09580403246215173"
      ]
     },
     "execution_count": 42,
     "metadata": {},
     "output_type": "execute_result"
    }
   ],
   "source": [
    "df_stats_detailed[df_stats_detailed.page_type.isin([\"changed_4\"])].page_views.sum() / df_stats_detailed.page_views.sum()"
   ]
  },
  {
   "cell_type": "code",
   "execution_count": 44,
   "id": "5b2d7812",
   "metadata": {},
   "outputs": [
    {
     "data": {
      "text/plain": [
       "0.01748368694727264"
      ]
     },
     "execution_count": 44,
     "metadata": {},
     "output_type": "execute_result"
    }
   ],
   "source": [
    "len(df_stats[df_stats.page_type.isin([\"changed\"])]) / len(df_stats)"
   ]
  },
  {
   "cell_type": "markdown",
   "id": "a44c6102",
   "metadata": {},
   "source": [
    "# Building bootstrap stats: "
   ]
  },
  {
   "cell_type": "code",
   "execution_count": 236,
   "id": "101ce413",
   "metadata": {},
   "outputs": [],
   "source": [
    "def draw_bs_replicates(data, func, size):\n",
    "    \"\"\"creates a bootstrap sample, computes replicates and returns replicates array\"\"\"\n",
    "    # Create an empty array to store replicates\n",
    "    bs_replicates = np.empty(size)\n",
    "    \n",
    "    # Create bootstrap replicates as much as size\n",
    "    for i in tqdm(range(size)):\n",
    "        # Create a bootstrap sample\n",
    "        bs_sample = np.random.choice(data, size=10**3)  # always take 10K samples with replication\n",
    "        # Get bootstrap replicate and append to bs_replicates\n",
    "        bs_replicates[i] = func(bs_sample)\n",
    "    \n",
    "    return bs_replicates"
   ]
  },
  {
   "cell_type": "code",
   "execution_count": 244,
   "id": "fe0226da",
   "metadata": {},
   "outputs": [
    {
     "data": {
      "application/vnd.jupyter.widget-view+json": {
       "model_id": "3a41bbc7fc194e788df700bf95ce2fe2",
       "version_major": 2,
       "version_minor": 0
      },
      "text/plain": [
       "  0%|          | 0/4 [00:00<?, ?it/s]"
      ]
     },
     "metadata": {},
     "output_type": "display_data"
    },
    {
     "data": {
      "application/vnd.jupyter.widget-view+json": {
       "model_id": "a70e0b6ec14f48a1b986b4d3935dae3b",
       "version_major": 2,
       "version_minor": 0
      },
      "text/plain": [
       "  0%|          | 0/10000 [00:00<?, ?it/s]"
      ]
     },
     "metadata": {},
     "output_type": "display_data"
    },
    {
     "data": {
      "application/vnd.jupyter.widget-view+json": {
       "model_id": "926af221359f40f4a15675606665ce98",
       "version_major": 2,
       "version_minor": 0
      },
      "text/plain": [
       "  0%|          | 0/10000 [00:00<?, ?it/s]"
      ]
     },
     "metadata": {},
     "output_type": "display_data"
    },
    {
     "data": {
      "application/vnd.jupyter.widget-view+json": {
       "model_id": "4843f279d23b4bef91320d3f1b10d123",
       "version_major": 2,
       "version_minor": 0
      },
      "text/plain": [
       "  0%|          | 0/10000 [00:00<?, ?it/s]"
      ]
     },
     "metadata": {},
     "output_type": "display_data"
    },
    {
     "data": {
      "application/vnd.jupyter.widget-view+json": {
       "model_id": "7072ace8df6d44ba8e3d9ebef2331b9b",
       "version_major": 2,
       "version_minor": 0
      },
      "text/plain": [
       "  0%|          | 0/10000 [00:00<?, ?it/s]"
      ]
     },
     "metadata": {},
     "output_type": "display_data"
    },
    {
     "data": {
      "application/vnd.jupyter.widget-view+json": {
       "model_id": "e3657703260243e2b0fbc987a5a4b8ed",
       "version_major": 2,
       "version_minor": 0
      },
      "text/plain": [
       "  0%|          | 0/10000 [00:00<?, ?it/s]"
      ]
     },
     "metadata": {},
     "output_type": "display_data"
    },
    {
     "data": {
      "application/vnd.jupyter.widget-view+json": {
       "model_id": "a2139546cc4a416e99ae0ca1c1039119",
       "version_major": 2,
       "version_minor": 0
      },
      "text/plain": [
       "  0%|          | 0/10000 [00:00<?, ?it/s]"
      ]
     },
     "metadata": {},
     "output_type": "display_data"
    },
    {
     "data": {
      "application/vnd.jupyter.widget-view+json": {
       "model_id": "edf29dcea2df422d81c7b41e3f0ecadb",
       "version_major": 2,
       "version_minor": 0
      },
      "text/plain": [
       "  0%|          | 0/10000 [00:00<?, ?it/s]"
      ]
     },
     "metadata": {},
     "output_type": "display_data"
    },
    {
     "data": {
      "application/vnd.jupyter.widget-view+json": {
       "model_id": "702d7f6da0e442eca07d23ffc2211044",
       "version_major": 2,
       "version_minor": 0
      },
      "text/plain": [
       "  0%|          | 0/10000 [00:00<?, ?it/s]"
      ]
     },
     "metadata": {},
     "output_type": "display_data"
    },
    {
     "data": {
      "application/vnd.jupyter.widget-view+json": {
       "model_id": "a7a2e0d3808b4036a0cf2eb8850136f7",
       "version_major": 2,
       "version_minor": 0
      },
      "text/plain": [
       "  0%|          | 0/10000 [00:00<?, ?it/s]"
      ]
     },
     "metadata": {},
     "output_type": "display_data"
    },
    {
     "data": {
      "application/vnd.jupyter.widget-view+json": {
       "model_id": "b4bbd877e0e24738a246024281a31603",
       "version_major": 2,
       "version_minor": 0
      },
      "text/plain": [
       "  0%|          | 0/10000 [00:00<?, ?it/s]"
      ]
     },
     "metadata": {},
     "output_type": "display_data"
    },
    {
     "data": {
      "application/vnd.jupyter.widget-view+json": {
       "model_id": "d03323431e46496bb673423ff8acf255",
       "version_major": 2,
       "version_minor": 0
      },
      "text/plain": [
       "  0%|          | 0/10000 [00:00<?, ?it/s]"
      ]
     },
     "metadata": {},
     "output_type": "display_data"
    },
    {
     "data": {
      "application/vnd.jupyter.widget-view+json": {
       "model_id": "47a90a43f9704de19d292a85b9b0df1a",
       "version_major": 2,
       "version_minor": 0
      },
      "text/plain": [
       "  0%|          | 0/10000 [00:00<?, ?it/s]"
      ]
     },
     "metadata": {},
     "output_type": "display_data"
    }
   ],
   "source": [
    "stats = []\n",
    "types = []\n",
    "means = []\n",
    "x_top = []\n",
    "x_bottom = []\n",
    "\n",
    "for stat in tqdm([\"edit_count\", \"anon_rate\", \"revert_rate\", \"page_views\"]):\n",
    "    for type_ in [\"changed\", \"duplicated\", \"missing\"]:\n",
    "        bs_stats = draw_bs_replicates(\n",
    "            df_stats[df_stats.page_type == type_].dropna()[stat].to_list(), np.mean, 10000\n",
    "        )\n",
    "        stats.append(stat)\n",
    "        types.append(type_)\n",
    "        means.append(np.mean(bs_stats))\n",
    "        x_bottom.append(np.percentile(bs_stats,[2.5]))\n",
    "        x_top.append(np.percentile(bs_stats,[97.5]))"
   ]
  },
  {
   "cell_type": "code",
   "execution_count": 245,
   "id": "5bd64fcf",
   "metadata": {},
   "outputs": [],
   "source": [
    "source = pd.DataFrame(\n",
    "    {\n",
    "        \"stats\": stats,\n",
    "        \"types\": types,\n",
    "        \"means\": means,\n",
    "        \"x_top\": x_top,\n",
    "        \"x_bottom\": x_bottom\n",
    "    }\n",
    ")\n",
    "source.x_top = source.x_top.apply(lambda x: x[0])\n",
    "source.x_bottom = source.x_bottom.apply(lambda x: x[0])"
   ]
  },
  {
   "cell_type": "code",
   "execution_count": null,
   "id": "52fd5d7a",
   "metadata": {},
   "outputs": [],
   "source": [
    "import altair as alt\n",
    "import pandas as pd\n",
    "\n",
    "def make_plot_local(ss_local, title=\"Edits count\"):\n",
    "    bar = alt.Chart(ss_local).mark_errorbar(ticks=True).encode(\n",
    "        alt.X(\"x_top:Q\").scale(zero=False).title(title),\n",
    "        alt.X2(\"x_bottom:Q\"),\n",
    "        alt.Y(\"types:N\", title = \"\"),\n",
    "        color = \"types:N\"\n",
    "    ).properties(width=75, height=75)\n",
    "\n",
    "    point = alt.Chart(ss_local).mark_point(\n",
    "        filled=True,\n",
    "        color=\"black\"\n",
    "    ).encode(\n",
    "        alt.X(\"means:Q\"),\n",
    "        alt.Y(\"types:N\"),\n",
    "        color = alt.Color(\"types:N\", title=\"Group:\")\n",
    "    ).properties(width=75, height=75)\n",
    "\n",
    "    return bar + point\n",
    "\n",
    "source_local = source[source.stats == \"edit_count\"]\n",
    "plot_1 = make_plot_local(source_local, title=\"(b) Edits count\")\n",
    "\n",
    "source_local = source[source.stats == \"anon_rate\"]\n",
    "plot_2 = make_plot_local(source_local, title=\"(c) IP edits rate\")\n",
    "\n",
    "source_local = source[source.stats == \"revert_rate\"]\n",
    "plot_3 = make_plot_local(source_local, title=\"(d) Revert rate\")\n",
    "\n",
    "source_local = source[source.stats == \"page_views\"]\n",
    "plot_4 = make_plot_local(source_local, title=\"(a) Page views\")\n",
    "\n",
    "(plot_4 | plot_1) & (plot_2 | plot_3)"
   ]
  },
  {
   "cell_type": "code",
   "execution_count": 257,
   "id": "9d3c609e",
   "metadata": {},
   "outputs": [
    {
     "data": {
      "text/html": [
       "<div>\n",
       "<style scoped>\n",
       "    .dataframe tbody tr th:only-of-type {\n",
       "        vertical-align: middle;\n",
       "    }\n",
       "\n",
       "    .dataframe tbody tr th {\n",
       "        vertical-align: top;\n",
       "    }\n",
       "\n",
       "    .dataframe thead th {\n",
       "        text-align: right;\n",
       "    }\n",
       "</style>\n",
       "<table border=\"1\" class=\"dataframe\">\n",
       "  <thead>\n",
       "    <tr style=\"text-align: right;\">\n",
       "      <th></th>\n",
       "      <th>stats</th>\n",
       "      <th>types</th>\n",
       "      <th>means</th>\n",
       "      <th>x_top</th>\n",
       "      <th>x_bottom</th>\n",
       "    </tr>\n",
       "  </thead>\n",
       "  <tbody>\n",
       "    <tr>\n",
       "      <th>0</th>\n",
       "      <td>edit_count</td>\n",
       "      <td>changed</td>\n",
       "      <td>25.108996</td>\n",
       "      <td>29.266000</td>\n",
       "      <td>21.375950</td>\n",
       "    </tr>\n",
       "    <tr>\n",
       "      <th>1</th>\n",
       "      <td>edit_count</td>\n",
       "      <td>duplicated</td>\n",
       "      <td>5.733034</td>\n",
       "      <td>6.899000</td>\n",
       "      <td>4.848975</td>\n",
       "    </tr>\n",
       "    <tr>\n",
       "      <th>2</th>\n",
       "      <td>edit_count</td>\n",
       "      <td>missing</td>\n",
       "      <td>7.175653</td>\n",
       "      <td>9.080025</td>\n",
       "      <td>5.623975</td>\n",
       "    </tr>\n",
       "    <tr>\n",
       "      <th>3</th>\n",
       "      <td>anon_rate</td>\n",
       "      <td>changed</td>\n",
       "      <td>0.219022</td>\n",
       "      <td>0.236069</td>\n",
       "      <td>0.202127</td>\n",
       "    </tr>\n",
       "    <tr>\n",
       "      <th>4</th>\n",
       "      <td>anon_rate</td>\n",
       "      <td>duplicated</td>\n",
       "      <td>0.177994</td>\n",
       "      <td>0.197183</td>\n",
       "      <td>0.159415</td>\n",
       "    </tr>\n",
       "    <tr>\n",
       "      <th>5</th>\n",
       "      <td>anon_rate</td>\n",
       "      <td>missing</td>\n",
       "      <td>0.043944</td>\n",
       "      <td>0.053702</td>\n",
       "      <td>0.034650</td>\n",
       "    </tr>\n",
       "    <tr>\n",
       "      <th>6</th>\n",
       "      <td>revert_rate</td>\n",
       "      <td>changed</td>\n",
       "      <td>0.111740</td>\n",
       "      <td>0.123578</td>\n",
       "      <td>0.100203</td>\n",
       "    </tr>\n",
       "    <tr>\n",
       "      <th>7</th>\n",
       "      <td>revert_rate</td>\n",
       "      <td>duplicated</td>\n",
       "      <td>0.057591</td>\n",
       "      <td>0.066928</td>\n",
       "      <td>0.048768</td>\n",
       "    </tr>\n",
       "    <tr>\n",
       "      <th>8</th>\n",
       "      <td>revert_rate</td>\n",
       "      <td>missing</td>\n",
       "      <td>0.009514</td>\n",
       "      <td>0.012700</td>\n",
       "      <td>0.006582</td>\n",
       "    </tr>\n",
       "    <tr>\n",
       "      <th>9</th>\n",
       "      <td>page_views</td>\n",
       "      <td>changed</td>\n",
       "      <td>5533.719292</td>\n",
       "      <td>7765.398600</td>\n",
       "      <td>4115.061360</td>\n",
       "    </tr>\n",
       "    <tr>\n",
       "      <th>10</th>\n",
       "      <td>page_views</td>\n",
       "      <td>duplicated</td>\n",
       "      <td>831.204546</td>\n",
       "      <td>1087.369071</td>\n",
       "      <td>643.664354</td>\n",
       "    </tr>\n",
       "    <tr>\n",
       "      <th>11</th>\n",
       "      <td>page_views</td>\n",
       "      <td>missing</td>\n",
       "      <td>411.560825</td>\n",
       "      <td>638.824980</td>\n",
       "      <td>236.333835</td>\n",
       "    </tr>\n",
       "  </tbody>\n",
       "</table>\n",
       "</div>"
      ],
      "text/plain": [
       "          stats       types        means        x_top     x_bottom\n",
       "0    edit_count     changed    25.108996    29.266000    21.375950\n",
       "1    edit_count  duplicated     5.733034     6.899000     4.848975\n",
       "2    edit_count     missing     7.175653     9.080025     5.623975\n",
       "3     anon_rate     changed     0.219022     0.236069     0.202127\n",
       "4     anon_rate  duplicated     0.177994     0.197183     0.159415\n",
       "5     anon_rate     missing     0.043944     0.053702     0.034650\n",
       "6   revert_rate     changed     0.111740     0.123578     0.100203\n",
       "7   revert_rate  duplicated     0.057591     0.066928     0.048768\n",
       "8   revert_rate     missing     0.009514     0.012700     0.006582\n",
       "9    page_views     changed  5533.719292  7765.398600  4115.061360\n",
       "10   page_views  duplicated   831.204546  1087.369071   643.664354\n",
       "11   page_views     missing   411.560825   638.824980   236.333835"
      ]
     },
     "execution_count": 257,
     "metadata": {},
     "output_type": "execute_result"
    }
   ],
   "source": [
    "source"
   ]
  },
  {
   "cell_type": "code",
   "execution_count": null,
   "id": "0912c529",
   "metadata": {},
   "outputs": [],
   "source": []
  }
 ],
 "metadata": {
  "kernelspec": {
   "display_name": "Python 3 (ipykernel)",
   "language": "python",
   "name": "python3"
  },
  "language_info": {
   "codemirror_mode": {
    "name": "ipython",
    "version": 3
   },
   "file_extension": ".py",
   "mimetype": "text/x-python",
   "name": "python",
   "nbconvert_exporter": "python",
   "pygments_lexer": "ipython3",
   "version": "3.9.13"
  }
 },
 "nbformat": 4,
 "nbformat_minor": 5
}
