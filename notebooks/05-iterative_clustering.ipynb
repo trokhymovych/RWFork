{
 "cells": [
  {
   "cell_type": "markdown",
   "id": "e3959f9b",
   "metadata": {},
   "source": [
    "# Data collection:"
   ]
  },
  {
   "cell_type": "code",
   "execution_count": 7,
   "id": "ef0eaeea",
   "metadata": {},
   "outputs": [
    {
     "name": "stderr",
     "output_type": "stream",
     "text": [
      "100%|██████████| 1035086/1035086 [00:03<00:00, 289060.49it/s]\n",
      "100%|██████████| 1924975/1924975 [00:33<00:00, 58075.49it/s] \n"
     ]
    },
    {
     "name": "stdout",
     "output_type": "stream",
     "text": [
      "CPU times: user 1min 45s, sys: 1min 51s, total: 3min 37s\n",
      "Wall time: 4min 27s\n"
     ]
    }
   ],
   "source": [
    "%%time\n",
    "import glob\n",
    "import joblib\n",
    "import pandas as pd\n",
    "import numpy as np\n",
    "from tqdm.auto import tqdm\n",
    "import altair as alt\n",
    "from collections import Counter\n",
    "import re\n",
    "import json\n",
    "pd.set_option('display.max_colwidth', None)\n",
    "\n",
    "RANDOM_STATE = 42\n",
    "\n",
    "extracted_data = joblib.load(\"../data/ru_wiki_extracted_pages.data\")\n",
    "error_data = joblib.load(\"../data/ru_wiki_error_pages.data\")\n",
    "final_data = pd.DataFrame(joblib.load(\"../data/ru_wiki_final_dataset_v2.data\"))\n",
    "with open('../data/ru_reveal_wiki_location.json') as user_file:\n",
    "    ru_reveal_wiki_location = json.load(user_file)\n",
    "locations_dict = dict()\n",
    "for location in tqdm(ru_reveal_wiki_location):\n",
    "    location_key = list(location.keys())[0]\n",
    "    location_values = np.sort(list(location.values())[0])\n",
    "    locations_dict[location_key] = \"_\".join(location_values)\n",
    "\n",
    "with open('../data/ru_reveal_wiki_topic.json') as user_file:\n",
    "    ru_reveal_wiki_topic = json.load(user_file)\n",
    "topics_dict = {list(d.keys())[0]: [v['topic'] for v in list(d.values())[0]] for d in tqdm(ru_reveal_wiki_topic)}\n",
    "\n",
    "# Processing data: \n",
    "changed_df = final_data[final_data.status.isin([3, 4])]\n",
    "action_features = pd.DataFrame(changed_df[\"actions\"].to_list())\n",
    "status_features = changed_df[[\"status\"]].reset_index(drop=True)\n",
    "n_added = changed_df.lines_added.apply(len).reset_index(drop=True)\n",
    "n_removed = changed_df.lines_deleted.apply(len).reset_index(drop=True)\n",
    "n_changed = changed_df.lines_changed.apply(len).reset_index(drop=True)\n",
    "\n",
    "# Category\n",
    "categories_added, categories_removed = [], []\n",
    "categories_counter = Counter()\n",
    "for wiki_features, ruwiki_features in \\\n",
    "    zip(changed_df[\"wiki_features\"].to_list(), changed_df[\"ruwiki_features\"].to_list()):\n",
    "    categories_added.append(set(ruwiki_features[\"categories\"]) - set(wiki_features[\"categories\"]))\n",
    "    categories_removed.append(set(wiki_features[\"categories\"]) - set(ruwiki_features[\"categories\"])) \n",
    "    categories_counter.update(categories_added[-1])\n",
    "    categories_counter.update(categories_removed[-1])\n",
    "    \n",
    "# topic\n",
    "topics = changed_df.page_name.apply(lambda d: list(np.sort(topics_dict.get(d, [])))).values\n",
    "# location\n",
    "locations = changed_df.page_name.apply(lambda d: locations_dict.get(d, \"unknown\")).values"
   ]
  },
  {
   "cell_type": "code",
   "execution_count": null,
   "id": "2d3d0239",
   "metadata": {},
   "outputs": [],
   "source": [
    "from itertools import product\n",
    "from fuzzywuzzy import fuzz  # type: ignore\n",
    "\n",
    "def clean_text(text):\n",
    "    if text is None:\n",
    "        return text\n",
    "    # Remove \\n characters\n",
    "    text = re.sub(r'\\n', ' ', text)\n",
    "    # Remove redundant spaces\n",
    "    text = re.sub(r'\\s+', ' ', text).strip()\n",
    "    return text\n",
    "\n",
    "def clean_template(text):\n",
    "    return text\n",
    "\n",
    "def get_template_parameters(templates):\n",
    "    all_parameters = {}\n",
    "    for t in templates:\n",
    "        # Split the template string on the '|' character\n",
    "        parts = t.split('|')\n",
    "\n",
    "        if parts:\n",
    "            # The first part is assumed to be the template name\n",
    "            template_name = parts[0]\n",
    "\n",
    "            # Initialize a dictionary for the current template\n",
    "            template_parameters = {}\n",
    "\n",
    "            # Process the remaining parts as parameter key-value pairs\n",
    "            for param_pair in parts[1:]:\n",
    "                param_split = param_pair.split('=')\n",
    "                param_name, param_value = param_split[0], \"\".join(param_split[1:])\n",
    "                # Create a combined key using the template name and parameter name\n",
    "                combined_key = f\"{template_name}+{param_name}\"\n",
    "                template_parameters[clean_text(combined_key)] = clean_text(param_value)\n",
    "\n",
    "            # Add the template name and its parameters to the dictionary\n",
    "            all_parameters.update(template_parameters)\n",
    "\n",
    "    return all_parameters\n",
    "\n",
    "\n",
    "def compare_templates(t1, t2): \n",
    "    params1 = get_template_parameters([t1])\n",
    "    params2 = get_template_parameters([t2])\n",
    "    changes = []\n",
    "    for i in params1.keys():\n",
    "        if params2.get(i) != params1.get(i):\n",
    "            param_to_add = (i, params1.get(i), params2.get(i))\n",
    "            if param_to_add not in changes:\n",
    "                changes.append(param_to_add)\n",
    "                \n",
    "    for i in params2.keys():\n",
    "        if params2.get(i) != params1.get(i):\n",
    "            param_to_add = (i, params1.get(i), params2.get(i))\n",
    "            if param_to_add not in changes:\n",
    "                changes.append(param_to_add)\n",
    "    \n",
    "    return changes"
   ]
  },
  {
   "cell_type": "code",
   "execution_count": 9,
   "id": "a0e16fcd",
   "metadata": {},
   "outputs": [
    {
     "name": "stderr",
     "output_type": "stream",
     "text": [
      "33664it [03:13, 174.21it/s]\n"
     ]
    }
   ],
   "source": [
    "# Templates\n",
    "error_count = 0\n",
    "tem_added, tem_deleted, param_change = [], [], []\n",
    "tem_added_counter, tem_deleted_counter, param_change_counter = Counter(), Counter(), Counter()\n",
    "for wiki_features, ruwiki_features in \\\n",
    "    tqdm(zip(changed_df[\"wiki_features\"].to_list(), changed_df[\"ruwiki_features\"].to_list())):\n",
    "    tem_added.append(set([clean_template(i) for i in ruwiki_features[\"templates\"]]) - set([clean_template(i) for i in wiki_features[\"templates\"]]) - set([None]))\n",
    "    tem_deleted.append(set([clean_template(i) for i in wiki_features[\"templates\"]]) - set([clean_template(i) for i in ruwiki_features[\"templates\"]]) - set([None]))\n",
    "    tem_added_counter.update(tem_added[-1])\n",
    "    tem_deleted_counter.update(tem_deleted[-1])\n",
    "    \n",
    "    params_changed = []\n",
    "    \n",
    "    tem_added_tmp = set(ruwiki_features[\"templates\"]) - set(wiki_features[\"templates\"]) - set([None])\n",
    "    tem_deleted_tmp = set(wiki_features[\"templates\"]) - set(ruwiki_features[\"templates\"]) - set([None])\n",
    "    for t1, t2 in product(tem_added_tmp, tem_deleted_tmp):\n",
    "        similarity = fuzz.ratio(t1, t2)\n",
    "        if similarity > 60 and similarity < 100:\n",
    "            try:\n",
    "                # remove similar templates from the list (as canges will be added to the list)\n",
    "                tem_added[-1] = tem_added[-1] - set([t1])\n",
    "                tem_deleted[-1] = tem_deleted[-1] - set([t2])\n",
    "                params_changed += compare_templates(t1, t2)\n",
    "            except Exception as e:\n",
    "                print(e)\n",
    "                error_count += 1\n",
    "                pass\n",
    "    param_change.append(params_changed)\n",
    "    param_change_counter.update(params_changed)"
   ]
  },
  {
   "cell_type": "markdown",
   "id": "50142c8e",
   "metadata": {},
   "source": [
    "# Creating a collective text:"
   ]
  },
  {
   "cell_type": "code",
   "execution_count": 10,
   "id": "01f035e2",
   "metadata": {},
   "outputs": [],
   "source": [
    "MAX_SYMBOLS = int(8000 * 1.5)\n",
    "MAX_TEMPLATES = 3\n",
    "\n",
    "# Define template for page information encoding in text: \n",
    "pages_collective_strings = []\n",
    "is_not_change = []\n",
    "for i, (_, row) in enumerate(changed_df.iterrows()):\n",
    "    is_change = False\n",
    "    page_string = \"\"\n",
    "    page_title = row.page_name\n",
    "    page_string += f\"page title: {page_title}\\n\"\n",
    "    change_type = \"metadata change\" if row.status == 3 else \"text change\"\n",
    "    page_string += f\"change type: {change_type}\\n\"\n",
    "\n",
    "    lines_added = \" \".join(row.lines_added)\n",
    "    if len(lines_added) > 0:\n",
    "        page_string += f\"lines added: {lines_added}\\n\"\n",
    "        is_change = True\n",
    "    lines_removed = \" \".join(row.lines_deleted)\n",
    "    if len(lines_removed) > 0:\n",
    "        page_string += f\"lines removed: {lines_removed}\\n\"\n",
    "        is_change = True\n",
    "    lines_changed = \"\\n\".join([f\"Old value: {c[0]}\\nNew value: {c[1]}\\n\" for c in row.lines_changed])\n",
    "    if len(lines_changed) > 0:\n",
    "        page_string += f\"lines changed: : {lines_changed}\\n\"\n",
    "        is_change = True\n",
    "    categories_a = \", \".join(categories_added[i])\n",
    "    if len(categories_a) > 0:\n",
    "        page_string += f\"categories added: {categories_a}\\n\"\n",
    "        is_change = True\n",
    "    categories_r = \", \".join(categories_removed[i])\n",
    "    if len(categories_r) > 0:\n",
    "        page_string += f\"categories removed: {categories_r}\\n\"\n",
    "        is_change = True\n",
    "    page_location = locations[i]\n",
    "    page_string += f\"page location: {page_location}\\n\"\n",
    "    page_t = \", \".join(topics[i][:MAX_TEMPLATES])\n",
    "    page_string += f\"page topics: {page_t}\\n\"\n",
    "    template_changes = \"\\n\".join([f\"Template: {c[0]}\\nOld value: {c[2]}\\nNew value: {c[1]}\\n\" for c in param_change[i]])\n",
    "    if len(template_changes) > 0:\n",
    "        page_string += f\"template changes: {template_changes}\\n\"\n",
    "        is_change = True\n",
    "    templates_added = \", \".join(list(tem_added[i])[:MAX_TEMPLATES])\n",
    "    if len(templates_added) > 0:\n",
    "        page_string += f\"templates added: {templates_added}\\n\"\n",
    "        is_change = True\n",
    "    templates_removed = \", \".join(list(tem_deleted[i])[:MAX_TEMPLATES])\n",
    "    if len(templates_removed) > 0:\n",
    "        page_string += f\"templates removed: {templates_removed}\\n\"\n",
    "        is_change = True\n",
    "\n",
    "    pages_collective_strings.append(page_string[:MAX_SYMBOLS])\n",
    "    is_not_change.append(is_change)"
   ]
  },
  {
   "cell_type": "code",
   "execution_count": 11,
   "id": "46fa73e9",
   "metadata": {},
   "outputs": [],
   "source": [
    "import tiktoken\n",
    "texts_to_embed = [t for t, c in zip(pages_collective_strings, is_not_change) if c]\n",
    "len(texts_to_embed)\n",
    "\n",
    "# Calculate number of tokent in each text\n",
    "tokenizer = tiktoken.get_encoding(\"cl100k_base\")\n",
    "token_lens = [len(tokenizer.encode(text)) for text in texts_to_embed]"
   ]
  },
  {
   "cell_type": "code",
   "execution_count": 252,
   "id": "b914a52c",
   "metadata": {},
   "outputs": [
    {
     "name": "stdout",
     "output_type": "stream",
     "text": [
      "Len 90\n",
      "len 276\n",
      "page title: Палецкий, Василий Дмитриевич\n",
      "change type: metadata change\n",
      "categories removed: Статьи с эдитнотисом об осторожности при редактировании\n",
      "page location: unknown\n",
      "page topics: Culture.Biography.Biography*, Geography.Regions.Asia.Asia*, Geography.Regions.Asia.North_Asia\n",
      "\n"
     ]
    }
   ],
   "source": [
    "i = 100\n",
    "print(\"Len\", token_lens[i])\n",
    "print(\"len\", len(texts_to_embed[i]))\n",
    "print(texts_to_embed[i])"
   ]
  },
  {
   "cell_type": "code",
   "execution_count": 254,
   "id": "5bb6f77f",
   "metadata": {},
   "outputs": [],
   "source": [
    "assert max(token_lens) < 8000"
   ]
  },
  {
   "cell_type": "markdown",
   "id": "5c4efbec",
   "metadata": {},
   "source": [
    "# Proposed scope: \n",
    "\n",
    "1. Pipeline for defining the taxonomy of changes:\n",
    "    - 1.1 Summarisation of edits\n",
    "    - 1.2 Embedding of texts\n",
    "    - 1.3 Clustering of summarised texts -> best silhoutte score\n",
    "    - 1.4 Automatic name for clusters\n",
    "\n",
    "2. Define the quality of clustring in zero-shot classification of the sample.\n",
    "    - Sample 20% of cluster and classify them with zero-shot classification.\n",
    "    - Define the rate of correctly classified samples.\n",
    "    - Define the confidence interval for the classification."
   ]
  },
  {
   "cell_type": "markdown",
   "id": "904d7eed",
   "metadata": {},
   "source": [
    "# 1. Pipeline for defining the taxonomy of changes:"
   ]
  },
  {
   "cell_type": "markdown",
   "id": "9a4cc307",
   "metadata": {},
   "source": [
    "## 1.1 Summarisation of edits"
   ]
  },
  {
   "cell_type": "code",
   "execution_count": 200,
   "id": "cd675236",
   "metadata": {},
   "outputs": [
    {
     "name": "stdout",
     "output_type": "stream",
     "text": [
      "4000\n",
      "4000\n",
      "4000\n",
      "4000\n",
      "4000\n",
      "4000\n",
      "4000\n",
      "2599\n"
     ]
    }
   ],
   "source": [
    "import pandas as pd\n",
    "import json\n",
    "\n",
    "jsonl_file = \"../data/embed/input/batch_requests_summary_\"\n",
    "jsonl_resp_file = \"../data/embed/output/batch_responses_summary_\"\n",
    "model_name = 'gpt-4o-mini-2024-07-18'\n",
    "max_batch_size = 4000\n",
    "max_summary_words = 40\n",
    "jsonl_files = []\n",
    "\n",
    "initial_prompt = f\"\"\"\n",
    "    You will be provided with a details regarding edit to the Wikipedia page.\n",
    "    You need to deeply analyse the changes, define what was edited and provide a description of the changes.\n",
    "\n",
    "    Provide a short summary and specific factual changes. \n",
    "    Pay attention to details about adding/removing/changing characteristics.\n",
    "    Avoid generalizations and provide specific examples.  (max {max_summary_words} words)\n",
    "\n",
    "    Return the answer in JSON format with only \"desc\" field and the following structure:\n",
    "    {{\n",
    "        \"desc\": \"string\"  # description of specific factual changes\n",
    "    }}\n",
    "\n",
    "    The edit to analize will be provided in the <>:\n",
    "    \"\"\"\n",
    "\n",
    "for i in range(0, len(texts_to_embed), max_batch_size):\n",
    "    with open(jsonl_file + f\"_{i}.jsonl\", \"w\") as f:\n",
    "        for j, claim in enumerate(texts_to_embed[i:i+max_batch_size]):\n",
    "            request = {\n",
    "                \"custom_id\": f\"r-{i}-{j}\",\n",
    "                \"method\": \"POST\",\n",
    "                \"url\": \"/v1/chat/completions\",\n",
    "                \"body\": {\n",
    "                    \"model\": model_name,\n",
    "                    \"messages\": [\n",
    "                        {\"role\": \"system\", \"content\": initial_prompt},\n",
    "                        {\"role\": \"user\", \"content\": f\"<{claim}>\"},\n",
    "                    ],\n",
    "                \"max_tokens\": max_summary_words * 10\n",
    "                }\n",
    "            }\n",
    "            f.write(json.dumps(request) + \"\\n\")\n",
    "    jsonl_files.append(jsonl_file + f\"_{i}.jsonl\")\n",
    "    print(len(texts_to_embed[i:i+max_batch_size]))"
   ]
  },
  {
   "cell_type": "code",
   "execution_count": 201,
   "id": "6d14b23b",
   "metadata": {},
   "outputs": [],
   "source": [
    "from dotenv import load_dotenv\n",
    "from openai import OpenAI\n",
    "\n",
    "load_dotenv()\n",
    "client = OpenAI()\n",
    "\n",
    "batch_input_files = []\n",
    "for jsonl_file in jsonl_files:\n",
    "  batch_input_file = client.files.create(\n",
    "    file=open(jsonl_file, \"rb\"),\n",
    "    purpose=\"batch\"\n",
    "  )\n",
    "  batch_input_files.append(batch_input_file)"
   ]
  },
  {
   "cell_type": "code",
   "execution_count": 256,
   "id": "2638f005",
   "metadata": {},
   "outputs": [],
   "source": [
    "batch_input_file_ids = []\n",
    "\n",
    "i = 7\n",
    "\n",
    "for batch_input_file in batch_input_files[i:i+1]:\n",
    "  batch_input_file_id = batch_input_file.id\n",
    "  client.batches.create(\n",
    "      input_file_id=batch_input_file_id,\n",
    "      endpoint=\"/v1/chat/completions\",\n",
    "      completion_window=\"24h\",\n",
    "      metadata={\n",
    "        \"description\": \"summarisation for ruwiki\"\n",
    "      }\n",
    "  )\n",
    "  batch_input_file_ids.append(batch_input_file_id)"
   ]
  },
  {
   "cell_type": "code",
   "execution_count": 325,
   "id": "0afd1e1f",
   "metadata": {},
   "outputs": [],
   "source": [
    "# batches = client.batches.list(limit=10)\n",
    "# batches.data"
   ]
  },
  {
   "cell_type": "code",
   "execution_count": 302,
   "id": "d71b38c5",
   "metadata": {},
   "outputs": [
    {
     "name": "stderr",
     "output_type": "stream",
     "text": [
      "100%|██████████| 30599/30599 [00:00<00:00, 132247.98it/s]\n"
     ]
    }
   ],
   "source": [
    "# Get all file names:\n",
    "import glob\n",
    "from tqdm.auto import tqdm\n",
    "\n",
    "\n",
    "def parse_json(text):\n",
    "    text = text.replace('\"desc\": \" ', '\"desc\": \"')\n",
    "    text = text.replace(\"\\'Донецкой области\\' на \\'Донецкой Народной Республике\\'\", \"Донецкой области на Донецкой Народной Республике\")\n",
    "    text = text.replace('\"Радивоновка\"', 'Радивоновка').replace('\"Акимовском районе\"', 'Акимовском районе').replace('\"Мелитополе\"', 'Мелитополе')\n",
    "    text = text.replace('```json\\n', '').replace('\\n```', '').replace(',\\n}', '}').replace('\" \"', ' empty double quotes ')\n",
    "    text = text.replace('\\\"буржуек\\\"', '\\\\\\\"буржуек\\\\\\\"').replace(' \" ', ' double quotes  ').replace(\"”\", '\"')\n",
    "    text = text.replace('\"будут изображены\" to \"изображены\"', 'будут изображены to изображены')\n",
    "    text = text.replace('55°47\\'32\"N 37°36\\'15\"E.', \"\").replace(\"\\\\\\'Маньяк\\\\\\'\", \"Маньяк\").replace(\")\\n}\", \"\\n}\")\n",
    "    text = text.replace('\"нерешительное и дилетантское\"', 'нерешительное и дилетантское')\n",
    "    \n",
    "    return json.loads(text)\n",
    "    # except Exception as e:\n",
    "    #     print(e)\n",
    "    #     return None\n",
    "\n",
    "files = glob.glob(\"../data/embed/output/summary/batch_*.jsonl\")\n",
    "responses = []\n",
    "for output_file in files:\n",
    "    # Read responses from jsonl file\n",
    "    with open(output_file, \"r\") as f:\n",
    "        for line in f:\n",
    "            responses.append(json.loads(line))\n",
    "\n",
    "summaries = []\n",
    "ids = []\n",
    "for response in tqdm(responses):\n",
    "    summaries.append(parse_json(response[\"response\"][\"body\"][\"choices\"][0]['message'][\"content\"]))\n",
    "    ids.append(response[\"custom_id\"])\n",
    "\n",
    "summary_dict = dict(zip(ids, summaries))\n",
    "\n",
    "# Extracting requests and their ids:\n",
    "jsonl_files_input = glob.glob(\"../data/embed/input/batch_requests_summary*.jsonl\")\n",
    "\n",
    "ids_input = []\n",
    "texts_input = []\n",
    "for file in jsonl_files_input:\n",
    "    with open(file, \"r\") as f:\n",
    "        for line in f:\n",
    "            request = json.loads(line)\n",
    "            ids_input.append(request[\"custom_id\"])\n",
    "            texts_input.append(request[\"body\"][\"messages\"][1][\"content\"][1:-1])\n",
    "\n",
    "# Create a dataframe with the embeddings and the ids\n",
    "text_to_summary = {text: summary_dict.get(id, None)['desc'] for text, id in zip(texts_input, ids_input) if summary_dict.get(id, None) is not None}"
   ]
  },
  {
   "cell_type": "markdown",
   "id": "b878db77",
   "metadata": {},
   "source": [
    "## 1.2 Embedding of texts"
   ]
  },
  {
   "cell_type": "code",
   "execution_count": 307,
   "id": "aded6412",
   "metadata": {},
   "outputs": [
    {
     "name": "stdout",
     "output_type": "stream",
     "text": [
      "11000\n",
      "11000\n",
      "8599\n"
     ]
    }
   ],
   "source": [
    "summary_texts = list(text_to_summary.values())\n",
    "\n",
    "jsonl_file = \"../data/embed/input/batch_requests_embed_summary\"\n",
    "model_name = \"text-embedding-3-small\"\n",
    "max_batch_size = 11000\n",
    "jsonl_files = []\n",
    "\n",
    "for i in range(0, len(summary_texts), max_batch_size):\n",
    "    with open(jsonl_file + f\"_{i}.jsonl\", \"w\") as f:\n",
    "        for j, claim in enumerate(summary_texts[i:i+max_batch_size]):\n",
    "            request = {\n",
    "                \"custom_id\": f\"r-{i}-{j}\",\n",
    "                \"method\": \"POST\",\n",
    "                \"url\": \"/v1/embeddings\",\n",
    "                \"body\": {\n",
    "                    \"model\": model_name,\n",
    "                    \"input\": claim,\n",
    "                }\n",
    "            }\n",
    "            f.write(json.dumps(request) + \"\\n\")\n",
    "    jsonl_files.append(jsonl_file + f\"_{i}.jsonl\")\n",
    "    print(len(summary_texts[i:i+max_batch_size]))"
   ]
  },
  {
   "cell_type": "code",
   "execution_count": 308,
   "id": "adb26fe7",
   "metadata": {},
   "outputs": [],
   "source": [
    "from dotenv import load_dotenv\n",
    "from openai import OpenAI\n",
    "\n",
    "load_dotenv()\n",
    "client = OpenAI()\n",
    "\n",
    "batch_input_files = []\n",
    "for jsonl_file in jsonl_files:\n",
    "  batch_input_file = client.files.create(\n",
    "    file=open(jsonl_file, \"rb\"),\n",
    "    purpose=\"batch\"\n",
    "  )\n",
    "  batch_input_files.append(batch_input_file)"
   ]
  },
  {
   "cell_type": "code",
   "execution_count": 309,
   "id": "51f37ee6",
   "metadata": {},
   "outputs": [],
   "source": [
    "batch_input_file_ids = []\n",
    "\n",
    "for batch_input_file in batch_input_files:\n",
    "  batch_input_file_id = batch_input_file.id\n",
    "  client.batches.create(\n",
    "      input_file_id=batch_input_file_id,\n",
    "      endpoint=\"/v1/embeddings\",\n",
    "      completion_window=\"24h\",\n",
    "      metadata={\n",
    "        \"description\": \"embeddings for ruwiki\"\n",
    "      }\n",
    "  )\n",
    "  batch_input_file_ids.append(batch_input_file_id)"
   ]
  },
  {
   "cell_type": "code",
   "execution_count": 312,
   "id": "22e91e48",
   "metadata": {},
   "outputs": [],
   "source": [
    "# batches = client.batches.list(limit=10)\n",
    "# batches.data"
   ]
  },
  {
   "cell_type": "code",
   "execution_count": 313,
   "id": "c89bd962",
   "metadata": {},
   "outputs": [],
   "source": [
    "# Get all file names:\n",
    "import glob\n",
    "\n",
    "files = glob.glob(\"../data/embed/output/embedding_summary/batch_*.jsonl\")\n",
    "responses = []\n",
    "for output_file in files:\n",
    "    # Read responses from jsonl file\n",
    "    with open(output_file, \"r\") as f:\n",
    "        for line in f:\n",
    "            responses.append(json.loads(line))\n",
    "\n",
    "embeddings = []\n",
    "ids = []\n",
    "for response in responses:\n",
    "    embeddings.append(response[\"response\"][\"body\"][\"data\"][0]['embedding'])\n",
    "    ids.append(response[\"custom_id\"])\n",
    "\n",
    "embeddings_dict = dict(zip(ids, embeddings))"
   ]
  },
  {
   "cell_type": "code",
   "execution_count": 319,
   "id": "e97bad83",
   "metadata": {},
   "outputs": [],
   "source": [
    "# Extracting requests and their ids:\n",
    "jsonl_files_input = glob.glob(\"../data/embed/input/batch_requests_embed*.jsonl\")\n",
    "\n",
    "ids_input = []\n",
    "texts_input = []\n",
    "for file in jsonl_files_input:\n",
    "    with open(file, \"r\") as f:\n",
    "        for line in f:\n",
    "            request = json.loads(line)\n",
    "            ids_input.append(request[\"custom_id\"])\n",
    "            texts_input.append(request[\"body\"][\"input\"])\n",
    "\n",
    "# Create a dataframe with the embeddings and the ids\n",
    "text_to_embedding = {text: embeddings_dict[id] for text, id in zip(texts_input, ids_input)}"
   ]
  },
  {
   "cell_type": "code",
   "execution_count": 327,
   "id": "aa56ff0d",
   "metadata": {},
   "outputs": [
    {
     "data": {
      "text/plain": [
       "['../data/embed/summary_text_to_embedding.bin']"
      ]
     },
     "execution_count": 327,
     "metadata": {},
     "output_type": "execute_result"
    }
   ],
   "source": [
    "import joblib\n",
    "joblib.dump(text_to_embedding, \"../data/embed/summary_text_to_embedding.bin\")\n",
    "# text_to_embedding = joblib.load(\"../data/embed/summary_text_to_embedding_full.bin\")"
   ]
  },
  {
   "cell_type": "markdown",
   "id": "d1f60e06",
   "metadata": {},
   "source": [
    "## 1.3 Clustering of summarised texts:"
   ]
  },
  {
   "cell_type": "code",
   "execution_count": 745,
   "id": "8f561679",
   "metadata": {},
   "outputs": [
    {
     "name": "stderr",
     "output_type": "stream",
     "text": [
      "  7%|▋         | 1/14 [00:35<07:42, 35.56s/it]"
     ]
    },
    {
     "name": "stdout",
     "output_type": "stream",
     "text": [
      "Silhouette score for 2 clusters: 0.08063241301780896\n"
     ]
    },
    {
     "name": "stderr",
     "output_type": "stream",
     "text": [
      " 14%|█▍        | 2/14 [01:07<06:40, 33.40s/it]"
     ]
    },
    {
     "name": "stdout",
     "output_type": "stream",
     "text": [
      "Silhouette score for 3 clusters: 0.07736409975627694\n"
     ]
    },
    {
     "name": "stderr",
     "output_type": "stream",
     "text": [
      " 21%|██▏       | 3/14 [01:40<06:05, 33.21s/it]"
     ]
    },
    {
     "name": "stdout",
     "output_type": "stream",
     "text": [
      "Silhouette score for 4 clusters: 0.06778208467628967\n"
     ]
    },
    {
     "name": "stderr",
     "output_type": "stream",
     "text": [
      " 29%|██▊       | 4/14 [02:11<05:25, 32.56s/it]"
     ]
    },
    {
     "name": "stdout",
     "output_type": "stream",
     "text": [
      "Silhouette score for 5 clusters: 0.08351021968169993\n"
     ]
    },
    {
     "name": "stderr",
     "output_type": "stream",
     "text": [
      " 36%|███▌      | 5/14 [02:44<04:52, 32.47s/it]"
     ]
    },
    {
     "name": "stdout",
     "output_type": "stream",
     "text": [
      "Silhouette score for 6 clusters: 0.08691509031389795\n"
     ]
    },
    {
     "name": "stderr",
     "output_type": "stream",
     "text": [
      " 43%|████▎     | 6/14 [03:16<04:20, 32.51s/it]"
     ]
    },
    {
     "name": "stdout",
     "output_type": "stream",
     "text": [
      "Silhouette score for 7 clusters: 0.08231027656766764\n"
     ]
    },
    {
     "name": "stderr",
     "output_type": "stream",
     "text": [
      " 50%|█████     | 7/14 [03:49<03:47, 32.45s/it]"
     ]
    },
    {
     "name": "stdout",
     "output_type": "stream",
     "text": [
      "Silhouette score for 8 clusters: 0.1054651574772751\n"
     ]
    },
    {
     "name": "stderr",
     "output_type": "stream",
     "text": [
      " 57%|█████▋    | 8/14 [04:20<03:12, 32.03s/it]"
     ]
    },
    {
     "name": "stdout",
     "output_type": "stream",
     "text": [
      "Silhouette score for 9 clusters: 0.09988225820947819\n"
     ]
    },
    {
     "name": "stderr",
     "output_type": "stream",
     "text": [
      " 64%|██████▍   | 9/14 [04:55<02:45, 33.08s/it]"
     ]
    },
    {
     "name": "stdout",
     "output_type": "stream",
     "text": [
      "Silhouette score for 10 clusters: 0.09949659457031808\n"
     ]
    },
    {
     "name": "stderr",
     "output_type": "stream",
     "text": [
      " 71%|███████▏  | 10/14 [05:28<02:11, 32.95s/it]"
     ]
    },
    {
     "name": "stdout",
     "output_type": "stream",
     "text": [
      "Silhouette score for 11 clusters: 0.10016089374842385\n"
     ]
    },
    {
     "name": "stderr",
     "output_type": "stream",
     "text": [
      " 79%|███████▊  | 11/14 [06:03<01:40, 33.64s/it]"
     ]
    },
    {
     "name": "stdout",
     "output_type": "stream",
     "text": [
      "Silhouette score for 12 clusters: 0.09198641480370513\n"
     ]
    },
    {
     "name": "stderr",
     "output_type": "stream",
     "text": [
      " 86%|████████▌ | 12/14 [06:34<01:05, 32.88s/it]"
     ]
    },
    {
     "name": "stdout",
     "output_type": "stream",
     "text": [
      "Silhouette score for 13 clusters: 0.0945400211772505\n"
     ]
    },
    {
     "name": "stderr",
     "output_type": "stream",
     "text": [
      " 93%|█████████▎| 13/14 [07:05<00:32, 32.13s/it]"
     ]
    },
    {
     "name": "stdout",
     "output_type": "stream",
     "text": [
      "Silhouette score for 14 clusters: 0.0938919426331382\n"
     ]
    },
    {
     "name": "stderr",
     "output_type": "stream",
     "text": [
      "100%|██████████| 14/14 [07:37<00:00, 32.65s/it]"
     ]
    },
    {
     "name": "stdout",
     "output_type": "stream",
     "text": [
      "Silhouette score for 15 clusters: 0.06560383808967979\n"
     ]
    },
    {
     "name": "stderr",
     "output_type": "stream",
     "text": [
      "\n"
     ]
    },
    {
     "data": {
      "image/png": "[encoded data removed]",
      "text/plain": [
       "<Figure size 1600x400 with 1 Axes>"
      ]
     },
     "metadata": {},
     "output_type": "display_data"
    }
   ],
   "source": [
    "from sklearn.metrics import silhouette_score\n",
    "from sklearn.cluster import KMeans\n",
    "import matplotlib.pyplot as plt\n",
    "\n",
    "import numpy as np\n",
    "import pandas as pd\n",
    "\n",
    "# embeddings = [text_to_embedding[t] for t in summary_texts]\n",
    "\n",
    "silhouette_scores = []\n",
    "K = range(2, 16)\n",
    "for k in tqdm(K):\n",
    "    km = KMeans(n_clusters=k, init=\"k-means++\", random_state=RANDOM_STATE)\n",
    "    km = km.fit(embeddings)\n",
    "    labels = km.labels_\n",
    "    silhouette_scores.append(silhouette_score(embeddings, labels))\n",
    "    print(f\"Silhouette score for {k} clusters: {silhouette_scores[-1]}\")\n",
    "\n",
    "# Increase the resolution and adjust figure size\n",
    "plt.figure(dpi=200, figsize=(8, 2))  # Twice the default resolution, half the default height\n",
    "# Plot with a new color\n",
    "plt.plot(K, silhouette_scores, 'go-', label='Silhouette Score')\n",
    "\n",
    "# Add xlabel, ylabel, and title\n",
    "plt.xlabel('Number of clusters')\n",
    "plt.ylabel('Silhouette Score')\n",
    "plt.title('Silhouette Analysis For Optimal k')\n",
    "\n",
    "# Find the number of clusters with the maximum silhouette score\n",
    "max_score_index = silhouette_scores.index(max(silhouette_scores))\n",
    "optimal_k = K[max_score_index]\n",
    "\n",
    "# Add a vertical line at the maximum silhouette score\n",
    "plt.axvline(x=optimal_k, color='r', linestyle='--', label='Optimal k')\n",
    "# Add a legend\n",
    "plt.legend()\n",
    "plt.show()\n",
    "\n"
   ]
  },
  {
   "cell_type": "code",
   "execution_count": 966,
   "id": "c16a8f7f",
   "metadata": {},
   "outputs": [
    {
     "data": {
      "image/png": "[encoded data removed]",
      "text/plain": [
       "<Figure size 1600x400 with 1 Axes>"
      ]
     },
     "metadata": {},
     "output_type": "display_data"
    }
   ],
   "source": [
    "# Save the plot:\n",
    "\n",
    "# Increase the resolution and adjust figure size\n",
    "plt.figure(dpi=200, figsize=(8, 2))  # Twice the default resolution, half the default height\n",
    "# Plot with a new color\n",
    "plt.plot(K, silhouette_scores, 'go-', label='Silhouette Score')\n",
    "\n",
    "# Add xlabel, ylabel, and title\n",
    "plt.xlabel('Number of clusters')\n",
    "plt.ylabel('Silhouette Score')\n",
    "plt.title('Silhouette Analysis For Optimal k')\n",
    "\n",
    "# Find the number of clusters with the maximum silhouette score\n",
    "max_score_index = silhouette_scores.index(max(silhouette_scores))\n",
    "optimal_k = K[max_score_index]\n",
    "\n",
    "# Add a vertical line at the maximum silhouette score\n",
    "plt.axvline(x=optimal_k, color='r', linestyle='--', label='Optimal k')\n",
    "# Add a legend\n",
    "plt.legend()\n",
    "plt.grid()\n",
    "# plt.show()\n",
    "\n",
    "plt.savefig(\"../data/embed/summary_silhouette_score.png\", dpi=300)"
   ]
  },
  {
   "cell_type": "code",
   "execution_count": 746,
   "id": "6220dcdb",
   "metadata": {},
   "outputs": [],
   "source": [
    "km = KMeans(n_clusters=optimal_k, init=\"k-means++\", random_state=RANDOM_STATE)\n",
    "km = km.fit(embeddings)\n",
    "labels = km.labels_"
   ]
  },
  {
   "cell_type": "code",
   "execution_count": 747,
   "id": "59f66a5d",
   "metadata": {},
   "outputs": [
    {
     "data": {
      "text/plain": [
       "1    7753\n",
       "7    5063\n",
       "6    3846\n",
       "0    3786\n",
       "2    3139\n",
       "3    2709\n",
       "4    2678\n",
       "5    1625\n",
       "Name: label, dtype: int64"
      ]
     },
     "execution_count": 747,
     "metadata": {},
     "output_type": "execute_result"
    }
   ],
   "source": [
    "clusters_df = pd.DataFrame({\n",
    "    \"text\": list(summary_texts),\n",
    "    \"label\": labels,\n",
    "})\n",
    "clusters_df[\"label\"].value_counts()"
   ]
  },
  {
   "cell_type": "markdown",
   "id": "992d2ac4",
   "metadata": {},
   "source": [
    "## 1.4 Automatic name for clusters:"
   ]
  },
  {
   "cell_type": "code",
   "execution_count": 822,
   "id": "fc22c468",
   "metadata": {},
   "outputs": [],
   "source": [
    "# Defining the cluster name\n",
    "from langchain.chat_models import ChatOpenAI\n",
    "import os\n",
    "import json\n",
    "# Build a vector for cluster by name and description\n",
    "from openai import OpenAI\n",
    "\n",
    "# embedding model parameters\n",
    "embedding_model = \"text-embedding-3-small\"\n",
    "embedding_encoding = \"cl100k_base\"  # this the encoding for text-embedding-ada-002\n",
    "gpt = ChatOpenAI(model='gpt-4o-mini-2024-07-18', temperature=0, openai_api_key=os.environ['OPENAI_API_KEY'])\n",
    "\n",
    "client = OpenAI()\n",
    "\n",
    "def get_cluster_details(text_examples, gpt=gpt):\n",
    "    examples_string = \"\\n\".join(f\"Summary {i+1}: {text}\" for i, text in enumerate(text_examples))\n",
    "    prompt = \"\"\"\n",
    "    You are provided with a sample list of edits for one cluster. Your task is to describe these edits.\n",
    "\n",
    "    1. Identify the common theme or topic shared by the edits.\n",
    "    2. Summarize the main changes made in these edits, including examples of editing tactics used, avoiding specific details.\n",
    "\n",
    "    You need to:\n",
    "    - Provide a descriptive name for the cluster, representing the topic and idea of the edits (maximum 4 words).\n",
    "    - Add a concise summary of the changes within the cluster (maximum 40 words).\n",
    "\n",
    "    Return the answer in JSON format with the following structure:\n",
    "    {\n",
    "        \"cluster_name\": \"name\",\n",
    "        \"cluster_summary\": \"summary\"\n",
    "    }\n",
    "\n",
    "    The list of changes is provided below:\n",
    "    \"\"\" + examples_string\n",
    "    \n",
    "    res = gpt.invoke(prompt).content\n",
    "\n",
    "    return json.loads(res.replace('```json\\n', '').replace('\\n```', ''))\n",
    "\n",
    "\n",
    "def get_embedding(text, model=embedding_model):\n",
    "   text = text.replace(\"\\n\", \" \")\n",
    "   return client.embeddings.create(input = [text], model=model).data[0].embedding\n",
    "# cluster_emb = get_embedding(json.dumps(cluster_details), model=embedding_model)"
   ]
  },
  {
   "cell_type": "code",
   "execution_count": 850,
   "id": "ff2eeb1d",
   "metadata": {},
   "outputs": [
    {
     "name": "stderr",
     "output_type": "stream",
     "text": [
      "100%|██████████| 8/8 [00:10<00:00,  1.25s/it]\n"
     ]
    },
    {
     "data": {
      "text/plain": [
       "['../data/embed/cluster_details.bin']"
      ]
     },
     "execution_count": 850,
     "metadata": {},
     "output_type": "execute_result"
    }
   ],
   "source": [
    "SAMPLE_SIZE = 20\n",
    "\n",
    "cluster_details = []\n",
    "for i in tqdm(range(clusters_df.label.nunique())):\n",
    "    text_examples = clusters_df[clusters_df.label == i].sample(SAMPLE_SIZE, random_state=RANDOM_STATE).text.tolist()\n",
    "    llm_result = get_cluster_details(text_examples)\n",
    "    cluster_details.append(llm_result)\n",
    "\n",
    "# cluster_details = joblib.load(\"../data/embed/cluster_details.bin\")\n",
    "joblib.dump(cluster_details, \"../data/embed/cluster_details.bin\")"
   ]
  },
  {
   "cell_type": "code",
   "execution_count": 851,
   "id": "26feb552",
   "metadata": {},
   "outputs": [
    {
     "data": {
      "text/html": [
       "<div>\n",
       "<style scoped>\n",
       "    .dataframe tbody tr th:only-of-type {\n",
       "        vertical-align: middle;\n",
       "    }\n",
       "\n",
       "    .dataframe tbody tr th {\n",
       "        vertical-align: top;\n",
       "    }\n",
       "\n",
       "    .dataframe thead th {\n",
       "        text-align: right;\n",
       "    }\n",
       "</style>\n",
       "<table border=\"1\" class=\"dataframe\">\n",
       "  <thead>\n",
       "    <tr style=\"text-align: right;\">\n",
       "      <th></th>\n",
       "      <th>cluster_name</th>\n",
       "      <th>cluster_summary</th>\n",
       "    </tr>\n",
       "  </thead>\n",
       "  <tbody>\n",
       "    <tr>\n",
       "      <th>0</th>\n",
       "      <td>LGBT Rights and History</td>\n",
       "      <td>The edits focus on updating and clarifying information related to LGBT rights, historical events, and notable figures, while removing outdated or derogatory content.</td>\n",
       "    </tr>\n",
       "    <tr>\n",
       "      <th>1</th>\n",
       "      <td>Territorial Claims Dispute</td>\n",
       "      <td>Edits reflect changes in territorial designations and governance, emphasizing claims by the Donetsk and Luhansk People's Republics while removing Ukrainian references and administrative details.</td>\n",
       "    </tr>\n",
       "    <tr>\n",
       "      <th>2</th>\n",
       "      <td>Editing Caution Removal</td>\n",
       "      <td>Multiple Wikipedia pages had the editing caution category removed, indicating a change in the perceived necessity for careful editing.</td>\n",
       "    </tr>\n",
       "    <tr>\n",
       "      <th>3</th>\n",
       "      <td>Terminology Changes Ukraine</td>\n",
       "      <td>Edits focus on altering terminology related to the Russia-Ukraine conflict, shifting from specific invasion references to broader military actions and general policies.</td>\n",
       "    </tr>\n",
       "    <tr>\n",
       "      <th>4</th>\n",
       "      <td>Cultural Metadata Updates</td>\n",
       "      <td>Edits focused on updating metadata with locations, cultural topics, and adding age and gender templates for various pages.</td>\n",
       "    </tr>\n",
       "    <tr>\n",
       "      <th>5</th>\n",
       "      <td>Russian Legislation Medicines</td>\n",
       "      <td>Templates for Russian legislation and medications were added to various pharmaceutical pages, enhancing their categorization and relevance.</td>\n",
       "    </tr>\n",
       "    <tr>\n",
       "      <th>6</th>\n",
       "      <td>Sanctions Edit Adjustments</td>\n",
       "      <td>The edits focus on removing specific references to the Ukraine conflict in sanctions descriptions, simplifying statements, and altering context around individuals and entities sanctioned.</td>\n",
       "    </tr>\n",
       "    <tr>\n",
       "      <th>7</th>\n",
       "      <td>Metadata Updates</td>\n",
       "      <td>Various edits focused on updating metadata templates, removing outdated references, and refining geographical classifications across multiple Wikipedia pages.</td>\n",
       "    </tr>\n",
       "  </tbody>\n",
       "</table>\n",
       "</div>"
      ],
      "text/plain": [
       "                    cluster_name  \\\n",
       "0        LGBT Rights and History   \n",
       "1     Territorial Claims Dispute   \n",
       "2        Editing Caution Removal   \n",
       "3    Terminology Changes Ukraine   \n",
       "4      Cultural Metadata Updates   \n",
       "5  Russian Legislation Medicines   \n",
       "6     Sanctions Edit Adjustments   \n",
       "7               Metadata Updates   \n",
       "\n",
       "                                                                                                                                                                                      cluster_summary  \n",
       "0                               The edits focus on updating and clarifying information related to LGBT rights, historical events, and notable figures, while removing outdated or derogatory content.  \n",
       "1  Edits reflect changes in territorial designations and governance, emphasizing claims by the Donetsk and Luhansk People's Republics while removing Ukrainian references and administrative details.  \n",
       "2                                                              Multiple Wikipedia pages had the editing caution category removed, indicating a change in the perceived necessity for careful editing.  \n",
       "3                            Edits focus on altering terminology related to the Russia-Ukraine conflict, shifting from specific invasion references to broader military actions and general policies.  \n",
       "4                                                                          Edits focused on updating metadata with locations, cultural topics, and adding age and gender templates for various pages.  \n",
       "5                                                         Templates for Russian legislation and medications were added to various pharmaceutical pages, enhancing their categorization and relevance.  \n",
       "6         The edits focus on removing specific references to the Ukraine conflict in sanctions descriptions, simplifying statements, and altering context around individuals and entities sanctioned.  \n",
       "7                                      Various edits focused on updating metadata templates, removing outdated references, and refining geographical classifications across multiple Wikipedia pages.  "
      ]
     },
     "execution_count": 851,
     "metadata": {},
     "output_type": "execute_result"
    }
   ],
   "source": [
    "tmp = pd.DataFrame(cluster_details)\n",
    "tmp"
   ]
  },
  {
   "cell_type": "markdown",
   "id": "2e7f5ac4",
   "metadata": {},
   "source": [
    "# 2. Define the quality of clustring in zero-shot classification + reclassification all the texts:\n",
    "    - Define the number of correctly classified examples.\n",
    "        - Reclassify if needed. \n",
    "    - Define the rate of correctly classified samples.\n",
    "    - Define the confidence interval for the classification."
   ]
  },
  {
   "cell_type": "markdown",
   "id": "3bf13f9f",
   "metadata": {},
   "source": [
    "# 2.1 Defining clustering fit: "
   ]
  },
  {
   "cell_type": "code",
   "execution_count": 856,
   "id": "391e0ddd",
   "metadata": {},
   "outputs": [],
   "source": [
    "jsonl_file = \"../data/embed/input/batch_requests_zero_shot_fit\"\n",
    "model_name = 'gpt-4o-mini-2024-07-18'\n",
    "max_batch_size = 6500\n",
    "jsonl_files = []\n",
    "\n",
    "initial_prompt = \"\"\"\n",
    "    You are provided with a specific edit to the Wikipedia page (defined in <>) along with possible cluster details (defined in {}) to which the edit belongs.\n",
    "    You need to analyse the edit and decide whether the edit fits the provided cluster or not.\n",
    "    Provide ONLY a short answer (YES or NO).\n",
    "\"\"\"\n",
    "\n",
    "texts_to_classify = clusters_df[\"text\"].values\n",
    "cluster_details_all = clusters_df[\"label\"].values\n",
    "\n",
    "for i in range(0, len(texts_to_classify), max_batch_size):\n",
    "    texts_to_classify_batch = texts_to_classify[i:i+max_batch_size]\n",
    "    cluster_details_batch = cluster_details_all[i:i+max_batch_size]\n",
    "    with open(jsonl_file + f\"_{i}.jsonl\", \"w\") as f:\n",
    "        for j, (text_example, cluster_details_i) in enumerate(zip(texts_to_classify_batch, cluster_details_batch)):\n",
    "            request = {\n",
    "                \"custom_id\": f\"{i}-{j}\",\n",
    "                \"method\": \"POST\",\n",
    "                \"url\": \"/v1/chat/completions\",\n",
    "                \"body\": {\n",
    "                    \"model\": model_name,\n",
    "                    \"messages\": [\n",
    "                        {\"role\": \"system\", \"content\": initial_prompt},\n",
    "                        {\"role\": \"user\", \"content\": f\"Edit summary: <{text_example}>\"},\n",
    "                        {\"role\": \"user\", \"content\": f\"Cluster details: {cluster_details[cluster_details_i]}\"},\n",
    "                    ],\n",
    "                \"max_tokens\": 5\n",
    "                }\n",
    "            }\n",
    "            f.write(json.dumps(request) + \"\\n\")\n",
    "\n",
    "    jsonl_files.append(jsonl_file + f\"_{i}.jsonl\")"
   ]
  },
  {
   "cell_type": "code",
   "execution_count": 857,
   "id": "bce81928",
   "metadata": {},
   "outputs": [],
   "source": [
    "from dotenv import load_dotenv\n",
    "from openai import OpenAI\n",
    "\n",
    "load_dotenv()\n",
    "client = OpenAI()\n",
    "\n",
    "batch_input_files = []\n",
    "for jsonl_file in jsonl_files:\n",
    "  batch_input_file = client.files.create(\n",
    "    file=open(jsonl_file, \"rb\"),\n",
    "    purpose=\"batch\"\n",
    "  )\n",
    "  batch_input_files.append(batch_input_file)"
   ]
  },
  {
   "cell_type": "code",
   "execution_count": 885,
   "id": "75976922",
   "metadata": {},
   "outputs": [],
   "source": [
    "a = 4\n",
    "\n",
    "for batch_input_file in batch_input_files[a:a+1]:\n",
    "  batch_input_file_id = batch_input_file.id\n",
    "  client.batches.create(\n",
    "      input_file_id=batch_input_file_id,\n",
    "      endpoint=\"/v1/chat/completions\",\n",
    "      completion_window=\"24h\",\n",
    "      metadata={\n",
    "        \"description\": \"zero-shot for ruwiki\"\n",
    "      }\n",
    "  )\n",
    "  batch_input_file_ids.append(batch_input_file_id)"
   ]
  },
  {
   "cell_type": "code",
   "execution_count": 904,
   "id": "bde7f23f",
   "metadata": {},
   "outputs": [
    {
     "name": "stderr",
     "output_type": "stream",
     "text": [
      "100%|██████████| 30599/30599 [00:00<00:00, 1139162.88it/s]\n"
     ]
    }
   ],
   "source": [
    "# Get all file names:\n",
    "import glob\n",
    "from tqdm.auto import tqdm\n",
    "\n",
    "\n",
    "def parse_text(text):\n",
    "    text = text.lower()\n",
    "    if text == \"yes\":\n",
    "        return 1\n",
    "    else:\n",
    "        return 0\n",
    "\n",
    "files = glob.glob(\"../data/embed/output/zero_shot_fit/batch_*.jsonl\")\n",
    "responses = []\n",
    "for output_file in files:\n",
    "    # Read responses from jsonl file\n",
    "    with open(output_file, \"r\") as f:\n",
    "        for line in f:\n",
    "            responses.append(json.loads(line))\n",
    "\n",
    "responses_binary = []\n",
    "sample_ids = []\n",
    "for response in tqdm(responses):\n",
    "    responses_binary.append(parse_text(response[\"response\"][\"body\"][\"choices\"][0]['message'][\"content\"]))\n",
    "    sample_ids.append(response[\"custom_id\"])\n",
    "\n",
    "zero_shot_dict = dict(zip(sample_ids, responses_binary))\n",
    "\n",
    "# Extracting requests and their ids:\n",
    "jsonl_files_input = glob.glob(\"../data/embed/input/batch_requests_zero*.jsonl\")\n",
    "\n",
    "ids_input = []\n",
    "texts_input = []\n",
    "for file in jsonl_files_input:\n",
    "    with open(file, \"r\") as f:\n",
    "        for line in f:\n",
    "            request = json.loads(line)\n",
    "            ids_input.append(request[\"custom_id\"])\n",
    "            texts_input.append(request[\"body\"][\"messages\"][1][\"content\"][15:-1])\n",
    "\n",
    "text_input_to_id = dict(zip(texts_input, ids_input))\n",
    "text_to_zero_shot = {text: zero_shot_dict[idd] for text, idd in text_input_to_id.items()}\n",
    "results = [text_to_zero_shot.get(text) for text in clusters_df[\"text\"].values]\n",
    "\n",
    "assert len(clusters_df) == len(results)\n",
    "clusters_df[\"is_correct\"] = results"
   ]
  },
  {
   "cell_type": "code",
   "execution_count": 907,
   "id": "54df89b0",
   "metadata": {},
   "outputs": [
    {
     "data": {
      "text/plain": [
       "label\n",
       "0    0.016112\n",
       "1    0.875661\n",
       "2    0.998726\n",
       "3    0.972684\n",
       "4    0.995892\n",
       "5    0.999385\n",
       "6    0.594124\n",
       "7    0.928501\n",
       "Name: is_correct, dtype: float64"
      ]
     },
     "execution_count": 907,
     "metadata": {},
     "output_type": "execute_result"
    }
   ],
   "source": [
    "# Calculate the accuracy\n",
    "clusters_df.groupby(\"label\").is_correct.mean()"
   ]
  },
  {
   "cell_type": "code",
   "execution_count": 973,
   "id": "e1eeea16",
   "metadata": {},
   "outputs": [
    {
     "data": {
      "text/html": [
       "<div>\n",
       "<style scoped>\n",
       "    .dataframe tbody tr th:only-of-type {\n",
       "        vertical-align: middle;\n",
       "    }\n",
       "\n",
       "    .dataframe tbody tr th {\n",
       "        vertical-align: top;\n",
       "    }\n",
       "\n",
       "    .dataframe thead th {\n",
       "        text-align: right;\n",
       "    }\n",
       "</style>\n",
       "<table border=\"1\" class=\"dataframe\">\n",
       "  <thead>\n",
       "    <tr style=\"text-align: right;\">\n",
       "      <th></th>\n",
       "      <th>cluster_id</th>\n",
       "      <th>median</th>\n",
       "      <th>delta</th>\n",
       "      <th>count</th>\n",
       "    </tr>\n",
       "  </thead>\n",
       "  <tbody>\n",
       "    <tr>\n",
       "      <th>0</th>\n",
       "      <td>0</td>\n",
       "      <td>1.611199</td>\n",
       "      <td>0.407866</td>\n",
       "      <td>3786</td>\n",
       "    </tr>\n",
       "    <tr>\n",
       "      <th>1</th>\n",
       "      <td>1</td>\n",
       "      <td>87.566103</td>\n",
       "      <td>0.750343</td>\n",
       "      <td>7753</td>\n",
       "    </tr>\n",
       "    <tr>\n",
       "      <th>2</th>\n",
       "      <td>2</td>\n",
       "      <td>99.872571</td>\n",
       "      <td>0.129668</td>\n",
       "      <td>3139</td>\n",
       "    </tr>\n",
       "    <tr>\n",
       "      <th>3</th>\n",
       "      <td>3</td>\n",
       "      <td>97.268365</td>\n",
       "      <td>0.649320</td>\n",
       "      <td>2709</td>\n",
       "    </tr>\n",
       "    <tr>\n",
       "      <th>4</th>\n",
       "      <td>4</td>\n",
       "      <td>99.589246</td>\n",
       "      <td>0.242295</td>\n",
       "      <td>2678</td>\n",
       "    </tr>\n",
       "    <tr>\n",
       "      <th>5</th>\n",
       "      <td>5</td>\n",
       "      <td>99.938462</td>\n",
       "      <td>0.119887</td>\n",
       "      <td>1625</td>\n",
       "    </tr>\n",
       "    <tr>\n",
       "      <th>6</th>\n",
       "      <td>6</td>\n",
       "      <td>59.386375</td>\n",
       "      <td>1.576484</td>\n",
       "      <td>3846</td>\n",
       "    </tr>\n",
       "    <tr>\n",
       "      <th>7</th>\n",
       "      <td>7</td>\n",
       "      <td>92.850089</td>\n",
       "      <td>0.725048</td>\n",
       "      <td>5063</td>\n",
       "    </tr>\n",
       "  </tbody>\n",
       "</table>\n",
       "</div>"
      ],
      "text/plain": [
       "   cluster_id     median     delta  count\n",
       "0           0   1.611199  0.407866   3786\n",
       "1           1  87.566103  0.750343   7753\n",
       "2           2  99.872571  0.129668   3139\n",
       "3           3  97.268365  0.649320   2709\n",
       "4           4  99.589246  0.242295   2678\n",
       "5           5  99.938462  0.119887   1625\n",
       "6           6  59.386375  1.576484   3846\n",
       "7           7  92.850089  0.725048   5063"
      ]
     },
     "execution_count": 973,
     "metadata": {},
     "output_type": "execute_result"
    }
   ],
   "source": [
    "def draw_bs_replicates(data, func, size):\n",
    "    \"\"\"creates a bootstrap sample, computes replicates and returns replicates array\"\"\"\n",
    "    # Create an empty array to store replicates\n",
    "    bs_replicates = np.empty(size)\n",
    "    # Create bootstrap replicates as much as size\n",
    "    for i in range(size):\n",
    "        # Create a bootstrap sample\n",
    "        bs_sample = np.random.choice(data, size=len(data))\n",
    "        # Get bootstrap replicate and append to bs_replicates\n",
    "        bs_replicates[i] = func(bs_sample)\n",
    "    return bs_replicates\n",
    "\n",
    "medians = []\n",
    "deltas = []\n",
    "counts = []\n",
    "for i in range(clusters_df.label.nunique()):\n",
    "    cluster_results = clusters_df[clusters_df.label == i].is_correct.values\n",
    "    bs_stats = draw_bs_replicates(\n",
    "        cluster_results, np.mean, 1000\n",
    "    )\n",
    "    medians.append(np.median(bs_stats) * 100)\n",
    "    deltas.append(np.std(bs_stats) * 2 * 100)\n",
    "    counts.append(len(cluster_results))\n",
    "\n",
    "results_df = pd.DataFrame({\n",
    "    \"cluster_id\": range(clusters_df.label.nunique()),\n",
    "    \"median\": medians,\n",
    "    \"delta\": deltas,\n",
    "    \"count\": counts\n",
    "})\n",
    "results_df"
   ]
  },
  {
   "cell_type": "markdown",
   "id": "6bdf52f1",
   "metadata": {},
   "source": [
    "# 2.2 Zero-shot reclassification:"
   ]
  },
  {
   "cell_type": "code",
   "execution_count": 915,
   "id": "5a356ac5",
   "metadata": {},
   "outputs": [
    {
     "name": "stdout",
     "output_type": "stream",
     "text": [
      "6702\n"
     ]
    }
   ],
   "source": [
    "clusters_df[\"id\"] = np.arange(len(clusters_df))\n",
    "clusters_df_incorrect = clusters_df[clusters_df.is_correct == False]\n",
    "print(len(clusters_df_incorrect))"
   ]
  },
  {
   "cell_type": "code",
   "execution_count": 922,
   "id": "f7a64c2d",
   "metadata": {},
   "outputs": [],
   "source": [
    "jsonl_file = \"../data/embed/input/batch_requests_zero_shot_reclass\"\n",
    "model_name = 'gpt-4o-mini-2024-07-18'\n",
    "max_batch_size = 3500\n",
    "jsonl_files = []\n",
    "\n",
    "cluster_details_str = '\\n'.join([f\"{i}. {c['cluster_name']}: {c['cluster_summary']}\" for i, c in enumerate(cluster_details)])\n",
    "\n",
    "initial_prompt = f\"\"\"\n",
    "    You are provided with a specific edit to the Wikipedia page (defined in <>).\n",
    "\n",
    "    You need to reclassify the edit to the correct cluster based on the provided cluster details.\n",
    "\n",
    "    Cluster details:\n",
    "    {cluster_details_str}\n",
    "    8. Other changes: The edit does not fit any of the provided clusters. (always use this option if the edit does not fit any of the provided clusters)\n",
    "\n",
    "    Provide ONLY a short answer (cluster number). (0-{len(cluster_details)})\n",
    "\"\"\"\n",
    "\n",
    "texts_to_classify = clusters_df_incorrect[\"text\"].values\n",
    "texts_ids = clusters_df_incorrect[\"id\"].values\n",
    "\n",
    "for i in range(0, len(texts_to_classify), max_batch_size):\n",
    "    texts_to_classify_batch = texts_to_classify[i:i+max_batch_size]\n",
    "    texts_ids_batch = texts_ids[i:i+max_batch_size]\n",
    "    with open(jsonl_file + f\"_{i}.jsonl\", \"w\") as f:\n",
    "        for j, (text_example, idd) in enumerate(zip(texts_to_classify_batch, texts_ids_batch)):\n",
    "            request = {\n",
    "                \"custom_id\": f\"{idd}\",\n",
    "                \"method\": \"POST\",\n",
    "                \"url\": \"/v1/chat/completions\",\n",
    "                \"body\": {\n",
    "                    \"model\": model_name,\n",
    "                    \"messages\": [\n",
    "                        {\"role\": \"system\", \"content\": initial_prompt},\n",
    "                        {\"role\": \"user\", \"content\": f\"Edit summary to classify: <{text_example}>\"},\n",
    "                    ],\n",
    "                \"max_tokens\": 5\n",
    "                }\n",
    "            }\n",
    "            f.write(json.dumps(request) + \"\\n\")\n",
    "    jsonl_files.append(jsonl_file + f\"_{i}.jsonl\")"
   ]
  },
  {
   "cell_type": "code",
   "execution_count": 923,
   "id": "5db99f78",
   "metadata": {},
   "outputs": [],
   "source": [
    "from dotenv import load_dotenv\n",
    "from openai import OpenAI\n",
    "\n",
    "load_dotenv()\n",
    "client = OpenAI()\n",
    "\n",
    "batch_input_files = []\n",
    "for jsonl_file in jsonl_files:\n",
    "  batch_input_file = client.files.create(\n",
    "    file=open(jsonl_file, \"rb\"),\n",
    "    purpose=\"batch\"\n",
    "  )\n",
    "  batch_input_files.append(batch_input_file)"
   ]
  },
  {
   "cell_type": "code",
   "execution_count": 925,
   "id": "81a989ad",
   "metadata": {},
   "outputs": [],
   "source": [
    "for batch_input_file in batch_input_files[1:]:\n",
    "  batch_input_file_id = batch_input_file.id\n",
    "  client.batches.create(\n",
    "      input_file_id=batch_input_file_id,\n",
    "      endpoint=\"/v1/chat/completions\",\n",
    "      completion_window=\"24h\",\n",
    "      metadata={\n",
    "        \"description\": \"zero-shot reclass for ruwiki\"\n",
    "      }\n",
    "  )\n",
    "  batch_input_file_ids.append(batch_input_file_id)"
   ]
  },
  {
   "cell_type": "code",
   "execution_count": 930,
   "id": "59c286ff",
   "metadata": {},
   "outputs": [
    {
     "name": "stderr",
     "output_type": "stream",
     "text": [
      "100%|██████████| 6702/6702 [00:00<00:00, 907747.78it/s]\n"
     ]
    }
   ],
   "source": [
    "files = glob.glob(\"../data/embed/output/zero_shot_reclass/batch_*.jsonl\")\n",
    "responses = []\n",
    "for output_file in files:\n",
    "    # Read responses from jsonl file\n",
    "    with open(output_file, \"r\") as f:\n",
    "        for line in f:\n",
    "            responses.append(json.loads(line))\n",
    "\n",
    "responses_binary = []\n",
    "sample_ids = []\n",
    "for response in tqdm(responses):\n",
    "    responses_binary.append(int(float(response[\"response\"][\"body\"][\"choices\"][0]['message'][\"content\"])))\n",
    "    sample_ids.append(response[\"custom_id\"])\n",
    "\n",
    "zero_shot_reclass_dict = dict(zip(sample_ids, responses_binary))"
   ]
  },
  {
   "cell_type": "code",
   "execution_count": 934,
   "id": "ffb64fd2",
   "metadata": {},
   "outputs": [
    {
     "data": {
      "text/html": [
       "<div>\n",
       "<style scoped>\n",
       "    .dataframe tbody tr th:only-of-type {\n",
       "        vertical-align: middle;\n",
       "    }\n",
       "\n",
       "    .dataframe tbody tr th {\n",
       "        vertical-align: top;\n",
       "    }\n",
       "\n",
       "    .dataframe thead th {\n",
       "        text-align: right;\n",
       "    }\n",
       "</style>\n",
       "<table border=\"1\" class=\"dataframe\">\n",
       "  <thead>\n",
       "    <tr style=\"text-align: right;\">\n",
       "      <th></th>\n",
       "      <th>text</th>\n",
       "      <th>label</th>\n",
       "      <th>is_correct</th>\n",
       "      <th>id</th>\n",
       "      <th>new_label</th>\n",
       "    </tr>\n",
       "  </thead>\n",
       "  <tbody>\n",
       "    <tr>\n",
       "      <th>0</th>\n",
       "      <td>The river's metadata was updated: the new basin entry for Кудренок lists Кудриха as the primary river, shifting from the previous value of Ануй (река).</td>\n",
       "      <td>7</td>\n",
       "      <td>1</td>\n",
       "      <td>0</td>\n",
       "      <td>7</td>\n",
       "    </tr>\n",
       "    <tr>\n",
       "      <th>1</th>\n",
       "      <td>Added information about Ukrainian control over Зелёное as of August 2023, the status as per a treaty with Russia, and the dispute of this status by Ukrainian authorities. Removed local governance details and enhanced transportation descriptions.</td>\n",
       "      <td>1</td>\n",
       "      <td>0</td>\n",
       "      <td>1</td>\n",
       "      <td>1</td>\n",
       "    </tr>\n",
       "    <tr>\n",
       "      <th>2</th>\n",
       "      <td>Added a contract date mentioning Belogrodovo as part of Russia, while Ukraine disputes this. Removed postal index and phone code, and updated demographic and geographic details, changing the administrative classification to Голопристанский муниципальный округ.</td>\n",
       "      <td>1</td>\n",
       "      <td>1</td>\n",
       "      <td>2</td>\n",
       "      <td>1</td>\n",
       "    </tr>\n",
       "    <tr>\n",
       "      <th>3</th>\n",
       "      <td>Added a statement about the agreement recognizing Стокопани as part of the Russian Federation as of September 30, 2022, while removing local postal code and phone code details. Made minor changes to spelling and census data formatting.</td>\n",
       "      <td>1</td>\n",
       "      <td>1</td>\n",
       "      <td>3</td>\n",
       "      <td>1</td>\n",
       "    </tr>\n",
       "    <tr>\n",
       "      <th>4</th>\n",
       "      <td>The entry for 'Горловка' was updated to state it is a city in the Donetsk People's Republic, removing its previous designation as a city of regional significance in Donetsk Oblast of Ukraine.</td>\n",
       "      <td>1</td>\n",
       "      <td>1</td>\n",
       "      <td>4</td>\n",
       "      <td>1</td>\n",
       "    </tr>\n",
       "    <tr>\n",
       "      <th>...</th>\n",
       "      <td>...</td>\n",
       "      <td>...</td>\n",
       "      <td>...</td>\n",
       "      <td>...</td>\n",
       "      <td>...</td>\n",
       "    </tr>\n",
       "    <tr>\n",
       "      <th>30594</th>\n",
       "      <td>The Wikipedia page for 'Сексуальная тварь' has undergone a metadata change, adding the '18+' template indicating adult content and the 'Гендеры' template, likely to emphasize gender-related themes in the context of culture and media.</td>\n",
       "      <td>4</td>\n",
       "      <td>1</td>\n",
       "      <td>30594</td>\n",
       "      <td>4</td>\n",
       "    </tr>\n",
       "    <tr>\n",
       "      <th>30595</th>\n",
       "      <td>The Wikipedia page for 'Сеть Чебышёва' was edited to include a new category 'Пафнутий Чебышёв', linking the page more closely to the mathematician Pafnuty Chebyshev.</td>\n",
       "      <td>7</td>\n",
       "      <td>0</td>\n",
       "      <td>30595</td>\n",
       "      <td>4</td>\n",
       "    </tr>\n",
       "    <tr>\n",
       "      <th>30596</th>\n",
       "      <td>The article 'Плюсское перемирие' had its metadata updated by removing the category 'Статьи с эдитнотисом об осторожности при редактировании', indicating a change in the editorial status of the page.</td>\n",
       "      <td>2</td>\n",
       "      <td>1</td>\n",
       "      <td>30596</td>\n",
       "      <td>2</td>\n",
       "    </tr>\n",
       "    <tr>\n",
       "      <th>30597</th>\n",
       "      <td>Добавлено упоминание о партнёрше Зеленского Алёне Шоптенко, её достижениях в бальных танцах и высокой рейтинговой посещаемости шоу. Удалены детали о Холокосте, обладании языками, а также информация о его ранней карьере на телевидении.</td>\n",
       "      <td>0</td>\n",
       "      <td>0</td>\n",
       "      <td>30597</td>\n",
       "      <td>8</td>\n",
       "    </tr>\n",
       "    <tr>\n",
       "      <th>30598</th>\n",
       "      <td>Replaced 'вторжения России на Украину' with 'военных действий на Украине', altering the phrasing to a more general term regarding the conflict between Ukraine and Russia.</td>\n",
       "      <td>3</td>\n",
       "      <td>1</td>\n",
       "      <td>30598</td>\n",
       "      <td>3</td>\n",
       "    </tr>\n",
       "  </tbody>\n",
       "</table>\n",
       "<p>30599 rows × 5 columns</p>\n",
       "</div>"
      ],
      "text/plain": [
       "                                                                                                                                                                                                                                                                       text  \\\n",
       "0                                                                                                                   The river's metadata was updated: the new basin entry for Кудренок lists Кудриха as the primary river, shifting from the previous value of Ануй (река).   \n",
       "1                     Added information about Ukrainian control over Зелёное as of August 2023, the status as per a treaty with Russia, and the dispute of this status by Ukrainian authorities. Removed local governance details and enhanced transportation descriptions.   \n",
       "2      Added a contract date mentioning Belogrodovo as part of Russia, while Ukraine disputes this. Removed postal index and phone code, and updated demographic and geographic details, changing the administrative classification to Голопристанский муниципальный округ.   \n",
       "3                               Added a statement about the agreement recognizing Стокопани as part of the Russian Federation as of September 30, 2022, while removing local postal code and phone code details. Made minor changes to spelling and census data formatting.   \n",
       "4                                                                           The entry for 'Горловка' was updated to state it is a city in the Donetsk People's Republic, removing its previous designation as a city of regional significance in Donetsk Oblast of Ukraine.   \n",
       "...                                                                                                                                                                                                                                                                     ...   \n",
       "30594                             The Wikipedia page for 'Сексуальная тварь' has undergone a metadata change, adding the '18+' template indicating adult content and the 'Гендеры' template, likely to emphasize gender-related themes in the context of culture and media.   \n",
       "30595                                                                                                 The Wikipedia page for 'Сеть Чебышёва' was edited to include a new category 'Пафнутий Чебышёв', linking the page more closely to the mathematician Pafnuty Chebyshev.   \n",
       "30596                                                                The article 'Плюсское перемирие' had its metadata updated by removing the category 'Статьи с эдитнотисом об осторожности при редактировании', indicating a change in the editorial status of the page.   \n",
       "30597                            Добавлено упоминание о партнёрше Зеленского Алёне Шоптенко, её достижениях в бальных танцах и высокой рейтинговой посещаемости шоу. Удалены детали о Холокосте, обладании языками, а также информация о его ранней карьере на телевидении.   \n",
       "30598                                                                                            Replaced 'вторжения России на Украину' with 'военных действий на Украине', altering the phrasing to a more general term regarding the conflict between Ukraine and Russia.   \n",
       "\n",
       "       label  is_correct     id  new_label  \n",
       "0          7           1      0          7  \n",
       "1          1           0      1          1  \n",
       "2          1           1      2          1  \n",
       "3          1           1      3          1  \n",
       "4          1           1      4          1  \n",
       "...      ...         ...    ...        ...  \n",
       "30594      4           1  30594          4  \n",
       "30595      7           0  30595          4  \n",
       "30596      2           1  30596          2  \n",
       "30597      0           0  30597          8  \n",
       "30598      3           1  30598          3  \n",
       "\n",
       "[30599 rows x 5 columns]"
      ]
     },
     "execution_count": 934,
     "metadata": {},
     "output_type": "execute_result"
    }
   ],
   "source": [
    "new_cluster_ids = []\n",
    "for idd, label in zip(clusters_df[\"id\"].values, clusters_df[\"label\"].values):\n",
    "    new_cluster_ids.append(zero_shot_reclass_dict.get(str(idd), label))\n",
    "\n",
    "clusters_df[\"new_label\"] = new_cluster_ids\n",
    "clusters_df"
   ]
  },
  {
   "cell_type": "code",
   "execution_count": 939,
   "id": "ad9e1a68",
   "metadata": {},
   "outputs": [
    {
     "data": {
      "text/plain": [
       "8    3108\n",
       "4     931\n",
       "7     775\n",
       "3     761\n",
       "1     230\n",
       "2      37\n",
       "0      29\n",
       "6      24\n",
       "5       3\n",
       "Name: new_label, dtype: int64"
      ]
     },
     "execution_count": 939,
     "metadata": {},
     "output_type": "execute_result"
    }
   ],
   "source": [
    "clusters_df[clusters_df.label != clusters_df.new_label].new_label.value_counts()\n",
    "\n",
    "# clusters_df.new_label.value_counts()"
   ]
  },
  {
   "cell_type": "code",
   "execution_count": 940,
   "id": "830143a4",
   "metadata": {},
   "outputs": [
    {
     "data": {
      "text/plain": [
       "0.7809732344194255"
      ]
     },
     "execution_count": 940,
     "metadata": {},
     "output_type": "execute_result"
    }
   ],
   "source": [
    "clusters_df.is_correct.mean()"
   ]
  },
  {
   "cell_type": "code",
   "execution_count": 974,
   "id": "e29938a4",
   "metadata": {},
   "outputs": [
    {
     "data": {
      "text/plain": [
       "0.5269582909460834"
      ]
     },
     "execution_count": 974,
     "metadata": {},
     "output_type": "execute_result"
    }
   ],
   "source": [
    "3108 / len(clusters_df[clusters_df.label != clusters_df.new_label])"
   ]
  },
  {
   "cell_type": "code",
   "execution_count": 975,
   "id": "159bb8f5",
   "metadata": {},
   "outputs": [
    {
     "data": {
      "text/plain": [
       "8    2412\n",
       "4     775\n",
       "7     345\n",
       "3      68\n",
       "1      36\n",
       "6      23\n",
       "2       7\n",
       "5       2\n",
       "Name: new_label, dtype: int64"
      ]
     },
     "execution_count": 975,
     "metadata": {},
     "output_type": "execute_result"
    }
   ],
   "source": [
    "clusters_df[(clusters_df.label != clusters_df.new_label) & (clusters_df.label==0)].new_label.value_counts()"
   ]
  },
  {
   "cell_type": "markdown",
   "id": "b657db31",
   "metadata": {},
   "source": [
    "## Example for visualization: "
   ]
  },
  {
   "cell_type": "code",
   "execution_count": 941,
   "id": "6825287f",
   "metadata": {},
   "outputs": [
    {
     "name": "stdout",
     "output_type": "stream",
     "text": [
      "page title: Чийгоз, Ахтем Зейтуллаевич\n",
      "change type: text change\n",
      "lines removed: Организация Amnesty International назвала арест «очередной репрессивной мерой против несогласных с аннексией Крыма»\n",
      "categories removed: Статьи с эдитнотисом об осторожности при редактировании\n",
      "page location: Ukraine\n",
      "page topics: Culture.Biography.Biography*, Geography.Regions.Europe.Eastern_Europe, Geography.Regions.Europe.Europe*\n",
      "templates removed: Cite web|lang=uk|url=https://www.bbc.com/ukrainian/news_in_brief/2015/01/150130_or_chiygos_arrest|title=Amnesty назвала арешт Чийгоза \"репресивним заходом\"|website=BBC News Україна|accessdate=2020-06-20\n",
      "\n",
      "The edit removed a statement from Amnesty International about Ahtem Chiygoz's arrest being a repressive measure against dissenters regarding Crimea's annexation, as well as categories related to editing caution and a citation from BBC News.\n",
      "------------------------------------------------------------\n"
     ]
    },
    {
     "data": {
      "text/html": [
       "<div>\n",
       "<style scoped>\n",
       "    .dataframe tbody tr th:only-of-type {\n",
       "        vertical-align: middle;\n",
       "    }\n",
       "\n",
       "    .dataframe tbody tr th {\n",
       "        vertical-align: top;\n",
       "    }\n",
       "\n",
       "    .dataframe thead th {\n",
       "        text-align: right;\n",
       "    }\n",
       "</style>\n",
       "<table border=\"1\" class=\"dataframe\">\n",
       "  <thead>\n",
       "    <tr style=\"text-align: right;\">\n",
       "      <th></th>\n",
       "      <th>text</th>\n",
       "      <th>label</th>\n",
       "      <th>is_correct</th>\n",
       "      <th>id</th>\n",
       "      <th>new_label</th>\n",
       "    </tr>\n",
       "  </thead>\n",
       "  <tbody>\n",
       "    <tr>\n",
       "      <th>15343</th>\n",
       "      <td>The edit removed a statement from Amnesty International about Ahtem Chiygoz's arrest being a repressive measure against dissenters regarding Crimea's annexation, as well as categories related to editing caution and a citation from BBC News.</td>\n",
       "      <td>6</td>\n",
       "      <td>0</td>\n",
       "      <td>15343</td>\n",
       "      <td>1</td>\n",
       "    </tr>\n",
       "  </tbody>\n",
       "</table>\n",
       "</div>"
      ],
      "text/plain": [
       "                                                                                                                                                                                                                                                   text  \\\n",
       "15343  The edit removed a statement from Amnesty International about Ahtem Chiygoz's arrest being a repressive measure against dissenters regarding Crimea's annexation, as well as categories related to editing caution and a citation from BBC News.   \n",
       "\n",
       "       label  is_correct     id  new_label  \n",
       "15343      6           0  15343          1  "
      ]
     },
     "execution_count": 941,
     "metadata": {},
     "output_type": "execute_result"
    }
   ],
   "source": [
    "for k in text_to_summary.keys():\n",
    "    if \"Чийгоз\" in k:\n",
    "        print(k)\n",
    "        print(text_to_summary[k])\n",
    "        print(\"---\"*20)\n",
    "\n",
    "# Selected example: \n",
    "# page title: Забастовка русской Википедии\n",
    "# change type: text change\n",
    "# lines removed: Википедия:Страницы Википедии, запрещённые в России Википедия:Законопроект № 89417-6\n",
    "# page location: unknown\n",
    "# page topics: Culture.Internet_culture, Culture.Media.Media*, Geography.Regions.Asia.Asia*\n",
    "\n",
    "# The edit removed references to 'Википедия:Страницы Википедии, запрещённые в России' and 'Википедия:Законопроект № 89417-6', indicating a deletion of content related to Wikipedia pages banned in Russia and a specific legislative proposal.\n",
    "summary= \"The edit removed a statement from Amnesty International about Ahtem Chiygoz's arrest being a repressive measure against dissenters regarding Crimea's annexation, as well as categories related to editing caution and a citation from BBC News.\"\n",
    "clusters_df[clusters_df.text == summary]"
   ]
  },
  {
   "cell_type": "code",
   "execution_count": 943,
   "id": "0dc26c42",
   "metadata": {},
   "outputs": [
    {
     "data": {
      "text/plain": [
       "1    7403\n",
       "7    5582\n",
       "4    3603\n",
       "3    3439\n",
       "2    3172\n",
       "8    3108\n",
       "6    2518\n",
       "5    1627\n",
       "0     147\n",
       "Name: new_label, dtype: int64"
      ]
     },
     "execution_count": 943,
     "metadata": {},
     "output_type": "execute_result"
    }
   ],
   "source": [
    "clusters_df.new_label.value_counts()"
   ]
  },
  {
   "cell_type": "code",
   "execution_count": 958,
   "id": "a7658e82",
   "metadata": {},
   "outputs": [
    {
     "data": {
      "text/html": [
       "<div>\n",
       "<style scoped>\n",
       "    .dataframe tbody tr th:only-of-type {\n",
       "        vertical-align: middle;\n",
       "    }\n",
       "\n",
       "    .dataframe tbody tr th {\n",
       "        vertical-align: top;\n",
       "    }\n",
       "\n",
       "    .dataframe thead th {\n",
       "        text-align: right;\n",
       "    }\n",
       "</style>\n",
       "<table border=\"1\" class=\"dataframe\">\n",
       "  <thead>\n",
       "    <tr style=\"text-align: right;\">\n",
       "      <th></th>\n",
       "      <th>full_text</th>\n",
       "    </tr>\n",
       "  </thead>\n",
       "  <tbody>\n",
       "    <tr>\n",
       "      <th>5602</th>\n",
       "      <td>page title: Наумова, Марьяна Александровна\\nchange type: text change\\nlines removed: 30 июня 2016 года Наумова обратилась к Надежде Савченко с просьбой скорректировать «Закон Украины об оккупированных территориях» с тем, чтобы дети-спортсмены ДНР и ЛНР могли бы выступать на соревнованиях Надя ей посоветовала позвонить Путину и попросить его ослабить законы РФ относительно Крыма и засечь время, за которое Марьяну схватят и посадят за призывы к сепаратизму в РФ… Позицию спортсменки подвергла критике сестра Надежды Савченко, Вера:\\nlines changed: : Old value: Поддерживая вторжение России в Украину и позиционируя себя как военный корреспондент, Марьяна Наумова участвовала в «курсах для военкоров», организованных «Группой Вагнера»\\nNew value: Поддерживая политику России в отношении Украины и позиционируя себя как военный корреспондент, Марьяна Наумова участвовала в «курсах для военкоров», организованных «Группой Вагнера»\\n\\nOld value: В марте 2022 года Марьяна Наумова раскритиковала обращение Арнольда Шварценеггера к россиянам по поводу вторжения России на Украину, в котором он обвинил российскую власть в агрессии и дезинформации населения\\nNew value: В марте 2022 года Марьяна Наумова раскритиковала обращение Арнольда Шварценеггера к россиянам по поводу политики России в отношении Украины\\n\\nOld value: 7 января 2023 года, на фоне вторжения России на Украину, Марьяна Наумова была внесена в санкционные списки Украины, предполагающие блокировку активов, полное прекращение коммерческих операций, остановку выполнения экономических и финансовых обязательств\\nNew value: 7 января 2023 года, на фоне военных действий на Украине, Марьяна Наумова была внесена в санкционные списки Украины, предполагающие блокировку активов, полное прекращение коммерческих операций, остановку выполнения экономических и финансовых обязательств\\n\\ncategories removed: Лица, подвергнутые санкциям в связи с конфликтом на Украине\\npage location: Russia\\npage topics: Culture.Biography.Biography*, Geography.Regions.Asia.Asia*, Geography.Regions.Europe.Eastern_Europe\\ntemplates removed: Cite web |url=https://kp.ua/politics/543792-pryntsessa-shtanhy-yz-rossyy-napysala-pysmo-nadezhde-savchenko |title=«Комсомольская правда в Украине» — официальный сайт 30.06.2016 |access-date=2019-03-23 |archive-date=2019-03-23 |archive-url=https://web.archive.org/web/20190323195503/https://kp.ua/politics/543792-pryntsessa-shtanhy-yz-rossyy-napysala-pysmo-nadezhde-savchenko |deadlink=no , Cite web |url=https://24tv.ua/sport/ru/skandalnaja_rossijskaja_sportsmenka_obratilas_k_savchenko_n700777 |title=Телеканал «Новости-24-Украина» — официальный сайт 30.06.2016 |access-date=2019-03-23 |archive-date=2019-03-26 |archive-url=https://web.archive.org/web/20190326215939/https://24tv.ua/sport/ru/skandalnaja_rossijskaja_sportsmenka_obratilas_k_savchenko_n700777 |deadlink=no , конец цитаты\\n</td>\n",
       "    </tr>\n",
       "    <tr>\n",
       "      <th>22252</th>\n",
       "      <td>page title: Калиновское\\nchange type: text change\\nlines changed: : Old value: Калиновское — село в Белокуракинском районе Луганской области\\nNew value: Калиновское — село в Белокуракинском районе Луганской Народной Республики\\n\\npage location: unknown\\npage topics: \\n</td>\n",
       "    </tr>\n",
       "    <tr>\n",
       "      <th>9182</th>\n",
       "      <td>page title: Ароматное (Бахчисарайский район)\\nchange type: text change\\nlines added: Арома́тное — село в Бахчисарайском районе Крыма, центр Ароматненского сельского совета Автономной Республики Крым\\nlines removed: Арома́тное (, ) — село в Бахчисарайском районе Крыма (согласно административно-территориальному делению Украины — центр Ароматненского сельского совета Автономной Республики Крым, согласно административно-территориальному делению РФ — центр Ароматненского сельского поселения Республики Крым)\\nlines changed: : Old value: С 21 марта 2014 года — в составе Республики Крым России\\nNew value: С 21 марта 2014 года — в составе Республики Крым\\n\\npage location: Russia_Ukraine\\npage topics: Geography.Regions.Europe.Eastern_Europe, Geography.Regions.Europe.Europe*\\ntemplates added: Cite web|url=http://publication.pravo.gov.ru/Document/View/0001201403210014|title=Федеральный конституционный закон от 21.03.2014 № 6-ФКЗ \"О принятии в Российскую Федерацию Республики Крым и образовании в составе Российской Федерации новых субъектов - Республики Крым и города федерального значения Севастополя\"\\ntemplates removed: cite web|url=http://gska2.rada.gov.ua/pls/z7503/A005?rdat1=01.11.2009&amp;rf7571=28|title=с Ароматне Автономна Республіка Крим, Бахчисарайський район|publisher=Верховна Рада України|lang=uk|accessdate=2014-10-06, lang-crh|Aromatnoye, Ароматное\\n</td>\n",
       "    </tr>\n",
       "    <tr>\n",
       "      <th>7706</th>\n",
       "      <td>page title: Водославка\\nchange type: metadata change\\npage location: unknown\\npage topics: \\n</td>\n",
       "    </tr>\n",
       "    <tr>\n",
       "      <th>10772</th>\n",
       "      <td>page title: Пожар\\nchange type: metadata change\\npage location: unknown\\npage topics: \\n</td>\n",
       "    </tr>\n",
       "  </tbody>\n",
       "</table>\n",
       "</div>"
      ],
      "text/plain": [
       "                                                                                                                                                                                                                                                                                                                                                                                                                                                                                                                                                                                                                                                                                                                                                                                                                                                                                                                                                                                                                                                                                                                                                                                                                                                                                                                                                                                                                                                                                                                                                                                                                                                                                                                                                                                                                                                                                                                                                                                                                                                                                                                                                                                                                                                                                                                                                                                                                                                                                                                                                                                                                                                                                                                                                                                                                                                                                                                                                                                 full_text\n",
       "5602   page title: Наумова, Марьяна Александровна\\nchange type: text change\\nlines removed: 30 июня 2016 года Наумова обратилась к Надежде Савченко с просьбой скорректировать «Закон Украины об оккупированных территориях» с тем, чтобы дети-спортсмены ДНР и ЛНР могли бы выступать на соревнованиях Надя ей посоветовала позвонить Путину и попросить его ослабить законы РФ относительно Крыма и засечь время, за которое Марьяну схватят и посадят за призывы к сепаратизму в РФ… Позицию спортсменки подвергла критике сестра Надежды Савченко, Вера:\\nlines changed: : Old value: Поддерживая вторжение России в Украину и позиционируя себя как военный корреспондент, Марьяна Наумова участвовала в «курсах для военкоров», организованных «Группой Вагнера»\\nNew value: Поддерживая политику России в отношении Украины и позиционируя себя как военный корреспондент, Марьяна Наумова участвовала в «курсах для военкоров», организованных «Группой Вагнера»\\n\\nOld value: В марте 2022 года Марьяна Наумова раскритиковала обращение Арнольда Шварценеггера к россиянам по поводу вторжения России на Украину, в котором он обвинил российскую власть в агрессии и дезинформации населения\\nNew value: В марте 2022 года Марьяна Наумова раскритиковала обращение Арнольда Шварценеггера к россиянам по поводу политики России в отношении Украины\\n\\nOld value: 7 января 2023 года, на фоне вторжения России на Украину, Марьяна Наумова была внесена в санкционные списки Украины, предполагающие блокировку активов, полное прекращение коммерческих операций, остановку выполнения экономических и финансовых обязательств\\nNew value: 7 января 2023 года, на фоне военных действий на Украине, Марьяна Наумова была внесена в санкционные списки Украины, предполагающие блокировку активов, полное прекращение коммерческих операций, остановку выполнения экономических и финансовых обязательств\\n\\ncategories removed: Лица, подвергнутые санкциям в связи с конфликтом на Украине\\npage location: Russia\\npage topics: Culture.Biography.Biography*, Geography.Regions.Asia.Asia*, Geography.Regions.Europe.Eastern_Europe\\ntemplates removed: Cite web |url=https://kp.ua/politics/543792-pryntsessa-shtanhy-yz-rossyy-napysala-pysmo-nadezhde-savchenko |title=«Комсомольская правда в Украине» — официальный сайт 30.06.2016 |access-date=2019-03-23 |archive-date=2019-03-23 |archive-url=https://web.archive.org/web/20190323195503/https://kp.ua/politics/543792-pryntsessa-shtanhy-yz-rossyy-napysala-pysmo-nadezhde-savchenko |deadlink=no , Cite web |url=https://24tv.ua/sport/ru/skandalnaja_rossijskaja_sportsmenka_obratilas_k_savchenko_n700777 |title=Телеканал «Новости-24-Украина» — официальный сайт 30.06.2016 |access-date=2019-03-23 |archive-date=2019-03-26 |archive-url=https://web.archive.org/web/20190326215939/https://24tv.ua/sport/ru/skandalnaja_rossijskaja_sportsmenka_obratilas_k_savchenko_n700777 |deadlink=no , конец цитаты\\n\n",
       "22252                                                                                                                                                                                                                                                                                                                                                                                                                                                                                                                                                                                                                                                                                                                                                                                                                                                                                                                                                                                                                                                                                                                                                                                                                                                                                                                                                                                                                                                                                                                                                                                                                                                                                                                                                                                                                                                                                                                                                                                                                                                                                                                                                                                                                                                                                                                                                                                                                                                                                                                                                                                                                                                                                                        page title: Калиновское\\nchange type: text change\\nlines changed: : Old value: Калиновское — село в Белокуракинском районе Луганской области\\nNew value: Калиновское — село в Белокуракинском районе Луганской Народной Республики\\n\\npage location: unknown\\npage topics: \\n\n",
       "9182                                                                                                                                                                                                                                                                                                                                                                                                                                                                                                                                                                                                                                                                                                                                                                                                                                                                                                                                                                                                                                                                                                                                                                                                                                                                                                                                                                                                                                                                                                                                                                page title: Ароматное (Бахчисарайский район)\\nchange type: text change\\nlines added: Арома́тное — село в Бахчисарайском районе Крыма, центр Ароматненского сельского совета Автономной Республики Крым\\nlines removed: Арома́тное (, ) — село в Бахчисарайском районе Крыма (согласно административно-территориальному делению Украины — центр Ароматненского сельского совета Автономной Республики Крым, согласно административно-территориальному делению РФ — центр Ароматненского сельского поселения Республики Крым)\\nlines changed: : Old value: С 21 марта 2014 года — в составе Республики Крым России\\nNew value: С 21 марта 2014 года — в составе Республики Крым\\n\\npage location: Russia_Ukraine\\npage topics: Geography.Regions.Europe.Eastern_Europe, Geography.Regions.Europe.Europe*\\ntemplates added: Cite web|url=http://publication.pravo.gov.ru/Document/View/0001201403210014|title=Федеральный конституционный закон от 21.03.2014 № 6-ФКЗ \"О принятии в Российскую Федерацию Республики Крым и образовании в составе Российской Федерации новых субъектов - Республики Крым и города федерального значения Севастополя\"\\ntemplates removed: cite web|url=http://gska2.rada.gov.ua/pls/z7503/A005?rdat1=01.11.2009&rf7571=28|title=с Ароматне Автономна Республіка Крим, Бахчисарайський район|publisher=Верховна Рада України|lang=uk|accessdate=2014-10-06, lang-crh|Aromatnoye, Ароматное\\n\n",
       "7706                                                                                                                                                                                                                                                                                                                                                                                                                                                                                                                                                                                                                                                                                                                                                                                                                                                                                                                                                                                                                                                                                                                                                                                                                                                                                                                                                                                                                                                                                                                                                                                                                                                                                                                                                                                                                                                                                                                                                                                                                                                                                                                                                                                                                                                                                                                                                                                                                                                                                                                                                                                                                                                                                                                                                                                                                                                                                         page title: Водославка\\nchange type: metadata change\\npage location: unknown\\npage topics: \\n\n",
       "10772                                                                                                                                                                                                                                                                                                                                                                                                                                                                                                                                                                                                                                                                                                                                                                                                                                                                                                                                                                                                                                                                                                                                                                                                                                                                                                                                                                                                                                                                                                                                                                                                                                                                                                                                                                                                                                                                                                                                                                                                                                                                                                                                                                                                                                                                                                                                                                                                                                                                                                                                                                                                                                                                                                                                                                                                                                                                                             page title: Пожар\\nchange type: metadata change\\npage location: unknown\\npage topics: \\n"
      ]
     },
     "execution_count": 958,
     "metadata": {},
     "output_type": "execute_result"
    }
   ],
   "source": [
    "changed_df[['full_text']].sample(5)"
   ]
  },
  {
   "cell_type": "code",
   "execution_count": 959,
   "id": "b4d34992",
   "metadata": {},
   "outputs": [
    {
     "data": {
      "text/html": [
       "<div>\n",
       "<style scoped>\n",
       "    .dataframe tbody tr th:only-of-type {\n",
       "        vertical-align: middle;\n",
       "    }\n",
       "\n",
       "    .dataframe tbody tr th {\n",
       "        vertical-align: top;\n",
       "    }\n",
       "\n",
       "    .dataframe thead th {\n",
       "        text-align: right;\n",
       "    }\n",
       "</style>\n",
       "<table border=\"1\" class=\"dataframe\">\n",
       "  <thead>\n",
       "    <tr style=\"text-align: right;\">\n",
       "      <th></th>\n",
       "      <th>text</th>\n",
       "      <th>label</th>\n",
       "      <th>is_correct</th>\n",
       "      <th>id</th>\n",
       "      <th>new_label</th>\n",
       "    </tr>\n",
       "  </thead>\n",
       "  <tbody>\n",
       "    <tr>\n",
       "      <th>17625</th>\n",
       "      <td>The designation of the administrative region was changed from 'Луганской области' (Luhansk Oblast) to 'Луганской Народной Республики' (Luhansk People's Republic), reflecting a political and territorial update.</td>\n",
       "      <td>1</td>\n",
       "      <td>1</td>\n",
       "      <td>17625</td>\n",
       "      <td>1</td>\n",
       "    </tr>\n",
       "  </tbody>\n",
       "</table>\n",
       "</div>"
      ],
      "text/plain": [
       "                                                                                                                                                                                                                    text  \\\n",
       "17625  The designation of the administrative region was changed from 'Луганской области' (Luhansk Oblast) to 'Луганской Народной Республики' (Luhansk People's Republic), reflecting a political and territorial update.   \n",
       "\n",
       "       label  is_correct     id  new_label  \n",
       "17625      1           1  17625          1  "
      ]
     },
     "execution_count": 959,
     "metadata": {},
     "output_type": "execute_result"
    }
   ],
   "source": [
    "t = \"page title: Калиновское\\nchange type: text change\\nlines changed: : Old value: Калиновское — село в Белокуракинском районе Луганской области\\nNew value: Калиновское — село в Белокуракинском районе Луганской Народной Республики\\n\\npage location: unknown\\npage topics: \\n\"\n",
    "\n",
    "clusters_df[clusters_df.text == text_to_summary[t]]"
   ]
  },
  {
   "cell_type": "code",
   "execution_count": 984,
   "id": "45a16913",
   "metadata": {},
   "outputs": [],
   "source": [
    "import copy\n",
    "cluster_details_plus = copy.deepcopy(cluster_details)\n",
    "cluster_details_plus.append({\"cluster_name\": \"Other changes\", \"cluster_summary\": \"The edit does not fit any of the provided clusters.\"})"
   ]
  },
  {
   "cell_type": "code",
   "execution_count": 987,
   "id": "e0813fc4",
   "metadata": {},
   "outputs": [
    {
     "data": {
      "text/html": [
       "<div>\n",
       "<style scoped>\n",
       "    .dataframe tbody tr th:only-of-type {\n",
       "        vertical-align: middle;\n",
       "    }\n",
       "\n",
       "    .dataframe tbody tr th {\n",
       "        vertical-align: top;\n",
       "    }\n",
       "\n",
       "    .dataframe thead th {\n",
       "        text-align: right;\n",
       "    }\n",
       "</style>\n",
       "<table border=\"1\" class=\"dataframe\">\n",
       "  <thead>\n",
       "    <tr style=\"text-align: right;\">\n",
       "      <th></th>\n",
       "      <th>new_label</th>\n",
       "      <th>is_correct</th>\n",
       "      <th>cluster_name</th>\n",
       "      <th>cluster_description</th>\n",
       "    </tr>\n",
       "  </thead>\n",
       "  <tbody>\n",
       "    <tr>\n",
       "      <th>1</th>\n",
       "      <td>1</td>\n",
       "      <td>7403</td>\n",
       "      <td>Territorial Claims Dispute</td>\n",
       "      <td>Edits reflect changes in territorial designations and governance, emphasizing claims by the Donetsk and Luhansk People's Republics while removing Ukrainian references and administrative details.</td>\n",
       "    </tr>\n",
       "    <tr>\n",
       "      <th>7</th>\n",
       "      <td>7</td>\n",
       "      <td>5582</td>\n",
       "      <td>Metadata Updates</td>\n",
       "      <td>Various edits focused on updating metadata templates, removing outdated references, and refining geographical classifications across multiple Wikipedia pages.</td>\n",
       "    </tr>\n",
       "    <tr>\n",
       "      <th>4</th>\n",
       "      <td>4</td>\n",
       "      <td>3603</td>\n",
       "      <td>Cultural Metadata Updates</td>\n",
       "      <td>Edits focused on updating metadata with locations, cultural topics, and adding age and gender templates for various pages.</td>\n",
       "    </tr>\n",
       "    <tr>\n",
       "      <th>3</th>\n",
       "      <td>3</td>\n",
       "      <td>3439</td>\n",
       "      <td>Terminology Changes Ukraine</td>\n",
       "      <td>Edits focus on altering terminology related to the Russia-Ukraine conflict, shifting from specific invasion references to broader military actions and general policies.</td>\n",
       "    </tr>\n",
       "    <tr>\n",
       "      <th>2</th>\n",
       "      <td>2</td>\n",
       "      <td>3172</td>\n",
       "      <td>Editing Caution Removal</td>\n",
       "      <td>Multiple Wikipedia pages had the editing caution category removed, indicating a change in the perceived necessity for careful editing.</td>\n",
       "    </tr>\n",
       "    <tr>\n",
       "      <th>8</th>\n",
       "      <td>8</td>\n",
       "      <td>3108</td>\n",
       "      <td>Other changes</td>\n",
       "      <td>The edit does not fit any of the provided clusters.</td>\n",
       "    </tr>\n",
       "    <tr>\n",
       "      <th>6</th>\n",
       "      <td>6</td>\n",
       "      <td>2518</td>\n",
       "      <td>Sanctions Edit Adjustments</td>\n",
       "      <td>The edits focus on removing specific references to the Ukraine conflict in sanctions descriptions, simplifying statements, and altering context around individuals and entities sanctioned.</td>\n",
       "    </tr>\n",
       "    <tr>\n",
       "      <th>5</th>\n",
       "      <td>5</td>\n",
       "      <td>1627</td>\n",
       "      <td>Russian Legislation Medicines</td>\n",
       "      <td>Templates for Russian legislation and medications were added to various pharmaceutical pages, enhancing their categorization and relevance.</td>\n",
       "    </tr>\n",
       "    <tr>\n",
       "      <th>0</th>\n",
       "      <td>0</td>\n",
       "      <td>147</td>\n",
       "      <td>LGBT Rights and History</td>\n",
       "      <td>The edits focus on updating and clarifying information related to LGBT rights, historical events, and notable figures, while removing outdated or derogatory content.</td>\n",
       "    </tr>\n",
       "  </tbody>\n",
       "</table>\n",
       "</div>"
      ],
      "text/plain": [
       "   new_label  is_correct                   cluster_name  \\\n",
       "1          1        7403     Territorial Claims Dispute   \n",
       "7          7        5582               Metadata Updates   \n",
       "4          4        3603      Cultural Metadata Updates   \n",
       "3          3        3439    Terminology Changes Ukraine   \n",
       "2          2        3172        Editing Caution Removal   \n",
       "8          8        3108                  Other changes   \n",
       "6          6        2518     Sanctions Edit Adjustments   \n",
       "5          5        1627  Russian Legislation Medicines   \n",
       "0          0         147        LGBT Rights and History   \n",
       "\n",
       "                                                                                                                                                                                  cluster_description  \n",
       "1  Edits reflect changes in territorial designations and governance, emphasizing claims by the Donetsk and Luhansk People's Republics while removing Ukrainian references and administrative details.  \n",
       "7                                      Various edits focused on updating metadata templates, removing outdated references, and refining geographical classifications across multiple Wikipedia pages.  \n",
       "4                                                                          Edits focused on updating metadata with locations, cultural topics, and adding age and gender templates for various pages.  \n",
       "3                            Edits focus on altering terminology related to the Russia-Ukraine conflict, shifting from specific invasion references to broader military actions and general policies.  \n",
       "2                                                              Multiple Wikipedia pages had the editing caution category removed, indicating a change in the perceived necessity for careful editing.  \n",
       "8                                                                                                                                                 The edit does not fit any of the provided clusters.  \n",
       "6         The edits focus on removing specific references to the Ukraine conflict in sanctions descriptions, simplifying statements, and altering context around individuals and entities sanctioned.  \n",
       "5                                                         Templates for Russian legislation and medications were added to various pharmaceutical pages, enhancing their categorization and relevance.  \n",
       "0                               The edits focus on updating and clarifying information related to LGBT rights, historical events, and notable figures, while removing outdated or derogatory content.  "
      ]
     },
     "execution_count": 987,
     "metadata": {},
     "output_type": "execute_result"
    }
   ],
   "source": [
    "final_table = clusters_df.groupby(\"new_label\").is_correct.count().reset_index().sort_values(\"is_correct\", ascending=False)\n",
    "\n",
    "names = [cluster_details_plus[i][\"cluster_name\"] for i in final_table.new_label]\n",
    "final_table[\"cluster_name\"] = names\n",
    "\n",
    "descriptions = [cluster_details_plus[i][\"cluster_summary\"] for i in final_table.new_label]\n",
    "final_table[\"cluster_description\"] = descriptions\n",
    "\n",
    "final_table"
   ]
  },
  {
   "cell_type": "code",
   "execution_count": 991,
   "id": "210e25bd",
   "metadata": {},
   "outputs": [
    {
     "name": "stdout",
     "output_type": "stream",
     "text": [
      "\\begin{tabular}{lll}\n",
      "\\toprule\n",
      "                 cluster\\_name &                                                                                                                                                                                cluster\\_description & is\\_correct \\\\\n",
      "\\midrule\n",
      "   Territorial Claims Dispute & Edits reflect changes in territorial designations and governance, emphasizing claims by the Donetsk and Luhansk People's Republics while removing Ukrainian references and administrative details. &     24.19\\% \\\\\n",
      "             Metadata Updates &                                     Various edits focused on updating metadata templates, removing outdated references, and refining geographical classifications across multiple Wikipedia pages. &     18.24\\% \\\\\n",
      "    Cultural Metadata Updates &                                                                         Edits focused on updating metadata with locations, cultural topics, and adding age and gender templates for various pages. &     11.77\\% \\\\\n",
      "  Terminology Changes Ukraine &                           Edits focus on altering terminology related to the Russia-Ukraine conflict, shifting from specific invasion references to broader military actions and general policies. &     11.24\\% \\\\\n",
      "      Editing Caution Removal &                                                             Multiple Wikipedia pages had the editing caution category removed, indicating a change in the perceived necessity for careful editing. &     10.37\\% \\\\\n",
      "                Other changes &                                                                                                                                                The edit does not fit any of the provided clusters. &     10.16\\% \\\\\n",
      "   Sanctions Edit Adjustments &        The edits focus on removing specific references to the Ukraine conflict in sanctions descriptions, simplifying statements, and altering context around individuals and entities sanctioned. &      8.23\\% \\\\\n",
      "Russian Legislation Medicines &                                                        Templates for Russian legislation and medications were added to various pharmaceutical pages, enhancing their categorization and relevance. &      5.32\\% \\\\\n",
      "      LGBT Rights and History &                              The edits focus on updating and clarifying information related to LGBT rights, historical events, and notable figures, while removing outdated or derogatory content. &      0.48\\% \\\\\n",
      "\\bottomrule\n",
      "\\end{tabular}\n",
      "\n"
     ]
    }
   ],
   "source": [
    "final_table[\"is_correct\"] = round(final_table.is_correct / final_table.is_correct.sum() * 100, 2).apply(lambda x: f\"{x}%\")\n",
    "print(final_table[[\"cluster_name\", \"cluster_description\", \"is_correct\"]].to_latex(index=False))"
   ]
  },
  {
   "cell_type": "code",
   "execution_count": 994,
   "id": "ecbc897a",
   "metadata": {},
   "outputs": [
    {
     "data": {
      "text/plain": [
       "0.9089531844106464"
      ]
     },
     "execution_count": 994,
     "metadata": {},
     "output_type": "execute_result"
    }
   ],
   "source": [
    "30599 /  33664 "
   ]
  }
 ],
 "metadata": {
  "kernelspec": {
   "display_name": "venv",
   "language": "python",
   "name": "python3"
  },
  "language_info": {
   "codemirror_mode": {
    "name": "ipython",
    "version": 3
   },
   "file_extension": ".py",
   "mimetype": "text/x-python",
   "name": "python",
   "nbconvert_exporter": "python",
   "pygments_lexer": "ipython3",
   "version": "3.9.13"
  }
 },
 "nbformat": 4,
 "nbformat_minor": 5
}
