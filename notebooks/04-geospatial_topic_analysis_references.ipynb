{
 "cells": [
  {
   "cell_type": "code",
   "execution_count": 1,
   "id": "c6240e35",
   "metadata": {
    "scrolled": true
   },
   "outputs": [
    {
     "data": {
      "application/vnd.jupyter.widget-view+json": {
       "model_id": "642c1cb2048040b48fcd4cf1a6d71175",
       "version_major": 2,
       "version_minor": 0
      },
      "text/plain": [
       "  0%|          | 0/1035086 [00:00<?, ?it/s]"
      ]
     },
     "metadata": {},
     "output_type": "display_data"
    },
    {
     "name": "stdout",
     "output_type": "stream",
     "text": [
      "CPU times: user 1min 3s, sys: 12.5 s, total: 1min 16s\n",
      "Wall time: 1min 18s\n"
     ]
    }
   ],
   "source": [
    "%%time\n",
    "import glob\n",
    "import joblib\n",
    "import pandas as pd\n",
    "import numpy as np\n",
    "from tqdm.auto import tqdm\n",
    "import altair as alt\n",
    "import json\n",
    "import seaborn as sns\n",
    "from collections import Counter\n",
    "import re\n",
    "\n",
    "\n",
    "\n",
    "extracted_data = joblib.load(\"../data/ru_wiki_extracted_pages.data\")\n",
    "error_data = joblib.load(\"../data/ru_wiki_error_pages.data\")\n",
    "final_data = pd.DataFrame(joblib.load(\"../data/ru_wiki_final_dataset.data\"))\n",
    "with open('../data/ru_reveal_wiki_location.json') as user_file:\n",
    "    ru_reveal_wiki_location = json.load(user_file)\n",
    "\n",
    "locations_dict = dict()\n",
    "for location in tqdm(ru_reveal_wiki_location):\n",
    "    location_key = list(location.keys())[0]\n",
    "    location_values = np.sort(list(location.values())[0])\n",
    "    locations_dict[location_key] = \"_\".join(location_values)"
   ]
  },
  {
   "cell_type": "code",
   "execution_count": 2,
   "id": "cc1a46dd",
   "metadata": {},
   "outputs": [],
   "source": [
    "changed_pages = final_data[final_data.status.isin([3,4])].page_name.to_list()\n",
    "error_pages = final_data[final_data.status.isin([1])].page_name.to_list() + [a[\"page_name\"] for a in error_data]\n",
    "unchanged_pages = [a[\"page_name\"] for a in extracted_data if a[\"is_duplicate\"]] + final_data[final_data.status.isin([2])].page_name.to_list()"
   ]
  },
  {
   "cell_type": "code",
   "execution_count": 57,
   "id": "094af73e",
   "metadata": {},
   "outputs": [
    {
     "data": {
      "text/plain": [
       "33664"
      ]
     },
     "execution_count": 57,
     "metadata": {},
     "output_type": "execute_result"
    }
   ],
   "source": [
    "len(changed_pages)"
   ]
  },
  {
   "cell_type": "code",
   "execution_count": 58,
   "id": "d17b1895",
   "metadata": {},
   "outputs": [
    {
     "data": {
      "text/plain": [
       "1874043"
      ]
     },
     "execution_count": 58,
     "metadata": {},
     "output_type": "execute_result"
    }
   ],
   "source": [
    "len(unchanged_pages)"
   ]
  },
  {
   "cell_type": "code",
   "execution_count": 59,
   "id": "ea92a115",
   "metadata": {},
   "outputs": [
    {
     "data": {
      "text/plain": [
       "17745"
      ]
     },
     "execution_count": 59,
     "metadata": {},
     "output_type": "execute_result"
    }
   ],
   "source": [
    "len(error_pages)"
   ]
  },
  {
   "cell_type": "code",
   "execution_count": 60,
   "id": "5bcb9e05",
   "metadata": {},
   "outputs": [
    {
     "data": {
      "text/plain": [
       "1925452"
      ]
     },
     "execution_count": 60,
     "metadata": {},
     "output_type": "execute_result"
    }
   ],
   "source": [
    "len(changed_pages) + len(unchanged_pages) + len(error_pages)"
   ]
  },
  {
   "cell_type": "code",
   "execution_count": 118,
   "id": "c0665d78",
   "metadata": {},
   "outputs": [
    {
     "data": {
      "text/plain": [
       "0.973300295203412"
      ]
     },
     "execution_count": 118,
     "metadata": {},
     "output_type": "execute_result"
    }
   ],
   "source": [
    "1874043 / 1925452"
   ]
  },
  {
   "cell_type": "code",
   "execution_count": 61,
   "id": "a528eed1",
   "metadata": {},
   "outputs": [],
   "source": [
    "locations_df = pd.DataFrame({\n",
    "    \"page_name\": changed_pages + unchanged_pages + error_pages,\n",
    "    \"page_location\": [locations_dict.get(p) for p in changed_pages] \\\n",
    "        + [locations_dict.get(p) for p in unchanged_pages] \\\n",
    "        + [locations_dict.get(p) for p in error_pages],\n",
    "    \"status\": [\"changed\"] * len(changed_pages) + [\"duplicated\"] * len(unchanged_pages) + [\"missing\"] * len(error_pages)\n",
    "})"
   ]
  },
  {
   "cell_type": "code",
   "execution_count": 62,
   "id": "ea9a91c8",
   "metadata": {},
   "outputs": [
    {
     "name": "stdout",
     "output_type": "stream",
     "text": [
      "0.4624192137742203\n"
     ]
    }
   ],
   "source": [
    "print(locations_df.page_location.isna().mean())"
   ]
  },
  {
   "cell_type": "code",
   "execution_count": 63,
   "id": "3854831e",
   "metadata": {},
   "outputs": [],
   "source": [
    "locations_df = locations_df[~locations_df.page_location.isna()]"
   ]
  },
  {
   "cell_type": "code",
   "execution_count": 64,
   "id": "e0286bca",
   "metadata": {},
   "outputs": [],
   "source": [
    "group_res = locations_df.groupby([\"page_location\", \"status\"]) \\\n",
    "    .count().sort_values(\"page_name\", ascending=False).reset_index()\n",
    "\n",
    "top_15_changed_locations = group_res[group_res.status == \"changed\"].head(10).page_location.to_list()\n",
    "\n",
    "locations_df[\"page_location\"] = \\\n",
    "    locations_df[\"page_location\"].apply(lambda x: x if x in top_15_changed_locations else \"other\")\n",
    "\n",
    "group_res = locations_df.groupby([\"page_location\", \"status\"]) \\\n",
    "    .count().sort_values(\"page_name\", ascending=False).reset_index()\n",
    "\n",
    "couter_dict = group_res.groupby(\"status\").page_name.sum().to_dict()\n",
    "group_res[\"denominator\"] = group_res.status.map(couter_dict)\n",
    "group_res[\"location rate\"] = group_res[\"page_name\"] / group_res[\"denominator\"] \n",
    "\n",
    "group_res['page_location_code'] = pd.Categorical(group_res.page_location, top_15_changed_locations)\n",
    "group_res = group_res.sort_values(\"page_location_code\").reset_index(drop=True)"
   ]
  },
  {
   "cell_type": "code",
   "execution_count": 65,
   "id": "c403465c",
   "metadata": {},
   "outputs": [],
   "source": [
    "renaming_dict = {\n",
    "    \"other\": \"other\",\n",
    "    \"Russia\": \"RU\",\n",
    "    \"United States of America\": \"US\",\n",
    "    \"Ukraine\": \"UA\",\n",
    "    \"France\": \"FR\",\n",
    "    \"Germany\": \"DE\",\n",
    "    \"United Kingdom\": \"UK\",\n",
    "    \"Italy\": \"IT\", \n",
    "    \"Spain\": \"ES\",\n",
    "    \"Japan\": \"JP\",\n",
    "    \"Belarus\": \"BY\",\n",
    "    \"Poland\": \"PL\",\n",
    "    \"Canada\": \"CA\",\n",
    "    \"Finland\": \"FI\",\n",
    "    \"Russia_Ukraine\": \"UA+RU\",\n",
    "    \"China\": \"CN\"\n",
    "}\n",
    "group_res.page_location_code = group_res.page_location.map(renaming_dict)"
   ]
  },
  {
   "cell_type": "code",
   "execution_count": null,
   "id": "8ad5feb3",
   "metadata": {
    "scrolled": true
   },
   "outputs": [],
   "source": [
    "# configurations\n",
    "Blue = \"#69b8d6\"\n",
    "Red = '#d53e4f'\n",
    "Gray = '#5D646F'\n",
    "Grid = '#5D646F'\n",
    "background = '#F3F7F7'\n",
    "font = 'Helvetica Neue'\n",
    "\n",
    "title_color = Gray\n",
    "text_color = Gray\n",
    "text_size = 14\n",
    "background = '#F3F7F7'\n",
    "\n",
    "\n",
    "title_color = Gray\n",
    "text_color = Gray\n",
    "text_size = 14\n",
    "background = '#F3F7F7'\n",
    "\n",
    "# axes\n",
    "axisY = alt.Axis(grid=True, \n",
    "                 domain=False, \n",
    "                 ticks=False,\n",
    "                 labelAngle = 0,\n",
    "                 labelColor = text_color,\n",
    "                 labelFontSize = text_size - 2,\n",
    "                 labelFontWeight = 400,\n",
    "                 labelFont = font,\n",
    "                 labelPadding = 5,\n",
    "                 titleFont = font,\n",
    "                 titleColor = text_color,\n",
    "                 titleFontSize = text_size-2,\n",
    "                 titleFontWeight = 400,\n",
    "                 )\n",
    "# axes\n",
    "axisX = alt.Axis(grid=False, \n",
    "                 domain=False, \n",
    "                 ticks=False,\n",
    "                 labels=False,\n",
    "                 labelAngle = 30,\n",
    "                 labelColor = text_color,\n",
    "                 labelFontSize = text_size-2,\n",
    "                 labelFontWeight = 400,\n",
    "                 labelFont = font,\n",
    "                 titleColor = text_color,\n",
    "                 titleFontSize = text_size-2,\n",
    "                 titleFontWeight = 400,\n",
    "                 titleFont = font,\n",
    "                 titleAngle=30,\n",
    "                 labelPadding = 5,\n",
    "                 titlePadding = -100\n",
    "                 )\n",
    "\n",
    "hist = alt.Chart(group_res, title=\"\").mark_bar().encode(\n",
    "    x=alt.X('status:O', axis=axisX, title=\"\", sort=[\"changed\", \"duplicate\", \"error\"]),\n",
    "    y=alt.Y(\"location rate:Q\", axis=axisY, title=\"Location rate within group\", scale=alt.Scale(domain=[0, 0.4])),\n",
    "    color = alt.Color('status:O', scale=alt.Scale(scheme='tableau10'), legend=alt.Legend(\n",
    "        orient='none',\n",
    "        title=\"Group:\", titleAlign=\"right\", titleFont=font, titleColor=text_color,\n",
    "        legendX=200.5, legendY=4, fillColor=\"white\", columns=1, strokeColor=\"gray\", padding=5,\n",
    "        direction='vertical',\n",
    "        titleAnchor='middle', labelFontSize=text_size-2, labelFont=font, labelColor = text_color)),\n",
    "    column = alt.Column('page_location_code:O', sort=group_res.page_location_code.unique(),\n",
    "                        title=\"\", \n",
    "                        spacing=7, \n",
    "                        header=alt.Header(labelAngle=0, labelAlign=\"center\",  labelPadding=-165, \n",
    "                                          labelFontSize=text_size-4, labelFont=font, labelColor = text_color),)\n",
    ").configure_view(\n",
    "    stroke='gray', strokeOpacity=0.3,\n",
    ").configure_axis(\n",
    "    domainWidth=0.8\n",
    ").configure_title(fontSize=20, \n",
    "                  color = Gray, \n",
    "                  font=font,\n",
    "                  fontWeight = 600,\n",
    "                  anchor = 'start'\n",
    ").properties(width=20, height=140)\n",
    "\n",
    "hist"
   ]
  },
  {
   "cell_type": "code",
   "execution_count": 13,
   "id": "747b66ee",
   "metadata": {},
   "outputs": [
    {
     "data": {
      "text/plain": [
       "0.5376000000000001"
      ]
     },
     "execution_count": 13,
     "metadata": {},
     "output_type": "execute_result"
    }
   ],
   "source": [
    "1 - 0.4624"
   ]
  },
  {
   "cell_type": "code",
   "execution_count": 14,
   "id": "1eb5ca0b",
   "metadata": {},
   "outputs": [
    {
     "data": {
      "text/plain": [
       "0.7751857968620974"
      ]
     },
     "execution_count": 14,
     "metadata": {},
     "output_type": "execute_result"
    }
   ],
   "source": [
    "3755 / (3755 + 1079 + 10)"
   ]
  },
  {
   "cell_type": "markdown",
   "id": "2be76abb",
   "metadata": {},
   "source": [
    "# Topics"
   ]
  },
  {
   "cell_type": "code",
   "execution_count": 67,
   "id": "5aad6b0a",
   "metadata": {},
   "outputs": [
    {
     "data": {
      "application/vnd.jupyter.widget-view+json": {
       "model_id": "8c92154e0ae8490f82993c60994fe7de",
       "version_major": 2,
       "version_minor": 0
      },
      "text/plain": [
       "  0%|          | 0/1924975 [00:00<?, ?it/s]"
      ]
     },
     "metadata": {},
     "output_type": "display_data"
    }
   ],
   "source": [
    "with open('../data/ru_reveal_wiki_topic.json') as user_file:\n",
    "    ru_reveal_wiki_topic = json.load(user_file)\n",
    "topics_dict = {list(d.keys())[0]: [v['topic'] for v in list(d.values())[0]] for d in tqdm(ru_reveal_wiki_topic)}"
   ]
  },
  {
   "cell_type": "code",
   "execution_count": 68,
   "id": "ec7b4b2a",
   "metadata": {},
   "outputs": [],
   "source": [
    "changed_pages = final_data[final_data.status.isin([3,4])].page_name.to_list()\n",
    "error_pages = final_data[final_data.status.isin([1])].page_name.to_list() + [a[\"page_name\"] for a in error_data]\n",
    "unchanged_pages = [a[\"page_name\"] for a in extracted_data if a[\"is_duplicate\"]] + final_data[final_data.status.isin([2])].page_name.to_list()"
   ]
  },
  {
   "cell_type": "code",
   "execution_count": 69,
   "id": "a1855003",
   "metadata": {},
   "outputs": [
    {
     "data": {
      "application/vnd.jupyter.widget-view+json": {
       "model_id": "1d3930cb98374968894ca7b359195840",
       "version_major": 2,
       "version_minor": 0
      },
      "text/plain": [
       "  0%|          | 0/33664 [00:00<?, ?it/s]"
      ]
     },
     "metadata": {},
     "output_type": "display_data"
    },
    {
     "data": {
      "application/vnd.jupyter.widget-view+json": {
       "model_id": "1a179a13efcd4689adcd168debc7541d",
       "version_major": 2,
       "version_minor": 0
      },
      "text/plain": [
       "  0%|          | 0/17745 [00:00<?, ?it/s]"
      ]
     },
     "metadata": {},
     "output_type": "display_data"
    },
    {
     "data": {
      "application/vnd.jupyter.widget-view+json": {
       "model_id": "ff1a8e304b1b412584f3e402ba58c853",
       "version_major": 2,
       "version_minor": 0
      },
      "text/plain": [
       "  0%|          | 0/1874043 [00:00<?, ?it/s]"
      ]
     },
     "metadata": {},
     "output_type": "display_data"
    }
   ],
   "source": [
    "counter_changed = Counter()\n",
    "counter_error = Counter()\n",
    "counter_unchanged = Counter()\n",
    "\n",
    "n_errors = 0\n",
    "\n",
    "for d in tqdm(changed_pages):\n",
    "    topics = topics_dict.get(d, [])\n",
    "    if len(topics) > 0:\n",
    "        counter_changed.update([topics[0]])\n",
    "    else:\n",
    "        n_errors +=1\n",
    "for d in tqdm(error_pages):\n",
    "    topics = topics_dict.get(d, [])\n",
    "    if len(topics) > 0:\n",
    "        counter_error.update([topics[0]])\n",
    "    else:\n",
    "        n_errors +=1\n",
    "for d in tqdm(unchanged_pages):\n",
    "    topics = topics_dict.get(d, [])\n",
    "    if len(topics) > 0:\n",
    "        counter_unchanged.update([topics[0]])\n",
    "    else:\n",
    "        n_errors +=1"
   ]
  },
  {
   "cell_type": "code",
   "execution_count": 72,
   "id": "35340cd7",
   "metadata": {},
   "outputs": [
    {
     "data": {
      "application/vnd.jupyter.widget-view+json": {
       "model_id": "0e631c20248547c3b2cc879041cfb644",
       "version_major": 2,
       "version_minor": 0
      },
      "text/plain": [
       "  0%|          | 0/64 [00:00<?, ?it/s]"
      ]
     },
     "metadata": {},
     "output_type": "display_data"
    },
    {
     "data": {
      "application/vnd.jupyter.widget-view+json": {
       "model_id": "5f0b309e6a444c6b8b9885768e8c1c95",
       "version_major": 2,
       "version_minor": 0
      },
      "text/plain": [
       "  0%|          | 0/64 [00:00<?, ?it/s]"
      ]
     },
     "metadata": {},
     "output_type": "display_data"
    },
    {
     "data": {
      "application/vnd.jupyter.widget-view+json": {
       "model_id": "d61003d2a2a4452b8bf044a242a303c1",
       "version_major": 2,
       "version_minor": 0
      },
      "text/plain": [
       "  0%|          | 0/64 [00:00<?, ?it/s]"
      ]
     },
     "metadata": {},
     "output_type": "display_data"
    }
   ],
   "source": [
    "names = list(set(counter_changed.keys()) | set(counter_error.keys()) | set(counter_unchanged.keys()))\n",
    "ratios_changed = [counter_changed[k] / len(changed_pages) for k in tqdm(names)]\n",
    "ratios_error = [counter_error[k] / len(error_pages) for k in tqdm(names)]\n",
    "ratios_unchanged = [counter_unchanged[k] / len(unchanged_pages) for k in tqdm(names)]"
   ]
  },
  {
   "cell_type": "code",
   "execution_count": 73,
   "id": "8afc2731",
   "metadata": {
    "scrolled": true
   },
   "outputs": [
    {
     "data": {
      "text/html": [
       "<div>\n",
       "<style scoped>\n",
       "    .dataframe tbody tr th:only-of-type {\n",
       "        vertical-align: middle;\n",
       "    }\n",
       "\n",
       "    .dataframe tbody tr th {\n",
       "        vertical-align: top;\n",
       "    }\n",
       "\n",
       "    .dataframe thead th {\n",
       "        text-align: right;\n",
       "    }\n",
       "</style>\n",
       "<table border=\"1\" class=\"dataframe\">\n",
       "  <thead>\n",
       "    <tr style=\"text-align: right;\">\n",
       "      <th></th>\n",
       "      <th>category</th>\n",
       "      <th>ratio</th>\n",
       "      <th>status</th>\n",
       "    </tr>\n",
       "  </thead>\n",
       "  <tbody>\n",
       "    <tr>\n",
       "      <th>0</th>\n",
       "      <td>Culture.Sports</td>\n",
       "      <td>0.018358</td>\n",
       "      <td>changed</td>\n",
       "    </tr>\n",
       "    <tr>\n",
       "      <th>1</th>\n",
       "      <td>Geography.Regions.Asia.North_Asia</td>\n",
       "      <td>0.041855</td>\n",
       "      <td>changed</td>\n",
       "    </tr>\n",
       "    <tr>\n",
       "      <th>2</th>\n",
       "      <td>Geography.Regions.Asia.Central_Asia</td>\n",
       "      <td>0.001456</td>\n",
       "      <td>changed</td>\n",
       "    </tr>\n",
       "    <tr>\n",
       "      <th>3</th>\n",
       "      <td>Geography.Regions.Africa.Eastern_Africa</td>\n",
       "      <td>0.000178</td>\n",
       "      <td>changed</td>\n",
       "    </tr>\n",
       "    <tr>\n",
       "      <th>4</th>\n",
       "      <td>Geography.Regions.Europe.Western_Europe</td>\n",
       "      <td>0.002792</td>\n",
       "      <td>changed</td>\n",
       "    </tr>\n",
       "    <tr>\n",
       "      <th>...</th>\n",
       "      <td>...</td>\n",
       "      <td>...</td>\n",
       "      <td>...</td>\n",
       "    </tr>\n",
       "    <tr>\n",
       "      <th>187</th>\n",
       "      <td>Culture.Media.Films</td>\n",
       "      <td>0.011932</td>\n",
       "      <td>duplicated</td>\n",
       "    </tr>\n",
       "    <tr>\n",
       "      <th>188</th>\n",
       "      <td>STEM.Mathematics</td>\n",
       "      <td>0.001208</td>\n",
       "      <td>duplicated</td>\n",
       "    </tr>\n",
       "    <tr>\n",
       "      <th>189</th>\n",
       "      <td>STEM.Space</td>\n",
       "      <td>0.008090</td>\n",
       "      <td>duplicated</td>\n",
       "    </tr>\n",
       "    <tr>\n",
       "      <th>190</th>\n",
       "      <td>STEM.Libraries_&amp;_Information</td>\n",
       "      <td>0.000152</td>\n",
       "      <td>duplicated</td>\n",
       "    </tr>\n",
       "    <tr>\n",
       "      <th>191</th>\n",
       "      <td>Geography.Regions.Europe.Europe*</td>\n",
       "      <td>0.073858</td>\n",
       "      <td>duplicated</td>\n",
       "    </tr>\n",
       "  </tbody>\n",
       "</table>\n",
       "<p>192 rows × 3 columns</p>\n",
       "</div>"
      ],
      "text/plain": [
       "                                    category     ratio      status\n",
       "0                             Culture.Sports  0.018358     changed\n",
       "1          Geography.Regions.Asia.North_Asia  0.041855     changed\n",
       "2        Geography.Regions.Asia.Central_Asia  0.001456     changed\n",
       "3    Geography.Regions.Africa.Eastern_Africa  0.000178     changed\n",
       "4    Geography.Regions.Europe.Western_Europe  0.002792     changed\n",
       "..                                       ...       ...         ...\n",
       "187                      Culture.Media.Films  0.011932  duplicated\n",
       "188                         STEM.Mathematics  0.001208  duplicated\n",
       "189                               STEM.Space  0.008090  duplicated\n",
       "190             STEM.Libraries_&_Information  0.000152  duplicated\n",
       "191         Geography.Regions.Europe.Europe*  0.073858  duplicated\n",
       "\n",
       "[192 rows x 3 columns]"
      ]
     },
     "execution_count": 73,
     "metadata": {},
     "output_type": "execute_result"
    }
   ],
   "source": [
    "df = pd.DataFrame(\n",
    "    {\n",
    "        \"category\": names*3, \n",
    "        \"ratio\": ratios_changed+ratios_error+ratios_unchanged, \n",
    "        \"status\": [\"changed\"]*len(names) + [\"missing\"]*len(names)+ [\"duplicated\"]*len(names)\n",
    "    }\n",
    ")\n",
    "df"
   ]
  },
  {
   "cell_type": "code",
   "execution_count": 74,
   "id": "cde676db",
   "metadata": {},
   "outputs": [],
   "source": [
    "df[\"main_category\"] = df[\"category\"].apply(lambda x: x.split(\".\")[0])\n",
    "df[\"not_main_category\"] = df[\"category\"].apply(lambda x: x.split(\".\")[-1])"
   ]
  },
  {
   "cell_type": "code",
   "execution_count": 75,
   "id": "79e15b87",
   "metadata": {},
   "outputs": [],
   "source": [
    "top_10_changed_topics = df[df.status == \"changed\"].sort_values(\"ratio\", ascending=False).head(10).not_main_category.to_list()\n",
    "df[\"not_main_category\"] = \\\n",
    "    df[\"not_main_category\"].apply(lambda x: x if x in top_10_changed_topics else \"other\")\n",
    "\n",
    "df = df.groupby([\"not_main_category\", \"status\"]).sum().reset_index().sort_values(\"ratio\", ascending=False)\n",
    "\n",
    "df['not_main_category'] = pd.Categorical(df.not_main_category, top_10_changed_topics + [\"other\"])\n",
    "df = df.sort_values(\"not_main_category\").reset_index(drop=True)"
   ]
  },
  {
   "cell_type": "code",
   "execution_count": null,
   "id": "3584bcc9",
   "metadata": {},
   "outputs": [],
   "source": [
    "# configurations\n",
    "Blue = \"#69b8d6\"\n",
    "Red = '#d53e4f'\n",
    "Gray = '#5D646F'\n",
    "Grid = '#5D646F'\n",
    "background = '#F3F7F7'\n",
    "font = 'Helvetica Neue'\n",
    "\n",
    "title_color = Gray\n",
    "text_color = Gray\n",
    "text_size = 14\n",
    "background = '#F3F7F7'\n",
    "\n",
    "\n",
    "title_color = Gray\n",
    "text_color = Gray\n",
    "text_size = 14\n",
    "background = '#F3F7F7'\n",
    "\n",
    "# axes\n",
    "axisY = alt.Axis(grid=True, \n",
    "                 domain=False, \n",
    "                 ticks=False,\n",
    "                 labelAngle = 0,\n",
    "                 labelColor = text_color,\n",
    "                 labelFontSize = text_size - 2,\n",
    "                 labelFontWeight = 400,\n",
    "                 labelFont = font,\n",
    "                 labelPadding = 5,\n",
    "                 titleFont = font,\n",
    "                 titleColor = text_color,\n",
    "                 titleFontSize = text_size-2,\n",
    "                 titleFontWeight = 400,\n",
    "                 )\n",
    "# axes\n",
    "axisX = alt.Axis(grid=False, \n",
    "                 domain=False, \n",
    "                 ticks=False,\n",
    "                 labels=False,\n",
    "                 labelAngle = 30,\n",
    "                 labelColor = text_color,\n",
    "                 labelFontSize = text_size-2,\n",
    "                 labelFontWeight = 400,\n",
    "                 labelFont = font,\n",
    "                 titleColor = text_color,\n",
    "                 titleFontSize = text_size-2,\n",
    "                 titleFontWeight = 400,\n",
    "                 titleFont = font,\n",
    "                 titleAngle=30,\n",
    "                 labelPadding = 5,\n",
    "                 titlePadding = -100\n",
    "                 )\n",
    "\n",
    "hist = alt.Chart(df, title=\"\").mark_bar().encode(\n",
    "    x=alt.X('status:O', axis=axisX, title=\"\", sort=[\"changed\", \"duplicate\", \"error\"]),\n",
    "    y=alt.Y(\"ratio:Q\", axis=axisY, title=\"Topic rate within group\", scale=alt.Scale(domain=[0, 0.4])),\n",
    "    color = alt.Color('status:O', scale=alt.Scale(scheme='tableau10'), legend=\n",
    "                      alt.Legend(\n",
    "                        orient='none',\n",
    "                        title=\"Group:\", titleAlign=\"right\", titleFont=font, titleColor=text_color,\n",
    "                        legendX=230, legendY=-4, fillColor=\"white\", columns=1, strokeColor=\"gray\", padding=5,\n",
    "                        direction='vertical',\n",
    "                        titleAnchor='middle', labelFontSize=text_size-2, labelFont=font, labelColor = text_color)\n",
    "                     ),\n",
    "    column = alt.Column('not_main_category:O', sort=group_res.page_location_code.unique(),\n",
    "                        title=\"\", \n",
    "                        spacing=7, \n",
    "                        header=alt.Header(labelAngle=20, labelAlign=\"left\",  labelPadding=10, labelOrient=\"bottom\",\n",
    "                                          labelBaseline=\"bottom\", \n",
    "                                          labelFontSize=text_size-4, labelFont=font, labelColor = text_color),)\n",
    ").configure_view(\n",
    "    stroke='gray', strokeOpacity=0.3,\n",
    ").configure_axis(\n",
    "    domainWidth=0.8\n",
    ").configure_title(fontSize=20, \n",
    "                  color = Gray, \n",
    "                  font=font,\n",
    "                  fontWeight = 600,\n",
    "                  anchor = 'start'\n",
    ").properties(width=20, height=140)\n",
    "\n",
    "hist"
   ]
  },
  {
   "cell_type": "markdown",
   "id": "740c6277",
   "metadata": {},
   "source": [
    "# Categories: \n",
    "- top 5 added\n",
    "- top 5 deleted categories\n"
   ]
  },
  {
   "cell_type": "code",
   "execution_count": 26,
   "id": "8949cece",
   "metadata": {},
   "outputs": [],
   "source": [
    "changed_df = final_data[final_data.status.isin([3,4])]"
   ]
  },
  {
   "cell_type": "code",
   "execution_count": 27,
   "id": "45e74e37",
   "metadata": {},
   "outputs": [],
   "source": [
    "added_categories, removed_categories = Counter(), Counter()\n",
    "\n",
    "for wiki_features, ruwiki_features in \\\n",
    "    zip(changed_df[\"wiki_features\"].to_list(), changed_df[\"ruwiki_features\"].to_list()):\n",
    "    added_categories.update(set(ruwiki_features[\"categories\"]) - set(wiki_features[\"categories\"]))\n",
    "    removed_categories.update(set(wiki_features[\"categories\"]) - set(ruwiki_features[\"categories\"])) "
   ]
  },
  {
   "cell_type": "code",
   "execution_count": 28,
   "id": "ddb67038",
   "metadata": {},
   "outputs": [
    {
     "data": {
      "text/plain": [
       "[('Сёла Донецкой Народной Республики', 621),\n",
       " ('Посёлки Донецкой Народной Республики', 213),\n",
       " ('Посёлки городского типа Донецкой Народной Республики', 138),\n",
       " ('Воинские формирования России, участвовавшие в военных действиях на Украине (с 2022)',\n",
       "  115),\n",
       " ('Посёлки городского типа Луганской Народной Республики', 109),\n",
       " ('Посёлки городского типа Донецкой области (до 2022)', 109),\n",
       " ('Населённые пункты Волновахского района (до 2022)', 83),\n",
       " ('Населённые пункты Артёмовского района', 78),\n",
       " ('Населённые пункты Амвросиевского района (исторического)', 77),\n",
       " ('Населённые пункты Шахтёрского района (исторического)', 71),\n",
       " ('Населённые пункты Бахмутского района (до 2022)', 71),\n",
       " ('Погибшие в ходе военных действий на Украине (Россия)', 68),\n",
       " ('Населённые пункты Добропольского района (исторического)', 67),\n",
       " ('Участники военных действий на Украине со стороны России', 66),\n",
       " ('Населённые пункты Александровского района (Донецкая Народная Республика)',\n",
       "  62)]"
      ]
     },
     "execution_count": 28,
     "metadata": {},
     "output_type": "execute_result"
    }
   ],
   "source": [
    "added_categories.most_common(15)"
   ]
  },
  {
   "cell_type": "code",
   "execution_count": 29,
   "id": "a62fc23e",
   "metadata": {},
   "outputs": [
    {
     "data": {
      "text/plain": [
       "[('Статьи с эдитнотисом об осторожности при редактировании', 5042),\n",
       " ('Лица, подвергнутые санкциям в связи с конфликтом на Украине', 1412),\n",
       " ('Временно оккупированные территории Украины', 920),\n",
       " ('Компании, подвергнутые санкциям в связи с вторжением России на Украину',\n",
       "  452),\n",
       " ('Посёлки городского типа Донецкой области', 129),\n",
       " ('Воинские формирования России, участвовавшие во вторжении России на Украину (2022)',\n",
       "  123),\n",
       " ('Посёлки городского типа Луганской области', 109),\n",
       " ('Погибшие в ходе вторжения России на Украину (Россия)', 83),\n",
       " ('Лица, подвергнутые санкциям со стороны Украины в связи с конфликтом на её территории',\n",
       "  81),\n",
       " ('Участники вторжения России на Украину', 80),\n",
       " ('Участники обороны Украины от вторжения России (2022)', 79),\n",
       " ('Здания и сооружения, разрушенные в результате российско-украинской войны',\n",
       "  66),\n",
       " ('Населённые пункты Александровского района (Донецкая область)', 61),\n",
       " ('Населённые пункты Константиновского района (Донецкая область)', 60),\n",
       " ('Города Донецкой области', 52)]"
      ]
     },
     "execution_count": 29,
     "metadata": {},
     "output_type": "execute_result"
    }
   ],
   "source": [
    "removed_categories.most_common(15)"
   ]
  },
  {
   "cell_type": "code",
   "execution_count": 30,
   "id": "6e110b41",
   "metadata": {},
   "outputs": [
    {
     "data": {
      "text/plain": [
       "991"
      ]
     },
     "execution_count": 30,
     "metadata": {},
     "output_type": "execute_result"
    }
   ],
   "source": [
    "len(removed_categories)"
   ]
  },
  {
   "cell_type": "code",
   "execution_count": 31,
   "id": "17bfc02e",
   "metadata": {
    "scrolled": true
   },
   "outputs": [
    {
     "data": {
      "text/plain": [
       "1056"
      ]
     },
     "execution_count": 31,
     "metadata": {},
     "output_type": "execute_result"
    }
   ],
   "source": [
    "len(added_categories)"
   ]
  },
  {
   "cell_type": "markdown",
   "id": "52380f64",
   "metadata": {},
   "source": [
    "## References"
   ]
  },
  {
   "cell_type": "code",
   "execution_count": 109,
   "id": "41845e83",
   "metadata": {},
   "outputs": [],
   "source": [
    "def extract_domain_names(texts):\n",
    "    domains = []\n",
    "    for text in texts:\n",
    "        pattern = r'https?://(?:www\\.)?([^/\\r\\n}]+)'\n",
    "        domain_names = re.findall(pattern, text)\n",
    "        domains += domain_names\n",
    "    return domains\n",
    "\n",
    "url_references_added = Counter()\n",
    "url_references_deleted= Counter()\n",
    "\n",
    "n_pages_added = 0\n",
    "n_pages_deleted = 0\n",
    "\n",
    "for wiki_features, ruwiki_features in \\\n",
    "    zip(changed_df[\"wiki_features\"].to_list(), changed_df[\"ruwiki_features\"].to_list()):\n",
    "    references_deleted = list(\n",
    "            set(extract_domain_names(wiki_features.get('references', []))) - \n",
    "            set(extract_domain_names(ruwiki_features.get('references', [])))\n",
    "        )\n",
    "    references_added = list(\n",
    "            set(extract_domain_names(ruwiki_features.get('references', []))) - \n",
    "            set(extract_domain_names(wiki_features.get('references', [])))\n",
    "        )\n",
    "    url_references_deleted.update(references_deleted)\n",
    "    url_references_added.update(references_added)\n",
    "    \n",
    "    n_pages_added += 1 if len(references_added) > 0 else 0\n",
    "    n_pages_deleted += 1 if len(references_deleted) > 0 else 0"
   ]
  },
  {
   "cell_type": "code",
   "execution_count": 110,
   "id": "ceb2d0fc",
   "metadata": {},
   "outputs": [
    {
     "name": "stdout",
     "output_type": "stream",
     "text": [
      "Total number of added references:  14300\n",
      "Total number of pages with added references:  7106\n",
      "Rating of added references:\n"
     ]
    },
    {
     "data": {
      "text/plain": [
       "[('publication.pravo.gov.ru', 5220),\n",
       " ('lug-info.com', 783),\n",
       " ('zapgov.ru', 700),\n",
       " ('khogov.ru', 647),\n",
       " ('glavadnr.ru', 631),\n",
       " ('base.garant.ru', 409),\n",
       " ('crimea.gov.ru', 233),\n",
       " ('tass.ru', 231),\n",
       " ('kremlin.ru', 182),\n",
       " ('docs.cntd.ru', 149),\n",
       " ('ria.ru', 138),\n",
       " ('rbc.ru', 129),\n",
       " ('cyberleninka.ru', 127),\n",
       " ('kommersant.ru', 90),\n",
       " ('minjust.gov.ru', 78),\n",
       " ('rg.ru', 70),\n",
       " ('lenta.ru', 63),\n",
       " ('interfax.ru', 61),\n",
       " ('iz.ru', 52),\n",
       " ('gazeta.ru', 52)]"
      ]
     },
     "execution_count": 110,
     "metadata": {},
     "output_type": "execute_result"
    }
   ],
   "source": [
    "total_added = np.sum(list(url_references_added.values()))\n",
    "print(\"Total number of added references: \", total_added)\n",
    "print(\"Total number of pages with added references: \", n_pages_added)\n",
    "\n",
    "print(\"Rating of added references:\")\n",
    "url_references_added.most_common(20)"
   ]
  },
  {
   "cell_type": "code",
   "execution_count": 111,
   "id": "567556fc",
   "metadata": {},
   "outputs": [
    {
     "data": {
      "text/html": [
       "<div>\n",
       "<style scoped>\n",
       "    .dataframe tbody tr th:only-of-type {\n",
       "        vertical-align: middle;\n",
       "    }\n",
       "\n",
       "    .dataframe tbody tr th {\n",
       "        vertical-align: top;\n",
       "    }\n",
       "\n",
       "    .dataframe thead th {\n",
       "        text-align: right;\n",
       "    }\n",
       "</style>\n",
       "<table border=\"1\" class=\"dataframe\">\n",
       "  <thead>\n",
       "    <tr style=\"text-align: right;\">\n",
       "      <th></th>\n",
       "      <th>web</th>\n",
       "      <th>count</th>\n",
       "      <th>rate</th>\n",
       "    </tr>\n",
       "  </thead>\n",
       "  <tbody>\n",
       "    <tr>\n",
       "      <th>1</th>\n",
       "      <td>publication.pravo.gov.ru</td>\n",
       "      <td>5220</td>\n",
       "      <td>0.155062</td>\n",
       "    </tr>\n",
       "    <tr>\n",
       "      <th>16</th>\n",
       "      <td>lug-info.com</td>\n",
       "      <td>783</td>\n",
       "      <td>0.023259</td>\n",
       "    </tr>\n",
       "    <tr>\n",
       "      <th>14</th>\n",
       "      <td>zapgov.ru</td>\n",
       "      <td>700</td>\n",
       "      <td>0.020794</td>\n",
       "    </tr>\n",
       "    <tr>\n",
       "      <th>15</th>\n",
       "      <td>khogov.ru</td>\n",
       "      <td>647</td>\n",
       "      <td>0.019219</td>\n",
       "    </tr>\n",
       "    <tr>\n",
       "      <th>13</th>\n",
       "      <td>glavadnr.ru</td>\n",
       "      <td>631</td>\n",
       "      <td>0.018744</td>\n",
       "    </tr>\n",
       "    <tr>\n",
       "      <th>21</th>\n",
       "      <td>base.garant.ru</td>\n",
       "      <td>409</td>\n",
       "      <td>0.012149</td>\n",
       "    </tr>\n",
       "    <tr>\n",
       "      <th>110</th>\n",
       "      <td>crimea.gov.ru</td>\n",
       "      <td>233</td>\n",
       "      <td>0.006921</td>\n",
       "    </tr>\n",
       "    <tr>\n",
       "      <th>37</th>\n",
       "      <td>tass.ru</td>\n",
       "      <td>231</td>\n",
       "      <td>0.006862</td>\n",
       "    </tr>\n",
       "    <tr>\n",
       "      <th>19</th>\n",
       "      <td>kremlin.ru</td>\n",
       "      <td>182</td>\n",
       "      <td>0.005406</td>\n",
       "    </tr>\n",
       "    <tr>\n",
       "      <th>5</th>\n",
       "      <td>docs.cntd.ru</td>\n",
       "      <td>149</td>\n",
       "      <td>0.004426</td>\n",
       "    </tr>\n",
       "  </tbody>\n",
       "</table>\n",
       "</div>"
      ],
      "text/plain": [
       "                          web  count      rate\n",
       "1    publication.pravo.gov.ru   5220  0.155062\n",
       "16               lug-info.com    783  0.023259\n",
       "14                  zapgov.ru    700  0.020794\n",
       "15                  khogov.ru    647  0.019219\n",
       "13                glavadnr.ru    631  0.018744\n",
       "21             base.garant.ru    409  0.012149\n",
       "110             crimea.gov.ru    233  0.006921\n",
       "37                    tass.ru    231  0.006862\n",
       "19                 kremlin.ru    182  0.005406\n",
       "5                docs.cntd.ru    149  0.004426"
      ]
     },
     "execution_count": 111,
     "metadata": {},
     "output_type": "execute_result"
    }
   ],
   "source": [
    "source = pd.DataFrame(url_references_added.items())\n",
    "source.columns = [\"web\", \"count\"]\n",
    "source = source[source.web != \"web.archive.org\"]\n",
    "source[\"rate\"] = source[\"count\"] / 33664\n",
    "source_top = source.sort_values(\"rate\", ascending=False)[:10]\n",
    "source_top"
   ]
  },
  {
   "cell_type": "code",
   "execution_count": 112,
   "id": "6ea46fe4",
   "metadata": {},
   "outputs": [
    {
     "data": {
      "text/html": [
       "<div>\n",
       "<style scoped>\n",
       "    .dataframe tbody tr th:only-of-type {\n",
       "        vertical-align: middle;\n",
       "    }\n",
       "\n",
       "    .dataframe tbody tr th {\n",
       "        vertical-align: top;\n",
       "    }\n",
       "\n",
       "    .dataframe thead th {\n",
       "        text-align: right;\n",
       "    }\n",
       "</style>\n",
       "<table border=\"1\" class=\"dataframe\">\n",
       "  <thead>\n",
       "    <tr style=\"text-align: right;\">\n",
       "      <th></th>\n",
       "      <th>web</th>\n",
       "      <th>count</th>\n",
       "      <th>rate</th>\n",
       "      <th>classification</th>\n",
       "    </tr>\n",
       "  </thead>\n",
       "  <tbody>\n",
       "    <tr>\n",
       "      <th>1</th>\n",
       "      <td>publication.pravo.gov.ru</td>\n",
       "      <td>5220</td>\n",
       "      <td>0.155062</td>\n",
       "      <td>Russian government</td>\n",
       "    </tr>\n",
       "    <tr>\n",
       "      <th>16</th>\n",
       "      <td>lug-info.com</td>\n",
       "      <td>783</td>\n",
       "      <td>0.023259</td>\n",
       "      <td>General resource</td>\n",
       "    </tr>\n",
       "    <tr>\n",
       "      <th>14</th>\n",
       "      <td>zapgov.ru</td>\n",
       "      <td>700</td>\n",
       "      <td>0.020794</td>\n",
       "      <td>General resource</td>\n",
       "    </tr>\n",
       "    <tr>\n",
       "      <th>15</th>\n",
       "      <td>khogov.ru</td>\n",
       "      <td>647</td>\n",
       "      <td>0.019219</td>\n",
       "      <td>General resource</td>\n",
       "    </tr>\n",
       "    <tr>\n",
       "      <th>13</th>\n",
       "      <td>glavadnr.ru</td>\n",
       "      <td>631</td>\n",
       "      <td>0.018744</td>\n",
       "      <td>General resource</td>\n",
       "    </tr>\n",
       "    <tr>\n",
       "      <th>21</th>\n",
       "      <td>base.garant.ru</td>\n",
       "      <td>409</td>\n",
       "      <td>0.012149</td>\n",
       "      <td>General resource</td>\n",
       "    </tr>\n",
       "    <tr>\n",
       "      <th>110</th>\n",
       "      <td>crimea.gov.ru</td>\n",
       "      <td>233</td>\n",
       "      <td>0.006921</td>\n",
       "      <td>Russian government</td>\n",
       "    </tr>\n",
       "    <tr>\n",
       "      <th>37</th>\n",
       "      <td>tass.ru</td>\n",
       "      <td>231</td>\n",
       "      <td>0.006862</td>\n",
       "      <td>General resource</td>\n",
       "    </tr>\n",
       "    <tr>\n",
       "      <th>19</th>\n",
       "      <td>kremlin.ru</td>\n",
       "      <td>182</td>\n",
       "      <td>0.005406</td>\n",
       "      <td>Russian government</td>\n",
       "    </tr>\n",
       "    <tr>\n",
       "      <th>5</th>\n",
       "      <td>docs.cntd.ru</td>\n",
       "      <td>149</td>\n",
       "      <td>0.004426</td>\n",
       "      <td>General resource</td>\n",
       "    </tr>\n",
       "  </tbody>\n",
       "</table>\n",
       "</div>"
      ],
      "text/plain": [
       "                          web  count      rate      classification\n",
       "1    publication.pravo.gov.ru   5220  0.155062  Russian government\n",
       "16               lug-info.com    783  0.023259    General resource\n",
       "14                  zapgov.ru    700  0.020794    General resource\n",
       "15                  khogov.ru    647  0.019219    General resource\n",
       "13                glavadnr.ru    631  0.018744    General resource\n",
       "21             base.garant.ru    409  0.012149    General resource\n",
       "110             crimea.gov.ru    233  0.006921  Russian government\n",
       "37                    tass.ru    231  0.006862    General resource\n",
       "19                 kremlin.ru    182  0.005406  Russian government\n",
       "5                docs.cntd.ru    149  0.004426    General resource"
      ]
     },
     "execution_count": 112,
     "metadata": {},
     "output_type": "execute_result"
    }
   ],
   "source": [
    "source_top[\"classification\"] = [\"Russian government\", \"General resource\",\n",
    "                                \"General resource\",\"General resource\",\n",
    "                                \"General resource\", \"General resource\",\n",
    "                                \"Russian government\", \"General resource\",\n",
    "                                \"Russian government\", \"General resource\"]\n",
    "source_top"
   ]
  },
  {
   "cell_type": "code",
   "execution_count": null,
   "id": "a1e3b67d",
   "metadata": {},
   "outputs": [],
   "source": [
    "# axes\n",
    "axisY = alt.Axis(grid=True, \n",
    "                 domain=False, \n",
    "                 ticks=False,\n",
    "                 labelAngle = 0,\n",
    "                 labelColor = text_color,\n",
    "                 labelFontSize = text_size,\n",
    "                 labelFontWeight = 400,\n",
    "                 labelFont = font,\n",
    "                 labelPadding = 5,\n",
    "                 titleFont = font,\n",
    "                 titleColor = text_color,\n",
    "                 titleFontSize = text_size-2,\n",
    "                 titleFontWeight = 400,\n",
    "                 )\n",
    "# axes\n",
    "axisX = alt.Axis(grid=False, \n",
    "                 domain=False, \n",
    "                 ticks=False,\n",
    "                 labelAngle =20,\n",
    "                 labelColor = text_color,\n",
    "                 labelFontSize = text_size-2,\n",
    "                 labelFontWeight = 400,\n",
    "                 labelFont = font,\n",
    "                 titleColor = text_color,\n",
    "                 titleFontSize = text_size-2,\n",
    "                 titleFontWeight = 400,\n",
    "                 titleFont = font,\n",
    "                 labelPadding = 5,\n",
    "                 titlePadding = 5\n",
    "                 )\n",
    "domain = [\"Russian government\", \"General resource\"]\n",
    "range_ = ['#d1615d', '#5778a4']\n",
    "\n",
    "hist_added = alt.Chart(source_top, title=\"\").mark_bar().encode(\n",
    "    x=alt.X('web:O', sort=\"-y\", axis=axisX, title=\"\"),\n",
    "    y=alt.Y(\"rate:Q\", axis=axisY, title=\"Rate\"),\n",
    "    color = alt.Color('classification:O', scale=alt.Scale(domain=domain, range=range_), legend=\n",
    "                      alt.Legend(\n",
    "                        orient='none',\n",
    "                        title=\"Added pages types:\", titleAlign=\"center\", titleFont=font, titleColor=text_color,\n",
    "                        legendX=290, legendY=-4, fillColor=\"white\", columns=1, strokeColor=\"gray\", padding=5,\n",
    "                        direction='vertical',\n",
    "                        titleAnchor='middle', labelFontSize=text_size-2, labelFont=font, labelColor = text_color)\n",
    "                     ),\n",
    ").configure_view(\n",
    "    stroke='transparent'\n",
    ").configure_axis(\n",
    "    domainWidth=0.8\n",
    ").configure_title(fontSize=30, \n",
    "                  color = Gray, \n",
    "                  font=font,\n",
    "                  fontWeight = 600,\n",
    "                  anchor = 'start'\n",
    ").properties(width=450, height=100)\n",
    "\n",
    "hist_added"
   ]
  },
  {
   "cell_type": "code",
   "execution_count": 114,
   "id": "269e1669",
   "metadata": {},
   "outputs": [
    {
     "name": "stdout",
     "output_type": "stream",
     "text": [
      "Total number of deleted references:  20891\n",
      "Total number of pages with deleted references:  6095\n",
      "Rating of deleted references:\n"
     ]
    },
    {
     "data": {
      "text/plain": [
       "[('gska2.rada.gov.ua', 1108),\n",
       " ('web.archive.org', 1040),\n",
       " ('sanctions.nazk.gov.ua', 662),\n",
       " ('dialog.ua', 386),\n",
       " ('meduza.io', 336),\n",
       " ('zakon2.rada.gov.ua', 325),\n",
       " ('archive.is', 322),\n",
       " ('bbc.com', 314),\n",
       " ('eur-lex.europa.eu', 243),\n",
       " ('korrespondent.net', 229),\n",
       " ('svoboda.org', 225),\n",
       " ('president.gov.ua', 177),\n",
       " ('rupep.org', 155),\n",
       " ('novayagazeta.ru', 154),\n",
       " ('dw.com', 153),\n",
       " ('zakon5.rada.gov.ua', 147),\n",
       " ('dnr-news.com', 144),\n",
       " ('echo.msk.ru', 136),\n",
       " ('currenttime.tv', 123),\n",
       " ('youtube.com', 113),\n",
       " ('zakon.rada.gov.ua', 108)]"
      ]
     },
     "execution_count": 114,
     "metadata": {},
     "output_type": "execute_result"
    }
   ],
   "source": [
    "total_deleted = np.sum(list(url_references_deleted.values()))\n",
    "print(\"Total number of deleted references: \", total_deleted)\n",
    "print(\"Total number of pages with deleted references: \", n_pages_deleted)\n",
    "\n",
    "print(\"Rating of deleted references:\")\n",
    "url_references_deleted.most_common(21)"
   ]
  },
  {
   "cell_type": "code",
   "execution_count": 115,
   "id": "3fdd756e",
   "metadata": {
    "scrolled": true
   },
   "outputs": [
    {
     "data": {
      "text/html": [
       "<div>\n",
       "<style scoped>\n",
       "    .dataframe tbody tr th:only-of-type {\n",
       "        vertical-align: middle;\n",
       "    }\n",
       "\n",
       "    .dataframe tbody tr th {\n",
       "        vertical-align: top;\n",
       "    }\n",
       "\n",
       "    .dataframe thead th {\n",
       "        text-align: right;\n",
       "    }\n",
       "</style>\n",
       "<table border=\"1\" class=\"dataframe\">\n",
       "  <thead>\n",
       "    <tr style=\"text-align: right;\">\n",
       "      <th></th>\n",
       "      <th>web</th>\n",
       "      <th>count</th>\n",
       "      <th>rate</th>\n",
       "      <th>classification</th>\n",
       "    </tr>\n",
       "  </thead>\n",
       "  <tbody>\n",
       "    <tr>\n",
       "      <th>2</th>\n",
       "      <td>gska2.rada.gov.ua</td>\n",
       "      <td>1108</td>\n",
       "      <td>0.032913</td>\n",
       "      <td>EU/Ukrainian government</td>\n",
       "    </tr>\n",
       "    <tr>\n",
       "      <th>42</th>\n",
       "      <td>sanctions.nazk.gov.ua</td>\n",
       "      <td>662</td>\n",
       "      <td>0.019665</td>\n",
       "      <td>EU/Ukrainian government</td>\n",
       "    </tr>\n",
       "    <tr>\n",
       "      <th>36</th>\n",
       "      <td>dialog.ua</td>\n",
       "      <td>386</td>\n",
       "      <td>0.011466</td>\n",
       "      <td>General resource</td>\n",
       "    </tr>\n",
       "    <tr>\n",
       "      <th>39</th>\n",
       "      <td>meduza.io</td>\n",
       "      <td>336</td>\n",
       "      <td>0.009981</td>\n",
       "      <td>General resource</td>\n",
       "    </tr>\n",
       "    <tr>\n",
       "      <th>1</th>\n",
       "      <td>zakon2.rada.gov.ua</td>\n",
       "      <td>325</td>\n",
       "      <td>0.009654</td>\n",
       "      <td>EU/Ukrainian government</td>\n",
       "    </tr>\n",
       "    <tr>\n",
       "      <th>3</th>\n",
       "      <td>archive.is</td>\n",
       "      <td>322</td>\n",
       "      <td>0.009565</td>\n",
       "      <td>General resource</td>\n",
       "    </tr>\n",
       "    <tr>\n",
       "      <th>73</th>\n",
       "      <td>bbc.com</td>\n",
       "      <td>314</td>\n",
       "      <td>0.009327</td>\n",
       "      <td>General resource</td>\n",
       "    </tr>\n",
       "    <tr>\n",
       "      <th>46</th>\n",
       "      <td>eur-lex.europa.eu</td>\n",
       "      <td>243</td>\n",
       "      <td>0.007218</td>\n",
       "      <td>EU/Ukrainian government</td>\n",
       "    </tr>\n",
       "    <tr>\n",
       "      <th>204</th>\n",
       "      <td>korrespondent.net</td>\n",
       "      <td>229</td>\n",
       "      <td>0.006803</td>\n",
       "      <td>General resource</td>\n",
       "    </tr>\n",
       "    <tr>\n",
       "      <th>165</th>\n",
       "      <td>svoboda.org</td>\n",
       "      <td>225</td>\n",
       "      <td>0.006684</td>\n",
       "      <td>General resource</td>\n",
       "    </tr>\n",
       "  </tbody>\n",
       "</table>\n",
       "</div>"
      ],
      "text/plain": [
       "                       web  count      rate           classification\n",
       "2        gska2.rada.gov.ua   1108  0.032913  EU/Ukrainian government\n",
       "42   sanctions.nazk.gov.ua    662  0.019665  EU/Ukrainian government\n",
       "36               dialog.ua    386  0.011466         General resource\n",
       "39               meduza.io    336  0.009981         General resource\n",
       "1       zakon2.rada.gov.ua    325  0.009654  EU/Ukrainian government\n",
       "3               archive.is    322  0.009565         General resource\n",
       "73                 bbc.com    314  0.009327         General resource\n",
       "46       eur-lex.europa.eu    243  0.007218  EU/Ukrainian government\n",
       "204      korrespondent.net    229  0.006803         General resource\n",
       "165            svoboda.org    225  0.006684         General resource"
      ]
     },
     "execution_count": 115,
     "metadata": {},
     "output_type": "execute_result"
    }
   ],
   "source": [
    "source = pd.DataFrame(url_references_deleted.items())\n",
    "source.columns = [\"web\", \"count\"]\n",
    "source = source[source.web != \"web.archive.org\"]\n",
    "source[\"rate\"] = source[\"count\"] / 33664\n",
    "source_top = source.sort_values(\"rate\", ascending=False)[:10]\n",
    "source_top\n",
    "\n",
    "source_top[\"classification\"] = [\"EU/Ukrainian government\", \"EU/Ukrainian government\",\n",
    "                                \"General resource\", \"General resource\", \n",
    "                                \"EU/Ukrainian government\", \"General resource\",\n",
    "                                \"General resource\", \"EU/Ukrainian government\",\n",
    "                                \"General resource\", \"General resource\"]\n",
    "source_top"
   ]
  },
  {
   "cell_type": "code",
   "execution_count": null,
   "id": "5b9ee983",
   "metadata": {},
   "outputs": [],
   "source": [
    "domain = [\"EU/Ukrainian government\", \"General resource\"]\n",
    "range_ = ['#e49444', '#5778a4']\n",
    "\n",
    "hist_removed = alt.Chart(source_top, title=\"\").mark_bar().encode(\n",
    "    x=alt.X('web:O', sort=\"-y\", axis=axisX, title=\"\"),\n",
    "    y=alt.Y(\"rate:Q\", axis=axisY, title=\"Rate\"),\n",
    "    color = alt.Color('classification:O', scale=alt.Scale(domain=domain, range=range_), legend=\n",
    "                      alt.Legend(\n",
    "                        orient='none',\n",
    "                        title=\"Removed pages types:\", titleAlign=\"center\", titleFont=font, titleColor=text_color,\n",
    "                        legendX=290, legendY=-4, fillColor=\"white\", columns=1, strokeColor=\"gray\", padding=5,\n",
    "                        direction='vertical',\n",
    "                        titleAnchor='middle', labelFontSize=text_size-2, labelFont=font, labelColor = text_color)\n",
    "                     ),\n",
    ").configure_view(\n",
    "    stroke='transparent'\n",
    ").configure_axis(\n",
    "    domainWidth=0.8\n",
    ").configure_title(fontSize=30, \n",
    "                  color = Gray, \n",
    "                  font=font,\n",
    "                  fontWeight = 600,\n",
    "                  anchor = 'start'\n",
    ").properties(width=450, height=100)\n",
    "\n",
    "hist_removed"
   ]
  },
  {
   "cell_type": "markdown",
   "id": "b6606632",
   "metadata": {},
   "source": [
    "# Media Difference: "
   ]
  },
  {
   "cell_type": "code",
   "execution_count": 535,
   "id": "0c259c25",
   "metadata": {},
   "outputs": [],
   "source": [
    "added_media, removed_media = Counter(), Counter()\n",
    "\n",
    "for wiki_features, ruwiki_features in \\\n",
    "    zip(changed_df[\"wiki_features\"].to_list(), changed_df[\"ruwiki_features\"].to_list()):\n",
    "    added_media.update(set(ruwiki_features[\"media\"]) - set(wiki_features[\"media\"]))\n",
    "    removed_media.update(set(wiki_features[\"media\"]) - set(ruwiki_features[\"media\"])) "
   ]
  },
  {
   "cell_type": "code",
   "execution_count": 537,
   "id": "4c37567b",
   "metadata": {},
   "outputs": [
    {
     "data": {
      "text/plain": [
       "499"
      ]
     },
     "execution_count": 537,
     "metadata": {},
     "output_type": "execute_result"
    }
   ],
   "source": [
    "len(added_media)"
   ]
  },
  {
   "cell_type": "code",
   "execution_count": 538,
   "id": "9ce5115e",
   "metadata": {},
   "outputs": [
    {
     "data": {
      "text/plain": [
       "1796"
      ]
     },
     "execution_count": 538,
     "metadata": {},
     "output_type": "execute_result"
    }
   ],
   "source": [
    "len(removed_media)"
   ]
  },
  {
   "cell_type": "code",
   "execution_count": 543,
   "id": "70a82623",
   "metadata": {},
   "outputs": [
    {
     "data": {
      "text/plain": [
       "[('Почесна відзнака «Місто-рятівник».jpg', 7),\n",
       " ('Silicone glans ring.jpg', 4),\n",
       " ('Wiki-cunnilingus.png', 4),\n",
       " ('Lolicon Sample.png', 3),\n",
       " ('Origin-of-the-World.jpg', 3),\n",
       " ('Moscow Pride 2010 (Family).jpg', 3),\n",
       " ('Europe-Ukraine (disputed territory).svg', 3),\n",
       " ('Wiki-anal missionary.png', 3),\n",
       " ('Flag of Donetsk.svg', 3),\n",
       " ('Balanitis on an intact penis.jpg', 3),\n",
       " ('Lesson 1 Private Tutor.jpg', 2),\n",
       " ('BDSM-Paar - Top and Bottom - Europride 2002.jpg', 2),\n",
       " ('Russian plane with bombs shot down over Chernihiv (1).jpg', 2),\n",
       " ('Flag of Russia.svg', 2),\n",
       " ('Volodymyr Zelensky and Donald Trump.jpg', 2)]"
      ]
     },
     "execution_count": 543,
     "metadata": {},
     "output_type": "execute_result"
    }
   ],
   "source": [
    "removed_media.most_common(15)"
   ]
  },
  {
   "cell_type": "code",
   "execution_count": 544,
   "id": "bf83ed6a",
   "metadata": {
    "scrolled": true
   },
   "outputs": [
    {
     "data": {
      "text/plain": [
       "[('Russian Federation (orthographic).svg', 3),\n",
       " ('Платформа Ухтомская (август 2023) (02).jpg', 2),\n",
       " ('Общая энциклопедия наук и искусств в алфавитном порядке, составленная и изданная Й.С. Эршем и Й.Г. Грубером, 1838 год..jpg',\n",
       "  2),\n",
       " ('Damages in Mariupol 2014 - 0136.jpg', 2),\n",
       " ('Mariupol locator map.svg', 2),\n",
       " ('Mariupol City Hall.jpg', 2),\n",
       " ('Flag of Mariupol.svg', 2),\n",
       " ('Damages in Mariupol 2014 - 0131.jpg', 2),\n",
       " ('Damages in Mariupol 2014 - 0129.jpg', 2),\n",
       " ('Mariupol 2007 (20).jpg', 2)]"
      ]
     },
     "execution_count": 544,
     "metadata": {},
     "output_type": "execute_result"
    }
   ],
   "source": [
    "added_media.most_common(10)"
   ]
  },
  {
   "cell_type": "code",
   "execution_count": 545,
   "id": "54d9d057",
   "metadata": {},
   "outputs": [
    {
     "data": {
      "text/html": [
       "<div>\n",
       "<style scoped>\n",
       "    .dataframe tbody tr th:only-of-type {\n",
       "        vertical-align: middle;\n",
       "    }\n",
       "\n",
       "    .dataframe tbody tr th {\n",
       "        vertical-align: top;\n",
       "    }\n",
       "\n",
       "    .dataframe thead th {\n",
       "        text-align: right;\n",
       "    }\n",
       "</style>\n",
       "<table border=\"1\" class=\"dataframe\">\n",
       "  <thead>\n",
       "    <tr style=\"text-align: right;\">\n",
       "      <th></th>\n",
       "      <th>page_name</th>\n",
       "      <th>status</th>\n",
       "      <th>lines_added</th>\n",
       "      <th>lines_deleted</th>\n",
       "      <th>lines_changed</th>\n",
       "      <th>actions</th>\n",
       "      <th>wiki_features</th>\n",
       "      <th>ruwiki_features</th>\n",
       "      <th>parsing_time</th>\n",
       "    </tr>\n",
       "  </thead>\n",
       "  <tbody>\n",
       "    <tr>\n",
       "      <th>0</th>\n",
       "      <td>Сююрю-Кая (пещера)</td>\n",
       "      <td>3</td>\n",
       "      <td>[]</td>\n",
       "      <td>[]</td>\n",
       "      <td>[]</td>\n",
       "      <td>{'change_Argument': 0, 'insert_Argument': 0, '...</td>\n",
       "      <td>{'categories': ['География Бахчисарайского рай...</td>\n",
       "      <td>{'categories': ['География Бахчисарайского рай...</td>\n",
       "      <td>2023-09-19 21:14:12.417969</td>\n",
       "    </tr>\n",
       "    <tr>\n",
       "      <th>1</th>\n",
       "      <td>Новый Свет (Ленинский район)</td>\n",
       "      <td>3</td>\n",
       "      <td>[]</td>\n",
       "      <td>[]</td>\n",
       "      <td>[]</td>\n",
       "      <td>{'change_Argument': 0, 'insert_Argument': 0, '...</td>\n",
       "      <td>{'categories': ['Исчезнувшие населённые пункты...</td>\n",
       "      <td>{'categories': ['Исчезнувшие населённые пункты...</td>\n",
       "      <td>2023-09-19 21:14:12.435584</td>\n",
       "    </tr>\n",
       "    <tr>\n",
       "      <th>2</th>\n",
       "      <td>Педофильское движение</td>\n",
       "      <td>3</td>\n",
       "      <td>[]</td>\n",
       "      <td>[]</td>\n",
       "      <td>[]</td>\n",
       "      <td>{'change_Argument': 0, 'insert_Argument': 0, '...</td>\n",
       "      <td>{'categories': ['Педофилия', 'Общественные дви...</td>\n",
       "      <td>{'categories': ['Педофилия', 'Общественные дви...</td>\n",
       "      <td>2023-09-19 21:14:12.443224</td>\n",
       "    </tr>\n",
       "    <tr>\n",
       "      <th>3</th>\n",
       "      <td>Снитовский сельсовет</td>\n",
       "      <td>3</td>\n",
       "      <td>[]</td>\n",
       "      <td>[]</td>\n",
       "      <td>[]</td>\n",
       "      <td>{'change_Argument': 0, 'insert_Argument': 0, '...</td>\n",
       "      <td>{'categories': ['Упразднённые сельсоветы Ивано...</td>\n",
       "      <td>{'categories': ['Упразднённые сельсоветы Ивано...</td>\n",
       "      <td>2023-09-19 21:14:12.450069</td>\n",
       "    </tr>\n",
       "    <tr>\n",
       "      <th>4</th>\n",
       "      <td>Подлесский сельсовет</td>\n",
       "      <td>3</td>\n",
       "      <td>[]</td>\n",
       "      <td>[]</td>\n",
       "      <td>[]</td>\n",
       "      <td>{'change_Argument': 0, 'insert_Argument': 0, '...</td>\n",
       "      <td>{'categories': ['Упразднённые сельсоветы Ляхов...</td>\n",
       "      <td>{'categories': ['Упразднённые сельсоветы Ляхов...</td>\n",
       "      <td>2023-09-19 21:14:12.457260</td>\n",
       "    </tr>\n",
       "    <tr>\n",
       "      <th>...</th>\n",
       "      <td>...</td>\n",
       "      <td>...</td>\n",
       "      <td>...</td>\n",
       "      <td>...</td>\n",
       "      <td>...</td>\n",
       "      <td>...</td>\n",
       "      <td>...</td>\n",
       "      <td>...</td>\n",
       "      <td>...</td>\n",
       "    </tr>\n",
       "    <tr>\n",
       "      <th>35906</th>\n",
       "      <td>Катунь</td>\n",
       "      <td>4</td>\n",
       "      <td>[Катунь () — одна из крупнейших рек на Алтае, ...</td>\n",
       "      <td>[Длина реки — 688 км, Площадь бассейна — 60 90...</td>\n",
       "      <td>[]</td>\n",
       "      <td>{'change_Argument': 0, 'insert_Argument': 0, '...</td>\n",
       "      <td>{'categories': ['Катунь', 'Притоки Оби', 'Реки...</td>\n",
       "      <td>{'categories': ['Катунь', 'Притоки Оби', 'Реки...</td>\n",
       "      <td>2023-09-19 23:54:51.433589</td>\n",
       "    </tr>\n",
       "    <tr>\n",
       "      <th>35907</th>\n",
       "      <td>Это я — Эдичка</td>\n",
       "      <td>3</td>\n",
       "      <td>[]</td>\n",
       "      <td>[]</td>\n",
       "      <td>[]</td>\n",
       "      <td>{'change_Argument': 0, 'insert_Argument': 0, '...</td>\n",
       "      <td>{'categories': ['Романы Эдуарда Лимонова', 'Ма...</td>\n",
       "      <td>{'categories': ['Романы Эдуарда Лимонова', 'Ма...</td>\n",
       "      <td>2023-09-19 23:54:51.446008</td>\n",
       "    </tr>\n",
       "    <tr>\n",
       "      <th>35908</th>\n",
       "      <td>Склонность (фильм)</td>\n",
       "      <td>3</td>\n",
       "      <td>[]</td>\n",
       "      <td>[]</td>\n",
       "      <td>[]</td>\n",
       "      <td>{'change_Argument': 0, 'insert_Argument': 0, '...</td>\n",
       "      <td>{'categories': ['Фильмы-драмы Великобритании',...</td>\n",
       "      <td>{'categories': ['Фильмы-драмы Великобритании',...</td>\n",
       "      <td>2023-09-19 23:54:51.461387</td>\n",
       "    </tr>\n",
       "    <tr>\n",
       "      <th>35909</th>\n",
       "      <td>Алексеевка (Первомайский район, Крым)</td>\n",
       "      <td>4</td>\n",
       "      <td>[]</td>\n",
       "      <td>[]</td>\n",
       "      <td>[(Алексе́евка (до 1945 года Эски́-Алике́ч ; , ...</td>\n",
       "      <td>{'change_Argument': 0, 'insert_Argument': 0, '...</td>\n",
       "      <td>{'categories': ['Населённые пункты Первомайско...</td>\n",
       "      <td>{'categories': ['Населённые пункты Первомайско...</td>\n",
       "      <td>2023-09-19 23:54:51.554371</td>\n",
       "    </tr>\n",
       "    <tr>\n",
       "      <th>35910</th>\n",
       "      <td>Амангильдино (Абзелиловский район)</td>\n",
       "      <td>3</td>\n",
       "      <td>[]</td>\n",
       "      <td>[]</td>\n",
       "      <td>[]</td>\n",
       "      <td>{'change_Argument': 0, 'insert_Argument': 0, '...</td>\n",
       "      <td>{'categories': ['Населённые пункты Абзелиловск...</td>\n",
       "      <td>{'categories': ['Населённые пункты Абзелиловск...</td>\n",
       "      <td>2023-09-19 23:54:51.566489</td>\n",
       "    </tr>\n",
       "  </tbody>\n",
       "</table>\n",
       "<p>35911 rows × 9 columns</p>\n",
       "</div>"
      ],
      "text/plain": [
       "                                   page_name  status  \\\n",
       "0                         Сююрю-Кая (пещера)       3   \n",
       "1               Новый Свет (Ленинский район)       3   \n",
       "2                      Педофильское движение       3   \n",
       "3                       Снитовский сельсовет       3   \n",
       "4                       Подлесский сельсовет       3   \n",
       "...                                      ...     ...   \n",
       "35906                                 Катунь       4   \n",
       "35907                         Это я — Эдичка       3   \n",
       "35908                     Склонность (фильм)       3   \n",
       "35909  Алексеевка (Первомайский район, Крым)       4   \n",
       "35910     Амангильдино (Абзелиловский район)       3   \n",
       "\n",
       "                                             lines_added  \\\n",
       "0                                                     []   \n",
       "1                                                     []   \n",
       "2                                                     []   \n",
       "3                                                     []   \n",
       "4                                                     []   \n",
       "...                                                  ...   \n",
       "35906  [Катунь () — одна из крупнейших рек на Алтае, ...   \n",
       "35907                                                 []   \n",
       "35908                                                 []   \n",
       "35909                                                 []   \n",
       "35910                                                 []   \n",
       "\n",
       "                                           lines_deleted  \\\n",
       "0                                                     []   \n",
       "1                                                     []   \n",
       "2                                                     []   \n",
       "3                                                     []   \n",
       "4                                                     []   \n",
       "...                                                  ...   \n",
       "35906  [Длина реки — 688 км, Площадь бассейна — 60 90...   \n",
       "35907                                                 []   \n",
       "35908                                                 []   \n",
       "35909                                                 []   \n",
       "35910                                                 []   \n",
       "\n",
       "                                           lines_changed  \\\n",
       "0                                                     []   \n",
       "1                                                     []   \n",
       "2                                                     []   \n",
       "3                                                     []   \n",
       "4                                                     []   \n",
       "...                                                  ...   \n",
       "35906                                                 []   \n",
       "35907                                                 []   \n",
       "35908                                                 []   \n",
       "35909  [(Алексе́евка (до 1945 года Эски́-Алике́ч ; , ...   \n",
       "35910                                                 []   \n",
       "\n",
       "                                                 actions  \\\n",
       "0      {'change_Argument': 0, 'insert_Argument': 0, '...   \n",
       "1      {'change_Argument': 0, 'insert_Argument': 0, '...   \n",
       "2      {'change_Argument': 0, 'insert_Argument': 0, '...   \n",
       "3      {'change_Argument': 0, 'insert_Argument': 0, '...   \n",
       "4      {'change_Argument': 0, 'insert_Argument': 0, '...   \n",
       "...                                                  ...   \n",
       "35906  {'change_Argument': 0, 'insert_Argument': 0, '...   \n",
       "35907  {'change_Argument': 0, 'insert_Argument': 0, '...   \n",
       "35908  {'change_Argument': 0, 'insert_Argument': 0, '...   \n",
       "35909  {'change_Argument': 0, 'insert_Argument': 0, '...   \n",
       "35910  {'change_Argument': 0, 'insert_Argument': 0, '...   \n",
       "\n",
       "                                           wiki_features  \\\n",
       "0      {'categories': ['География Бахчисарайского рай...   \n",
       "1      {'categories': ['Исчезнувшие населённые пункты...   \n",
       "2      {'categories': ['Педофилия', 'Общественные дви...   \n",
       "3      {'categories': ['Упразднённые сельсоветы Ивано...   \n",
       "4      {'categories': ['Упразднённые сельсоветы Ляхов...   \n",
       "...                                                  ...   \n",
       "35906  {'categories': ['Катунь', 'Притоки Оби', 'Реки...   \n",
       "35907  {'categories': ['Романы Эдуарда Лимонова', 'Ма...   \n",
       "35908  {'categories': ['Фильмы-драмы Великобритании',...   \n",
       "35909  {'categories': ['Населённые пункты Первомайско...   \n",
       "35910  {'categories': ['Населённые пункты Абзелиловск...   \n",
       "\n",
       "                                         ruwiki_features  \\\n",
       "0      {'categories': ['География Бахчисарайского рай...   \n",
       "1      {'categories': ['Исчезнувшие населённые пункты...   \n",
       "2      {'categories': ['Педофилия', 'Общественные дви...   \n",
       "3      {'categories': ['Упразднённые сельсоветы Ивано...   \n",
       "4      {'categories': ['Упразднённые сельсоветы Ляхов...   \n",
       "...                                                  ...   \n",
       "35906  {'categories': ['Катунь', 'Притоки Оби', 'Реки...   \n",
       "35907  {'categories': ['Романы Эдуарда Лимонова', 'Ма...   \n",
       "35908  {'categories': ['Фильмы-драмы Великобритании',...   \n",
       "35909  {'categories': ['Населённые пункты Первомайско...   \n",
       "35910  {'categories': ['Населённые пункты Абзелиловск...   \n",
       "\n",
       "                    parsing_time  \n",
       "0     2023-09-19 21:14:12.417969  \n",
       "1     2023-09-19 21:14:12.435584  \n",
       "2     2023-09-19 21:14:12.443224  \n",
       "3     2023-09-19 21:14:12.450069  \n",
       "4     2023-09-19 21:14:12.457260  \n",
       "...                          ...  \n",
       "35906 2023-09-19 23:54:51.433589  \n",
       "35907 2023-09-19 23:54:51.446008  \n",
       "35908 2023-09-19 23:54:51.461387  \n",
       "35909 2023-09-19 23:54:51.554371  \n",
       "35910 2023-09-19 23:54:51.566489  \n",
       "\n",
       "[35911 rows x 9 columns]"
      ]
     },
     "execution_count": 545,
     "metadata": {},
     "output_type": "execute_result"
    }
   ],
   "source": [
    "final_data"
   ]
  },
  {
   "cell_type": "code",
   "execution_count": 547,
   "id": "01b64ebe",
   "metadata": {},
   "outputs": [
    {
     "data": {
      "text/plain": [
       "{'categories': ['География Бахчисарайского района',\n",
       "  'Пещеры в известняках',\n",
       "  'Пещеры Ай-Петринской яйлы'],\n",
       " 'media': ['Сююрю-Кая (пещера).jpg'],\n",
       " 'references': ['<ref>{{Cite web |url=http://www.rgo-speleo.ru/caves/cavelist1989.htm#x4 |title=Перечень классифицированных пещер |access-date=2017-02-28 |archive-date=2020-08-04 |archive-url=https://web.archive.org/web/20200804020253/http://www.rgo-speleo.ru/caves/cavelist1989.htm#x4 |deadlink=no }}</ref>']}"
      ]
     },
     "execution_count": 547,
     "metadata": {},
     "output_type": "execute_result"
    }
   ],
   "source": [
    "final_data[\"wiki_features\"].to_list()[0]"
   ]
  }
 ],
 "metadata": {
  "kernelspec": {
   "display_name": "Python 3 (ipykernel)",
   "language": "python",
   "name": "python3"
  },
  "language_info": {
   "codemirror_mode": {
    "name": "ipython",
    "version": 3
   },
   "file_extension": ".py",
   "mimetype": "text/x-python",
   "name": "python",
   "nbconvert_exporter": "python",
   "pygments_lexer": "ipython3",
   "version": "3.9.13"
  }
 },
 "nbformat": 4,
 "nbformat_minor": 5
}
