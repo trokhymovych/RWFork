{
 "cells": [
  {
   "cell_type": "markdown",
   "id": "ca3ed6f0",
   "metadata": {},
   "source": [
    "### Imports"
   ]
  },
  {
   "cell_type": "code",
   "execution_count": 5,
   "id": "839352fb",
   "metadata": {},
   "outputs": [],
   "source": [
    "import json\n",
    "import pandas as pd\n",
    "import numpy as np\n",
    "import glob\n",
    "from tqdm.auto import tqdm"
   ]
  },
  {
   "cell_type": "code",
   "execution_count": 6,
   "id": "9c9661c7",
   "metadata": {},
   "outputs": [
    {
     "name": "stdout",
     "output_type": "stream",
     "text": [
      "Number of samples: 18514\n",
      "CPU times: user 561 ms, sys: 80.1 ms, total: 641 ms\n",
      "Wall time: 651 ms\n"
     ]
    }
   ],
   "source": [
    "%%time\n",
    "with open('../../data/ru_reveal_text_changes_final_ner.json') as user_file:\n",
    "    ru_reveal_text_changes_ner = json.load(user_file)\n",
    "print(\"Number of samples:\", len(ru_reveal_text_changes_ner))"
   ]
  },
  {
   "cell_type": "code",
   "execution_count": 7,
   "id": "93681b70",
   "metadata": {},
   "outputs": [
    {
     "data": {
      "text/plain": [
       "array([{'page_name': 'Аникеев, Андрей Анатольевич', 'ne_added': [{'text': 'Соединенных Штатов Америки', 'label': 'LOC', 'lemma': 'соединить штат америка'}], 'ne_removed': [{'text': 'Соединенных Штатов Америки', 'label': 'LOC', 'lemma': 'соединить штат америка'}, {'text': 'Кремля', 'label': 'LOC', 'lemma': 'кремль'}, {'text': 'Украины', 'label': 'LOC', 'lemma': 'украина'}, {'text': 'Украины', 'label': 'LOC', 'lemma': 'украина'}, {'text': 'ЕС', 'label': 'LOC', 'lemma': 'ес'}, {'text': 'Великобритании', 'label': 'LOC', 'lemma': 'великобритания'}, {'text': 'США', 'label': 'LOC', 'lemma': 'сша'}, {'text': 'Канады', 'label': 'LOC', 'lemma': 'канада'}, {'text': 'Швейцарии', 'label': 'LOC', 'lemma': 'швейцария'}, {'text': 'Австралии', 'label': 'LOC', 'lemma': 'австралия'}, {'text': 'Японии', 'label': 'LOC', 'lemma': 'япония'}, {'text': 'Украины', 'label': 'LOC', 'lemma': 'украина'}, {'text': 'Новой Зеландии', 'label': 'LOC', 'lemma': 'новый зеландия'}], 'ne_changed': [[[{'text': 'Аникеева', 'label': 'PER', 'lemma': 'аникеев'}, {'text': 'Украины', 'label': 'LOC', 'lemma': 'украина'}], [{'text': 'Аникеева', 'label': 'PER', 'lemma': 'аникеев'}]], [[{'text': 'Украины', 'label': 'LOC', 'lemma': 'украина'}, {'text': 'Владимира Зеленского', 'label': 'PER', 'lemma': 'владимир зеленского'}, {'text': 'Украины', 'label': 'LOC', 'lemma': 'украина'}], [{'text': 'Украины', 'label': 'LOC', 'lemma': 'украина'}]]]},\n",
       "       {'page_name': 'Испанско-украинские отношения', 'ne_added': [], 'ne_removed': [], 'ne_changed': [[[{'text': 'России', 'label': 'LOC', 'lemma': 'россия'}, {'text': 'Украину', 'label': 'LOC', 'lemma': 'украина'}, {'text': 'Испании', 'label': 'LOC', 'lemma': 'испания'}, {'text': 'Киеве', 'label': 'LOC', 'lemma': 'киев'}, {'text': 'Украины', 'label': 'LOC', 'lemma': 'украина'}], [{'text': 'Украине', 'label': 'LOC', 'lemma': 'украина'}, {'text': 'Испании', 'label': 'LOC', 'lemma': 'испания'}, {'text': 'Киеве', 'label': 'LOC', 'lemma': 'киев'}, {'text': 'Украины', 'label': 'LOC', 'lemma': 'украина'}]]]},\n",
       "       {'page_name': 'Марьяновка (Крым)', 'ne_added': [{'text': 'Марьяновка', 'label': 'LOC', 'lemma': 'марьяновка'}, {'text': 'Марьяновского сельского совета', 'label': 'ORG', 'lemma': 'марьяновский сельский совет'}, {'text': 'Автономной Республики Крым', 'label': 'LOC', 'lemma': 'автономный республика крым'}], 'ne_removed': [], 'ne_changed': [[[{'text': 'Красногвардейское', 'label': 'LOC', 'lemma': 'красногвардейское'}, {'text': 'Новоекатериновка', 'label': 'LOC', 'lemma': 'новоекатериновка'}], [{'text': 'Красногвардейское', 'label': 'LOC', 'lemma': 'красногвардейское'}, {'text': 'Новоекатериновка', 'label': 'LOC', 'lemma': 'новоекатериновка'}]], [[{'text': 'Красногвардейском районе', 'label': 'LOC', 'lemma': 'красногвардейский район'}, {'text': 'Крыма', 'label': 'LOC', 'lemma': 'крым'}, {'text': 'Марьяновского сельского поселения', 'label': 'LOC', 'lemma': 'марьяновский сельский поселение'}, {'text': 'Украины', 'label': 'LOC', 'lemma': 'украина'}, {'text': 'Марьяновского сельского совета', 'label': 'ORG', 'lemma': 'марьяновский сельский совет'}, {'text': 'Автономной Республики Крым', 'label': 'LOC', 'lemma': 'автономный республика крым'}], [{'text': 'Красногвардейском районе', 'label': 'LOC', 'lemma': 'красногвардейский район'}, {'text': 'Республики Крым', 'label': 'LOC', 'lemma': 'республика крым'}, {'text': 'Марьяновского сельского поселения', 'label': 'LOC', 'lemma': 'марьяновский сельский поселение'}]]]},\n",
       "       {'page_name': 'Р-330', 'ne_added': [{'text': 'Украине', 'label': 'LOC', 'lemma': 'украина'}], 'ne_removed': [{'text': 'России', 'label': 'LOC', 'lemma': 'россия'}, {'text': 'Украину', 'label': 'LOC', 'lemma': 'украина'}, {'text': 'Борисоглебск-2', 'label': 'PER', 'lemma': 'борисоглебск-2'}, {'text': 'НПК', 'label': 'ORG', 'lemma': 'нпк'}, {'text': 'Вооружённым силам', 'label': 'ORG', 'lemma': 'вооружённый сила'}, {'text': 'Украины', 'label': 'LOC', 'lemma': 'украина'}, {'text': 'Р330Ж', 'label': 'ORG', 'lemma': 'р330ж'}], 'ne_changed': [[[{'text': 'Донецка', 'label': 'LOC', 'lemma': 'донецк'}, {'text': 'ГАХК «Топаз»', 'label': 'ORG', 'lemma': 'гахк \"топаз\"'}, {'text': 'НПК «Искра»', 'label': 'ORG', 'lemma': 'нпк \"искра\"'}], [{'text': 'ГАХК «Топаз»', 'label': 'ORG', 'lemma': 'гахк \"топаз\"'}, {'text': 'НПК «Искра»', 'label': 'ORG', 'lemma': 'нпк \"искра\"'}]]]},\n",
       "       {'page_name': 'Рубиновка (Крым)', 'ne_added': [], 'ne_removed': [], 'ne_changed': [[[{'text': 'Бекказы́', 'label': 'PER', 'lemma': 'бекказы́'}, {'text': 'Джанкойском районе', 'label': 'LOC', 'lemma': 'джанкойском район'}, {'text': 'Республики Крым', 'label': 'LOC', 'lemma': 'республика крым'}, {'text': 'Кондратьевского сельского поселения', 'label': 'LOC', 'lemma': 'кондратьевского сельский поселение'}, {'text': 'Украины', 'label': 'LOC', 'lemma': 'украина'}, {'text': 'Кондратьевского сельского совета', 'label': 'ORG', 'lemma': 'кондратьевского сельский совет'}, {'text': 'Автономной Республики Крым', 'label': 'LOC', 'lemma': 'автономный республика крым'}], [{'text': 'Бекказы́', 'label': 'PER', 'lemma': 'бекказы́'}, {'text': 'Джанкойском районе', 'label': 'LOC', 'lemma': 'джанкойском район'}, {'text': 'Республики Крым', 'label': 'LOC', 'lemma': 'республика крым'}, {'text': 'Кондратьевского сельского поселения', 'label': 'LOC', 'lemma': 'кондратьевского сельский поселение'}]]]}],\n",
       "      dtype=object)"
      ]
     },
     "execution_count": 7,
     "metadata": {},
     "output_type": "execute_result"
    }
   ],
   "source": [
    "np.random.choice(ru_reveal_text_changes_ner, size=5)"
   ]
  },
  {
   "cell_type": "markdown",
   "id": "525e74c2",
   "metadata": {},
   "source": [
    "### Consts"
   ]
  },
  {
   "cell_type": "code",
   "execution_count": 8,
   "id": "520fddde",
   "metadata": {},
   "outputs": [],
   "source": [
    "import joblib\n",
    "\n",
    "path = '../../data/ru_wiki_final_dataset.data'\n",
    "ru_reveal_text_changes = joblib.load(path)"
   ]
  },
  {
   "cell_type": "code",
   "execution_count": 9,
   "id": "889916ae",
   "metadata": {},
   "outputs": [
    {
     "data": {
      "text/plain": [
       "18514"
      ]
     },
     "execution_count": 9,
     "metadata": {},
     "output_type": "execute_result"
    }
   ],
   "source": [
    "i = 0\n",
    "for item in ru_reveal_text_changes:\n",
    "    if item[\"status\"] == 4:\n",
    "        i += 1\n",
    "i"
   ]
  },
  {
   "cell_type": "code",
   "execution_count": 10,
   "id": "585e20d2",
   "metadata": {},
   "outputs": [],
   "source": [
    "TOTAL_CHANGED_ARTICLES = i"
   ]
  },
  {
   "cell_type": "markdown",
   "id": "59feed7a",
   "metadata": {},
   "source": [
    "### Summary Statistics"
   ]
  },
  {
   "cell_type": "code",
   "execution_count": 11,
   "id": "2d805d65",
   "metadata": {},
   "outputs": [
    {
     "data": {
      "text/plain": [
       "18514"
      ]
     },
     "execution_count": 11,
     "metadata": {},
     "output_type": "execute_result"
    }
   ],
   "source": [
    "len(ru_reveal_text_changes_ner)"
   ]
  },
  {
   "cell_type": "code",
   "execution_count": 12,
   "id": "1ac2ac54",
   "metadata": {},
   "outputs": [
    {
     "name": "stdout",
     "output_type": "stream",
     "text": [
      "There are 10608 empty list of added NE. It is 57.3%\n"
     ]
    }
   ],
   "source": [
    "i = 0\n",
    "for item in ru_reveal_text_changes_ner:\n",
    "    if not item[\"ne_added\"]:\n",
    "        i += 1\n",
    "print(f\"There are {i} empty list of added NE. It is {round(i / len(ru_reveal_text_changes_ner) * 100, 2)}%\")"
   ]
  },
  {
   "cell_type": "code",
   "execution_count": 13,
   "id": "0b65174d",
   "metadata": {},
   "outputs": [
    {
     "name": "stdout",
     "output_type": "stream",
     "text": [
      "There are 9045 empty list of removed NE. It is 48.85%\n"
     ]
    }
   ],
   "source": [
    "i = 0\n",
    "for item in ru_reveal_text_changes_ner:\n",
    "    if not item[\"ne_removed\"]:\n",
    "        i += 1\n",
    "print(f\"There are {i} empty list of removed NE. It is {round(i / len(ru_reveal_text_changes_ner) * 100, 2)}%\")"
   ]
  },
  {
   "cell_type": "code",
   "execution_count": 14,
   "id": "008b67d3",
   "metadata": {},
   "outputs": [
    {
     "name": "stdout",
     "output_type": "stream",
     "text": [
      "There are 4038 empty list of changed NE. It is 21.81%\n"
     ]
    }
   ],
   "source": [
    "i = 0\n",
    "for item in ru_reveal_text_changes_ner:\n",
    "    if not item[\"ne_changed\"]:\n",
    "        i += 1\n",
    "print(f\"There are {i} empty list of changed NE. It is {round(i / len(ru_reveal_text_changes_ner) * 100, 2)}%\")"
   ]
  },
  {
   "cell_type": "markdown",
   "id": "a890c8fa",
   "metadata": {},
   "source": [
    "### Final statistics"
   ]
  },
  {
   "cell_type": "code",
   "execution_count": 30,
   "id": "2d8e5a04",
   "metadata": {
    "scrolled": false
   },
   "outputs": [
    {
     "data": {
      "application/vnd.jupyter.widget-view+json": {
       "model_id": "b8767f5585294385a4d92e7462e57cdc",
       "version_major": 2,
       "version_minor": 0
      },
      "text/plain": [
       "  0%|          | 0/18514 [00:00<?, ?it/s]"
      ]
     },
     "metadata": {},
     "output_type": "display_data"
    }
   ],
   "source": [
    "wiki = []\n",
    "\n",
    "# for page in np.random.choice(ru_reveal_text_changes_ner, size=10):\n",
    "for page in tqdm(ru_reveal_text_changes_ner):\n",
    "    # print(page, \"\\n\")\n",
    "    \n",
    "    # extract ne_added\n",
    "    ne_added = []\n",
    "    if page[\"ne_added\"]:\n",
    "        for item in page[\"ne_added\"]:\n",
    "            ne_added.append(item)\n",
    "        \n",
    "    # extract ne_removed\n",
    "    ne_removed = []\n",
    "    if page[\"ne_removed\"]:\n",
    "        for item in page[\"ne_removed\"]:\n",
    "            ne_removed.append(item)\n",
    "                \n",
    "    # extract ne_changed_0 and ne_changed_1\n",
    "    ne_changed_0, ne_changed_1 = [], []\n",
    "    if page[\"ne_changed\"]:\n",
    "        for items in page[\"ne_changed\"]:\n",
    "            ne_changed_0.extend(items[0])\n",
    "            ne_changed_1.extend(items[1])\n",
    "    \n",
    "    ne_wikipedia = ne_removed + ne_changed_0\n",
    "    ne_ruwiki = ne_added + ne_changed_1\n",
    "    \n",
    "    if ne_wikipedia:\n",
    "        ne_wikipedia_df = pd.DataFrame(ne_wikipedia)[[\"lemma\", \"label\"]].drop_duplicates()\n",
    "    else:\n",
    "        ne_wikipedia_df = pd.DataFrame(columns=[\"lemma\", \"label\"])\n",
    "    \n",
    "    if ne_ruwiki:\n",
    "        ne_ruwiki_df = pd.DataFrame(ne_ruwiki)[[\"lemma\", \"label\"]].drop_duplicates()\n",
    "    else:\n",
    "        ne_ruwiki_df = pd.DataFrame(columns=[\"lemma\", \"label\"])\n",
    "    \n",
    "    removed = set(ne_wikipedia_df[\"lemma\"].to_list()) - set(ne_ruwiki_df[\"lemma\"].to_list())\n",
    "    # print(\"Removed:\", removed)\n",
    "    \n",
    "    added = set(ne_ruwiki_df[\"lemma\"].to_list()) - set(ne_wikipedia_df[\"lemma\"].to_list())\n",
    "    # print(\"Added\", added)\n",
    "    \n",
    "    page_results = {\n",
    "        \"page_name\": page[\"page_name\"],\n",
    "        \"removed\": ne_wikipedia_df.loc[ne_wikipedia_df[\"lemma\"].isin(list(removed))].to_dict('records'),\n",
    "        \"added\": ne_ruwiki_df.loc[ne_ruwiki_df[\"lemma\"].isin(list(added))].to_dict('records')\n",
    "    }\n",
    "    \n",
    "    # print(page_results)\n",
    "    # print(\"=\" * 100)\n",
    "    \n",
    "    wiki.append(page_results)"
   ]
  },
  {
   "cell_type": "code",
   "execution_count": 31,
   "id": "2cb05b15",
   "metadata": {},
   "outputs": [
    {
     "data": {
      "text/plain": [
       "18514"
      ]
     },
     "execution_count": 31,
     "metadata": {},
     "output_type": "execute_result"
    }
   ],
   "source": [
    "len(wiki)"
   ]
  },
  {
   "cell_type": "code",
   "execution_count": 32,
   "id": "f793c317",
   "metadata": {},
   "outputs": [
    {
     "data": {
      "text/plain": [
       "72146"
      ]
     },
     "execution_count": 32,
     "metadata": {},
     "output_type": "execute_result"
    }
   ],
   "source": [
    "ner_removed = []\n",
    "for page in wiki:\n",
    "    for item in page[\"removed\"]:\n",
    "        ner_removed.append({\n",
    "            \"page_name\": page[\"page_name\"],\n",
    "            \"lemma\": item[\"lemma\"],\n",
    "            \"label\": item[\"label\"],\n",
    "        })\n",
    "len(ner_removed)"
   ]
  },
  {
   "cell_type": "code",
   "execution_count": 33,
   "id": "f3ec2442",
   "metadata": {},
   "outputs": [
    {
     "data": {
      "text/plain": [
       "41188"
      ]
     },
     "execution_count": 33,
     "metadata": {},
     "output_type": "execute_result"
    }
   ],
   "source": [
    "ner_added = []\n",
    "for page in wiki:\n",
    "    for item in page[\"added\"]:\n",
    "        ner_added.append({\n",
    "            \"page_name\": page[\"page_name\"],\n",
    "            \"lemma\": item[\"lemma\"],\n",
    "            \"label\": item[\"label\"],\n",
    "        })\n",
    "len(ner_added)"
   ]
  },
  {
   "cell_type": "code",
   "execution_count": 34,
   "id": "9f49f925",
   "metadata": {},
   "outputs": [],
   "source": [
    "ner_removed_df = pd.DataFrame(ner_removed)\n",
    "ner_added_df = pd.DataFrame(ner_added)"
   ]
  },
  {
   "cell_type": "code",
   "execution_count": 35,
   "id": "d05825cf",
   "metadata": {},
   "outputs": [
    {
     "data": {
      "text/html": [
       "<div>\n",
       "<style scoped>\n",
       "    .dataframe tbody tr th:only-of-type {\n",
       "        vertical-align: middle;\n",
       "    }\n",
       "\n",
       "    .dataframe tbody tr th {\n",
       "        vertical-align: top;\n",
       "    }\n",
       "\n",
       "    .dataframe thead th {\n",
       "        text-align: right;\n",
       "    }\n",
       "</style>\n",
       "<table border=\"1\" class=\"dataframe\">\n",
       "  <thead>\n",
       "    <tr style=\"text-align: right;\">\n",
       "      <th></th>\n",
       "      <th>page_name</th>\n",
       "      <th>lemma</th>\n",
       "      <th>label</th>\n",
       "    </tr>\n",
       "  </thead>\n",
       "  <tbody>\n",
       "    <tr>\n",
       "      <th>0</th>\n",
       "      <td>Железнодорожный (Нижегородская область)</td>\n",
       "      <td>сбербанк</td>\n",
       "      <td>ORG</td>\n",
       "    </tr>\n",
       "    <tr>\n",
       "      <th>1</th>\n",
       "      <td>Улица Чкалова (Мелитополь)</td>\n",
       "      <td>вулиця чкалова</td>\n",
       "      <td>PER</td>\n",
       "    </tr>\n",
       "    <tr>\n",
       "      <th>2</th>\n",
       "      <td>Чтак, Валерий Сергеевич</td>\n",
       "      <td>галерея \"triangle\"</td>\n",
       "      <td>ORG</td>\n",
       "    </tr>\n",
       "    <tr>\n",
       "      <th>3</th>\n",
       "      <td>Чтак, Валерий Сергеевич</td>\n",
       "      <td>галерея triangle</td>\n",
       "      <td>ORG</td>\n",
       "    </tr>\n",
       "    <tr>\n",
       "      <th>4</th>\n",
       "      <td>Чтак, Валерий Сергеевич</td>\n",
       "      <td>triangle</td>\n",
       "      <td>ORG</td>\n",
       "    </tr>\n",
       "  </tbody>\n",
       "</table>\n",
       "</div>"
      ],
      "text/plain": [
       "                                 page_name               lemma label\n",
       "0  Железнодорожный (Нижегородская область)            сбербанк   ORG\n",
       "1               Улица Чкалова (Мелитополь)      вулиця чкалова   PER\n",
       "2                  Чтак, Валерий Сергеевич  галерея \"triangle\"   ORG\n",
       "3                  Чтак, Валерий Сергеевич    галерея triangle   ORG\n",
       "4                  Чтак, Валерий Сергеевич            triangle   ORG"
      ]
     },
     "execution_count": 35,
     "metadata": {},
     "output_type": "execute_result"
    }
   ],
   "source": [
    "ner_removed_df.head()"
   ]
  },
  {
   "cell_type": "code",
   "execution_count": 36,
   "id": "5b0e3d8a",
   "metadata": {},
   "outputs": [
    {
     "data": {
      "text/html": [
       "<div>\n",
       "<style scoped>\n",
       "    .dataframe tbody tr th:only-of-type {\n",
       "        vertical-align: middle;\n",
       "    }\n",
       "\n",
       "    .dataframe tbody tr th {\n",
       "        vertical-align: top;\n",
       "    }\n",
       "\n",
       "    .dataframe thead th {\n",
       "        text-align: right;\n",
       "    }\n",
       "</style>\n",
       "<table border=\"1\" class=\"dataframe\">\n",
       "  <thead>\n",
       "    <tr style=\"text-align: right;\">\n",
       "      <th></th>\n",
       "      <th>page_name</th>\n",
       "      <th>lemma</th>\n",
       "      <th>label</th>\n",
       "    </tr>\n",
       "  </thead>\n",
       "  <tbody>\n",
       "    <tr>\n",
       "      <th>0</th>\n",
       "      <td>Чтак, Валерий Сергеевич</td>\n",
       "      <td>triangle gallery</td>\n",
       "      <td>ORG</td>\n",
       "    </tr>\n",
       "    <tr>\n",
       "      <th>1</th>\n",
       "      <td>Мирное (Славянский район)</td>\n",
       "      <td>государственный комитет по земельным ресурс</td>\n",
       "      <td>ORG</td>\n",
       "    </tr>\n",
       "    <tr>\n",
       "      <th>2</th>\n",
       "      <td>Мирное (Славянский район)</td>\n",
       "      <td>днр</td>\n",
       "      <td>LOC</td>\n",
       "    </tr>\n",
       "    <tr>\n",
       "      <th>3</th>\n",
       "      <td>Мирное (Славянский район)</td>\n",
       "      <td>донецкий народный республика</td>\n",
       "      <td>LOC</td>\n",
       "    </tr>\n",
       "    <tr>\n",
       "      <th>4</th>\n",
       "      <td>Мирное (Славянский район)</td>\n",
       "      <td>российский федерация</td>\n",
       "      <td>LOC</td>\n",
       "    </tr>\n",
       "  </tbody>\n",
       "</table>\n",
       "</div>"
      ],
      "text/plain": [
       "                   page_name                                        lemma  \\\n",
       "0    Чтак, Валерий Сергеевич                             triangle gallery   \n",
       "1  Мирное (Славянский район)  государственный комитет по земельным ресурс   \n",
       "2  Мирное (Славянский район)                                          днр   \n",
       "3  Мирное (Славянский район)                 донецкий народный республика   \n",
       "4  Мирное (Славянский район)                         российский федерация   \n",
       "\n",
       "  label  \n",
       "0   ORG  \n",
       "1   ORG  \n",
       "2   LOC  \n",
       "3   LOC  \n",
       "4   LOC  "
      ]
     },
     "execution_count": 36,
     "metadata": {},
     "output_type": "execute_result"
    }
   ],
   "source": [
    "ner_added_df.head()"
   ]
  },
  {
   "cell_type": "code",
   "execution_count": 37,
   "id": "824fc4cc",
   "metadata": {
    "scrolled": true
   },
   "outputs": [
    {
     "data": {
      "text/html": [
       "<div>\n",
       "<style scoped>\n",
       "    .dataframe tbody tr th:only-of-type {\n",
       "        vertical-align: middle;\n",
       "    }\n",
       "\n",
       "    .dataframe tbody tr th {\n",
       "        vertical-align: top;\n",
       "    }\n",
       "\n",
       "    .dataframe thead th {\n",
       "        text-align: right;\n",
       "    }\n",
       "</style>\n",
       "<table border=\"1\" class=\"dataframe\">\n",
       "  <thead>\n",
       "    <tr style=\"text-align: right;\">\n",
       "      <th></th>\n",
       "      <th></th>\n",
       "      <th>0</th>\n",
       "    </tr>\n",
       "    <tr>\n",
       "      <th>lemma</th>\n",
       "      <th>label</th>\n",
       "      <th></th>\n",
       "    </tr>\n",
       "  </thead>\n",
       "  <tbody>\n",
       "    <tr>\n",
       "      <th>россия</th>\n",
       "      <th>LOC</th>\n",
       "      <td>22.518094</td>\n",
       "    </tr>\n",
       "    <tr>\n",
       "      <th>украина</th>\n",
       "      <th>LOC</th>\n",
       "      <td>21.367614</td>\n",
       "    </tr>\n",
       "    <tr>\n",
       "      <th>верховный рада</th>\n",
       "      <th>ORG</th>\n",
       "      <td>12.736308</td>\n",
       "    </tr>\n",
       "    <tr>\n",
       "      <th>донецкий область</th>\n",
       "      <th>LOC</th>\n",
       "      <td>4.493897</td>\n",
       "    </tr>\n",
       "    <tr>\n",
       "      <th>рф</th>\n",
       "      <th>LOC</th>\n",
       "      <td>4.488495</td>\n",
       "    </tr>\n",
       "    <tr>\n",
       "      <th>автономный республика крым</th>\n",
       "      <th>LOC</th>\n",
       "      <td>4.385870</td>\n",
       "    </tr>\n",
       "    <tr>\n",
       "      <th>крым</th>\n",
       "      <th>LOC</th>\n",
       "      <td>3.894350</td>\n",
       "    </tr>\n",
       "    <tr>\n",
       "      <th>луганский область</th>\n",
       "      <th>LOC</th>\n",
       "      <td>3.348817</td>\n",
       "    </tr>\n",
       "    <tr>\n",
       "      <th>сша</th>\n",
       "      <th>LOC</th>\n",
       "      <td>2.668251</td>\n",
       "    </tr>\n",
       "    <tr>\n",
       "      <th>великобритания</th>\n",
       "      <th>LOC</th>\n",
       "      <td>2.517014</td>\n",
       "    </tr>\n",
       "  </tbody>\n",
       "</table>\n",
       "</div>"
      ],
      "text/plain": [
       "                                          0\n",
       "lemma                      label           \n",
       "россия                     LOC    22.518094\n",
       "украина                    LOC    21.367614\n",
       "верховный рада             ORG    12.736308\n",
       "донецкий область           LOC     4.493897\n",
       "рф                         LOC     4.488495\n",
       "автономный республика крым LOC     4.385870\n",
       "крым                       LOC     3.894350\n",
       "луганский область          LOC     3.348817\n",
       "сша                        LOC     2.668251\n",
       "великобритания             LOC     2.517014"
      ]
     },
     "execution_count": 37,
     "metadata": {},
     "output_type": "execute_result"
    }
   ],
   "source": [
    "pd.DataFrame(ner_removed_df[[\"lemma\", \"label\"]].value_counts()[:10] / TOTAL_CHANGED_ARTICLES * 100)"
   ]
  },
  {
   "cell_type": "code",
   "execution_count": 38,
   "id": "50dc80d0",
   "metadata": {},
   "outputs": [
    {
     "data": {
      "text/html": [
       "<div>\n",
       "<style scoped>\n",
       "    .dataframe tbody tr th:only-of-type {\n",
       "        vertical-align: middle;\n",
       "    }\n",
       "\n",
       "    .dataframe tbody tr th {\n",
       "        vertical-align: top;\n",
       "    }\n",
       "\n",
       "    .dataframe thead th {\n",
       "        text-align: right;\n",
       "    }\n",
       "</style>\n",
       "<table border=\"1\" class=\"dataframe\">\n",
       "  <thead>\n",
       "    <tr style=\"text-align: right;\">\n",
       "      <th></th>\n",
       "      <th></th>\n",
       "      <th>0</th>\n",
       "    </tr>\n",
       "    <tr>\n",
       "      <th>lemma</th>\n",
       "      <th>label</th>\n",
       "      <th></th>\n",
       "    </tr>\n",
       "  </thead>\n",
       "  <tbody>\n",
       "    <tr>\n",
       "      <th>россия</th>\n",
       "      <th>LOC</th>\n",
       "      <td>4169</td>\n",
       "    </tr>\n",
       "    <tr>\n",
       "      <th>украина</th>\n",
       "      <th>LOC</th>\n",
       "      <td>3956</td>\n",
       "    </tr>\n",
       "    <tr>\n",
       "      <th>верховный рада</th>\n",
       "      <th>ORG</th>\n",
       "      <td>2358</td>\n",
       "    </tr>\n",
       "    <tr>\n",
       "      <th>донецкий область</th>\n",
       "      <th>LOC</th>\n",
       "      <td>832</td>\n",
       "    </tr>\n",
       "    <tr>\n",
       "      <th>рф</th>\n",
       "      <th>LOC</th>\n",
       "      <td>831</td>\n",
       "    </tr>\n",
       "    <tr>\n",
       "      <th>автономный республика крым</th>\n",
       "      <th>LOC</th>\n",
       "      <td>812</td>\n",
       "    </tr>\n",
       "    <tr>\n",
       "      <th>крым</th>\n",
       "      <th>LOC</th>\n",
       "      <td>721</td>\n",
       "    </tr>\n",
       "    <tr>\n",
       "      <th>луганский область</th>\n",
       "      <th>LOC</th>\n",
       "      <td>620</td>\n",
       "    </tr>\n",
       "    <tr>\n",
       "      <th>сша</th>\n",
       "      <th>LOC</th>\n",
       "      <td>494</td>\n",
       "    </tr>\n",
       "    <tr>\n",
       "      <th>великобритания</th>\n",
       "      <th>LOC</th>\n",
       "      <td>466</td>\n",
       "    </tr>\n",
       "  </tbody>\n",
       "</table>\n",
       "</div>"
      ],
      "text/plain": [
       "                                     0\n",
       "lemma                      label      \n",
       "россия                     LOC    4169\n",
       "украина                    LOC    3956\n",
       "верховный рада             ORG    2358\n",
       "донецкий область           LOC     832\n",
       "рф                         LOC     831\n",
       "автономный республика крым LOC     812\n",
       "крым                       LOC     721\n",
       "луганский область          LOC     620\n",
       "сша                        LOC     494\n",
       "великобритания             LOC     466"
      ]
     },
     "execution_count": 38,
     "metadata": {},
     "output_type": "execute_result"
    }
   ],
   "source": [
    "pd.DataFrame(ner_removed_df[[\"lemma\", \"label\"]].value_counts()[:10])"
   ]
  },
  {
   "cell_type": "code",
   "execution_count": 39,
   "id": "ca512f5e",
   "metadata": {},
   "outputs": [
    {
     "data": {
      "text/html": [
       "<div>\n",
       "<style scoped>\n",
       "    .dataframe tbody tr th:only-of-type {\n",
       "        vertical-align: middle;\n",
       "    }\n",
       "\n",
       "    .dataframe tbody tr th {\n",
       "        vertical-align: top;\n",
       "    }\n",
       "\n",
       "    .dataframe thead th {\n",
       "        text-align: right;\n",
       "    }\n",
       "</style>\n",
       "<table border=\"1\" class=\"dataframe\">\n",
       "  <thead>\n",
       "    <tr style=\"text-align: right;\">\n",
       "      <th></th>\n",
       "      <th></th>\n",
       "      <th>0</th>\n",
       "    </tr>\n",
       "    <tr>\n",
       "      <th>lemma</th>\n",
       "      <th>label</th>\n",
       "      <th></th>\n",
       "    </tr>\n",
       "  </thead>\n",
       "  <tbody>\n",
       "    <tr>\n",
       "      <th>российский федерация</th>\n",
       "      <th>LOC</th>\n",
       "      <td>22.291239</td>\n",
       "    </tr>\n",
       "    <tr>\n",
       "      <th>донецкий народный республика</th>\n",
       "      <th>LOC</th>\n",
       "      <td>8.631306</td>\n",
       "    </tr>\n",
       "    <tr>\n",
       "      <th>днр</th>\n",
       "      <th>LOC</th>\n",
       "      <td>6.000864</td>\n",
       "    </tr>\n",
       "    <tr>\n",
       "      <th>луганский народный республика</th>\n",
       "      <th>LOC</th>\n",
       "      <td>5.941450</td>\n",
       "    </tr>\n",
       "    <tr>\n",
       "      <th>украина</th>\n",
       "      <th>LOC</th>\n",
       "      <td>5.768608</td>\n",
       "    </tr>\n",
       "    <tr>\n",
       "      <th>лнр</th>\n",
       "      <th>LOC</th>\n",
       "      <td>4.747758</td>\n",
       "    </tr>\n",
       "    <tr>\n",
       "      <th>россия</th>\n",
       "      <th>LOC</th>\n",
       "      <td>3.375824</td>\n",
       "    </tr>\n",
       "    <tr>\n",
       "      <th>республика крым</th>\n",
       "      <th>LOC</th>\n",
       "      <td>1.804040</td>\n",
       "    </tr>\n",
       "    <tr>\n",
       "      <th>рф</th>\n",
       "      <th>LOC</th>\n",
       "      <td>0.950632</td>\n",
       "    </tr>\n",
       "    <tr>\n",
       "      <th>сша</th>\n",
       "      <th>LOC</th>\n",
       "      <td>0.842606</td>\n",
       "    </tr>\n",
       "  </tbody>\n",
       "</table>\n",
       "</div>"
      ],
      "text/plain": [
       "                                             0\n",
       "lemma                         label           \n",
       "российский федерация          LOC    22.291239\n",
       "донецкий народный республика  LOC     8.631306\n",
       "днр                           LOC     6.000864\n",
       "луганский народный республика LOC     5.941450\n",
       "украина                       LOC     5.768608\n",
       "лнр                           LOC     4.747758\n",
       "россия                        LOC     3.375824\n",
       "республика крым               LOC     1.804040\n",
       "рф                            LOC     0.950632\n",
       "сша                           LOC     0.842606"
      ]
     },
     "execution_count": 39,
     "metadata": {},
     "output_type": "execute_result"
    }
   ],
   "source": [
    "pd.DataFrame(ner_added_df[[\"lemma\", \"label\"]].value_counts()[:10] / TOTAL_CHANGED_ARTICLES * 100)"
   ]
  },
  {
   "cell_type": "code",
   "execution_count": 40,
   "id": "49128fcd",
   "metadata": {},
   "outputs": [
    {
     "data": {
      "text/html": [
       "<div>\n",
       "<style scoped>\n",
       "    .dataframe tbody tr th:only-of-type {\n",
       "        vertical-align: middle;\n",
       "    }\n",
       "\n",
       "    .dataframe tbody tr th {\n",
       "        vertical-align: top;\n",
       "    }\n",
       "\n",
       "    .dataframe thead th {\n",
       "        text-align: right;\n",
       "    }\n",
       "</style>\n",
       "<table border=\"1\" class=\"dataframe\">\n",
       "  <thead>\n",
       "    <tr style=\"text-align: right;\">\n",
       "      <th></th>\n",
       "      <th></th>\n",
       "      <th>0</th>\n",
       "    </tr>\n",
       "    <tr>\n",
       "      <th>lemma</th>\n",
       "      <th>label</th>\n",
       "      <th></th>\n",
       "    </tr>\n",
       "  </thead>\n",
       "  <tbody>\n",
       "    <tr>\n",
       "      <th>российский федерация</th>\n",
       "      <th>LOC</th>\n",
       "      <td>4127</td>\n",
       "    </tr>\n",
       "    <tr>\n",
       "      <th>донецкий народный республика</th>\n",
       "      <th>LOC</th>\n",
       "      <td>1598</td>\n",
       "    </tr>\n",
       "    <tr>\n",
       "      <th>днр</th>\n",
       "      <th>LOC</th>\n",
       "      <td>1111</td>\n",
       "    </tr>\n",
       "    <tr>\n",
       "      <th>луганский народный республика</th>\n",
       "      <th>LOC</th>\n",
       "      <td>1100</td>\n",
       "    </tr>\n",
       "    <tr>\n",
       "      <th>украина</th>\n",
       "      <th>LOC</th>\n",
       "      <td>1068</td>\n",
       "    </tr>\n",
       "    <tr>\n",
       "      <th>лнр</th>\n",
       "      <th>LOC</th>\n",
       "      <td>879</td>\n",
       "    </tr>\n",
       "    <tr>\n",
       "      <th>россия</th>\n",
       "      <th>LOC</th>\n",
       "      <td>625</td>\n",
       "    </tr>\n",
       "    <tr>\n",
       "      <th>республика крым</th>\n",
       "      <th>LOC</th>\n",
       "      <td>334</td>\n",
       "    </tr>\n",
       "    <tr>\n",
       "      <th>рф</th>\n",
       "      <th>LOC</th>\n",
       "      <td>176</td>\n",
       "    </tr>\n",
       "    <tr>\n",
       "      <th>сша</th>\n",
       "      <th>LOC</th>\n",
       "      <td>156</td>\n",
       "    </tr>\n",
       "  </tbody>\n",
       "</table>\n",
       "</div>"
      ],
      "text/plain": [
       "                                        0\n",
       "lemma                         label      \n",
       "российский федерация          LOC    4127\n",
       "донецкий народный республика  LOC    1598\n",
       "днр                           LOC    1111\n",
       "луганский народный республика LOC    1100\n",
       "украина                       LOC    1068\n",
       "лнр                           LOC     879\n",
       "россия                        LOC     625\n",
       "республика крым               LOC     334\n",
       "рф                            LOC     176\n",
       "сша                           LOC     156"
      ]
     },
     "execution_count": 40,
     "metadata": {},
     "output_type": "execute_result"
    }
   ],
   "source": [
    "pd.DataFrame(ner_added_df[[\"lemma\", \"label\"]].value_counts()[:10])"
   ]
  }
 ],
 "metadata": {
  "kernelspec": {
   "display_name": "Python 3 (ipykernel)",
   "language": "python",
   "name": "python3"
  },
  "language_info": {
   "codemirror_mode": {
    "name": "ipython",
    "version": 3
   },
   "file_extension": ".py",
   "mimetype": "text/x-python",
   "name": "python",
   "nbconvert_exporter": "python",
   "pygments_lexer": "ipython3",
   "version": "3.9.13"
  }
 },
 "nbformat": 4,
 "nbformat_minor": 5
}
